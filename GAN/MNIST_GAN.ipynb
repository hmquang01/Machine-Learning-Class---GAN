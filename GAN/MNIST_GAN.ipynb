{
  "nbformat": 4,
  "nbformat_minor": 0,
  "metadata": {
    "kernelspec": {
      "display_name": "Python 3",
      "language": "python",
      "name": "python3"
    },
    "language_info": {
      "codemirror_mode": {
        "name": "ipython",
        "version": 3
      },
      "file_extension": ".py",
      "mimetype": "text/x-python",
      "name": "python",
      "nbconvert_exporter": "python",
      "pygments_lexer": "ipython3",
      "version": "3.7.3"
    },
    "colab": {
      "name": "MNIST_GAN.ipynb",
      "provenance": [],
      "collapsed_sections": []
    },
    "widgets": {
      "application/vnd.jupyter.widget-state+json": {
        "5120083fe17143188be5ec978c630e09": {
          "model_module": "@jupyter-widgets/controls",
          "model_name": "HBoxModel",
          "model_module_version": "1.5.0",
          "state": {
            "_view_name": "HBoxView",
            "_dom_classes": [],
            "_model_name": "HBoxModel",
            "_view_module": "@jupyter-widgets/controls",
            "_model_module_version": "1.5.0",
            "_view_count": null,
            "_view_module_version": "1.5.0",
            "box_style": "",
            "layout": "IPY_MODEL_4e8c7de82e1c47b38e97b613d9752285",
            "_model_module": "@jupyter-widgets/controls",
            "children": [
              "IPY_MODEL_f0024bef0f3d42f3b966cf8d547238de",
              "IPY_MODEL_8ee8fc4c58734e24aabee5c2d86c770c",
              "IPY_MODEL_d7a0bb4c051a4039b661891a81418d80"
            ]
          }
        },
        "4e8c7de82e1c47b38e97b613d9752285": {
          "model_module": "@jupyter-widgets/base",
          "model_name": "LayoutModel",
          "model_module_version": "1.2.0",
          "state": {
            "_view_name": "LayoutView",
            "grid_template_rows": null,
            "right": null,
            "justify_content": null,
            "_view_module": "@jupyter-widgets/base",
            "overflow": null,
            "_model_module_version": "1.2.0",
            "_view_count": null,
            "flex_flow": null,
            "width": null,
            "min_width": null,
            "border": null,
            "align_items": null,
            "bottom": null,
            "_model_module": "@jupyter-widgets/base",
            "top": null,
            "grid_column": null,
            "overflow_y": null,
            "overflow_x": null,
            "grid_auto_flow": null,
            "grid_area": null,
            "grid_template_columns": null,
            "flex": null,
            "_model_name": "LayoutModel",
            "justify_items": null,
            "grid_row": null,
            "max_height": null,
            "align_content": null,
            "visibility": null,
            "align_self": null,
            "height": null,
            "min_height": null,
            "padding": null,
            "grid_auto_rows": null,
            "grid_gap": null,
            "max_width": null,
            "order": null,
            "_view_module_version": "1.2.0",
            "grid_template_areas": null,
            "object_position": null,
            "object_fit": null,
            "grid_auto_columns": null,
            "margin": null,
            "display": null,
            "left": null
          }
        },
        "f0024bef0f3d42f3b966cf8d547238de": {
          "model_module": "@jupyter-widgets/controls",
          "model_name": "HTMLModel",
          "model_module_version": "1.5.0",
          "state": {
            "_view_name": "HTMLView",
            "style": "IPY_MODEL_aef8264ec3bb4e438bc1d4815c698967",
            "_dom_classes": [],
            "description": "",
            "_model_name": "HTMLModel",
            "placeholder": "​",
            "_view_module": "@jupyter-widgets/controls",
            "_model_module_version": "1.5.0",
            "value": "",
            "_view_count": null,
            "_view_module_version": "1.5.0",
            "description_tooltip": null,
            "_model_module": "@jupyter-widgets/controls",
            "layout": "IPY_MODEL_ea7468772f934c85b0562b2d4267e9f9"
          }
        },
        "8ee8fc4c58734e24aabee5c2d86c770c": {
          "model_module": "@jupyter-widgets/controls",
          "model_name": "FloatProgressModel",
          "model_module_version": "1.5.0",
          "state": {
            "_view_name": "ProgressView",
            "style": "IPY_MODEL_a7e5f04421b6411384d2ffdd2a351d62",
            "_dom_classes": [],
            "description": "",
            "_model_name": "FloatProgressModel",
            "bar_style": "success",
            "max": 9912422,
            "_view_module": "@jupyter-widgets/controls",
            "_model_module_version": "1.5.0",
            "value": 9912422,
            "_view_count": null,
            "_view_module_version": "1.5.0",
            "orientation": "horizontal",
            "min": 0,
            "description_tooltip": null,
            "_model_module": "@jupyter-widgets/controls",
            "layout": "IPY_MODEL_edc77bab7eeb47c5a2a90f49f688c87b"
          }
        },
        "d7a0bb4c051a4039b661891a81418d80": {
          "model_module": "@jupyter-widgets/controls",
          "model_name": "HTMLModel",
          "model_module_version": "1.5.0",
          "state": {
            "_view_name": "HTMLView",
            "style": "IPY_MODEL_6d7dd94de83a4d4884273be11131084e",
            "_dom_classes": [],
            "description": "",
            "_model_name": "HTMLModel",
            "placeholder": "​",
            "_view_module": "@jupyter-widgets/controls",
            "_model_module_version": "1.5.0",
            "value": " 9913344/? [00:00&lt;00:00, 19898802.81it/s]",
            "_view_count": null,
            "_view_module_version": "1.5.0",
            "description_tooltip": null,
            "_model_module": "@jupyter-widgets/controls",
            "layout": "IPY_MODEL_7c26dc7ee523450cb3bdd38b2af5e085"
          }
        },
        "aef8264ec3bb4e438bc1d4815c698967": {
          "model_module": "@jupyter-widgets/controls",
          "model_name": "DescriptionStyleModel",
          "model_module_version": "1.5.0",
          "state": {
            "_view_name": "StyleView",
            "_model_name": "DescriptionStyleModel",
            "description_width": "",
            "_view_module": "@jupyter-widgets/base",
            "_model_module_version": "1.5.0",
            "_view_count": null,
            "_view_module_version": "1.2.0",
            "_model_module": "@jupyter-widgets/controls"
          }
        },
        "ea7468772f934c85b0562b2d4267e9f9": {
          "model_module": "@jupyter-widgets/base",
          "model_name": "LayoutModel",
          "model_module_version": "1.2.0",
          "state": {
            "_view_name": "LayoutView",
            "grid_template_rows": null,
            "right": null,
            "justify_content": null,
            "_view_module": "@jupyter-widgets/base",
            "overflow": null,
            "_model_module_version": "1.2.0",
            "_view_count": null,
            "flex_flow": null,
            "width": null,
            "min_width": null,
            "border": null,
            "align_items": null,
            "bottom": null,
            "_model_module": "@jupyter-widgets/base",
            "top": null,
            "grid_column": null,
            "overflow_y": null,
            "overflow_x": null,
            "grid_auto_flow": null,
            "grid_area": null,
            "grid_template_columns": null,
            "flex": null,
            "_model_name": "LayoutModel",
            "justify_items": null,
            "grid_row": null,
            "max_height": null,
            "align_content": null,
            "visibility": null,
            "align_self": null,
            "height": null,
            "min_height": null,
            "padding": null,
            "grid_auto_rows": null,
            "grid_gap": null,
            "max_width": null,
            "order": null,
            "_view_module_version": "1.2.0",
            "grid_template_areas": null,
            "object_position": null,
            "object_fit": null,
            "grid_auto_columns": null,
            "margin": null,
            "display": null,
            "left": null
          }
        },
        "a7e5f04421b6411384d2ffdd2a351d62": {
          "model_module": "@jupyter-widgets/controls",
          "model_name": "ProgressStyleModel",
          "model_module_version": "1.5.0",
          "state": {
            "_view_name": "StyleView",
            "_model_name": "ProgressStyleModel",
            "description_width": "",
            "_view_module": "@jupyter-widgets/base",
            "_model_module_version": "1.5.0",
            "_view_count": null,
            "_view_module_version": "1.2.0",
            "bar_color": null,
            "_model_module": "@jupyter-widgets/controls"
          }
        },
        "edc77bab7eeb47c5a2a90f49f688c87b": {
          "model_module": "@jupyter-widgets/base",
          "model_name": "LayoutModel",
          "model_module_version": "1.2.0",
          "state": {
            "_view_name": "LayoutView",
            "grid_template_rows": null,
            "right": null,
            "justify_content": null,
            "_view_module": "@jupyter-widgets/base",
            "overflow": null,
            "_model_module_version": "1.2.0",
            "_view_count": null,
            "flex_flow": null,
            "width": null,
            "min_width": null,
            "border": null,
            "align_items": null,
            "bottom": null,
            "_model_module": "@jupyter-widgets/base",
            "top": null,
            "grid_column": null,
            "overflow_y": null,
            "overflow_x": null,
            "grid_auto_flow": null,
            "grid_area": null,
            "grid_template_columns": null,
            "flex": null,
            "_model_name": "LayoutModel",
            "justify_items": null,
            "grid_row": null,
            "max_height": null,
            "align_content": null,
            "visibility": null,
            "align_self": null,
            "height": null,
            "min_height": null,
            "padding": null,
            "grid_auto_rows": null,
            "grid_gap": null,
            "max_width": null,
            "order": null,
            "_view_module_version": "1.2.0",
            "grid_template_areas": null,
            "object_position": null,
            "object_fit": null,
            "grid_auto_columns": null,
            "margin": null,
            "display": null,
            "left": null
          }
        },
        "6d7dd94de83a4d4884273be11131084e": {
          "model_module": "@jupyter-widgets/controls",
          "model_name": "DescriptionStyleModel",
          "model_module_version": "1.5.0",
          "state": {
            "_view_name": "StyleView",
            "_model_name": "DescriptionStyleModel",
            "description_width": "",
            "_view_module": "@jupyter-widgets/base",
            "_model_module_version": "1.5.0",
            "_view_count": null,
            "_view_module_version": "1.2.0",
            "_model_module": "@jupyter-widgets/controls"
          }
        },
        "7c26dc7ee523450cb3bdd38b2af5e085": {
          "model_module": "@jupyter-widgets/base",
          "model_name": "LayoutModel",
          "model_module_version": "1.2.0",
          "state": {
            "_view_name": "LayoutView",
            "grid_template_rows": null,
            "right": null,
            "justify_content": null,
            "_view_module": "@jupyter-widgets/base",
            "overflow": null,
            "_model_module_version": "1.2.0",
            "_view_count": null,
            "flex_flow": null,
            "width": null,
            "min_width": null,
            "border": null,
            "align_items": null,
            "bottom": null,
            "_model_module": "@jupyter-widgets/base",
            "top": null,
            "grid_column": null,
            "overflow_y": null,
            "overflow_x": null,
            "grid_auto_flow": null,
            "grid_area": null,
            "grid_template_columns": null,
            "flex": null,
            "_model_name": "LayoutModel",
            "justify_items": null,
            "grid_row": null,
            "max_height": null,
            "align_content": null,
            "visibility": null,
            "align_self": null,
            "height": null,
            "min_height": null,
            "padding": null,
            "grid_auto_rows": null,
            "grid_gap": null,
            "max_width": null,
            "order": null,
            "_view_module_version": "1.2.0",
            "grid_template_areas": null,
            "object_position": null,
            "object_fit": null,
            "grid_auto_columns": null,
            "margin": null,
            "display": null,
            "left": null
          }
        },
        "f136f99296a74c419f7e83da3c0c201e": {
          "model_module": "@jupyter-widgets/controls",
          "model_name": "HBoxModel",
          "model_module_version": "1.5.0",
          "state": {
            "_view_name": "HBoxView",
            "_dom_classes": [],
            "_model_name": "HBoxModel",
            "_view_module": "@jupyter-widgets/controls",
            "_model_module_version": "1.5.0",
            "_view_count": null,
            "_view_module_version": "1.5.0",
            "box_style": "",
            "layout": "IPY_MODEL_acd4b5c2ca42459eb7d757e2677d2f00",
            "_model_module": "@jupyter-widgets/controls",
            "children": [
              "IPY_MODEL_5140ee1a43b1488ea34515e3e1933e54",
              "IPY_MODEL_1a64174efd5c4c9fb698657ebd0f3958",
              "IPY_MODEL_91570bfd8b524ab589b47e056cb0f4d1"
            ]
          }
        },
        "acd4b5c2ca42459eb7d757e2677d2f00": {
          "model_module": "@jupyter-widgets/base",
          "model_name": "LayoutModel",
          "model_module_version": "1.2.0",
          "state": {
            "_view_name": "LayoutView",
            "grid_template_rows": null,
            "right": null,
            "justify_content": null,
            "_view_module": "@jupyter-widgets/base",
            "overflow": null,
            "_model_module_version": "1.2.0",
            "_view_count": null,
            "flex_flow": null,
            "width": null,
            "min_width": null,
            "border": null,
            "align_items": null,
            "bottom": null,
            "_model_module": "@jupyter-widgets/base",
            "top": null,
            "grid_column": null,
            "overflow_y": null,
            "overflow_x": null,
            "grid_auto_flow": null,
            "grid_area": null,
            "grid_template_columns": null,
            "flex": null,
            "_model_name": "LayoutModel",
            "justify_items": null,
            "grid_row": null,
            "max_height": null,
            "align_content": null,
            "visibility": null,
            "align_self": null,
            "height": null,
            "min_height": null,
            "padding": null,
            "grid_auto_rows": null,
            "grid_gap": null,
            "max_width": null,
            "order": null,
            "_view_module_version": "1.2.0",
            "grid_template_areas": null,
            "object_position": null,
            "object_fit": null,
            "grid_auto_columns": null,
            "margin": null,
            "display": null,
            "left": null
          }
        },
        "5140ee1a43b1488ea34515e3e1933e54": {
          "model_module": "@jupyter-widgets/controls",
          "model_name": "HTMLModel",
          "model_module_version": "1.5.0",
          "state": {
            "_view_name": "HTMLView",
            "style": "IPY_MODEL_dd8a8a838ec8452e9db66bb2087aa345",
            "_dom_classes": [],
            "description": "",
            "_model_name": "HTMLModel",
            "placeholder": "​",
            "_view_module": "@jupyter-widgets/controls",
            "_model_module_version": "1.5.0",
            "value": "",
            "_view_count": null,
            "_view_module_version": "1.5.0",
            "description_tooltip": null,
            "_model_module": "@jupyter-widgets/controls",
            "layout": "IPY_MODEL_cb61f77550c04d29b29598289a160671"
          }
        },
        "1a64174efd5c4c9fb698657ebd0f3958": {
          "model_module": "@jupyter-widgets/controls",
          "model_name": "FloatProgressModel",
          "model_module_version": "1.5.0",
          "state": {
            "_view_name": "ProgressView",
            "style": "IPY_MODEL_9d7685778f484d8f9cb45f7892354302",
            "_dom_classes": [],
            "description": "",
            "_model_name": "FloatProgressModel",
            "bar_style": "success",
            "max": 28881,
            "_view_module": "@jupyter-widgets/controls",
            "_model_module_version": "1.5.0",
            "value": 28881,
            "_view_count": null,
            "_view_module_version": "1.5.0",
            "orientation": "horizontal",
            "min": 0,
            "description_tooltip": null,
            "_model_module": "@jupyter-widgets/controls",
            "layout": "IPY_MODEL_cbea805d900641fc8f26a6b371414200"
          }
        },
        "91570bfd8b524ab589b47e056cb0f4d1": {
          "model_module": "@jupyter-widgets/controls",
          "model_name": "HTMLModel",
          "model_module_version": "1.5.0",
          "state": {
            "_view_name": "HTMLView",
            "style": "IPY_MODEL_88b198ac2ddd4910b255c968452affcd",
            "_dom_classes": [],
            "description": "",
            "_model_name": "HTMLModel",
            "placeholder": "​",
            "_view_module": "@jupyter-widgets/controls",
            "_model_module_version": "1.5.0",
            "value": " 29696/? [00:00&lt;00:00, 582621.79it/s]",
            "_view_count": null,
            "_view_module_version": "1.5.0",
            "description_tooltip": null,
            "_model_module": "@jupyter-widgets/controls",
            "layout": "IPY_MODEL_7502853fe3b74f41bae6e48ec126dbb2"
          }
        },
        "dd8a8a838ec8452e9db66bb2087aa345": {
          "model_module": "@jupyter-widgets/controls",
          "model_name": "DescriptionStyleModel",
          "model_module_version": "1.5.0",
          "state": {
            "_view_name": "StyleView",
            "_model_name": "DescriptionStyleModel",
            "description_width": "",
            "_view_module": "@jupyter-widgets/base",
            "_model_module_version": "1.5.0",
            "_view_count": null,
            "_view_module_version": "1.2.0",
            "_model_module": "@jupyter-widgets/controls"
          }
        },
        "cb61f77550c04d29b29598289a160671": {
          "model_module": "@jupyter-widgets/base",
          "model_name": "LayoutModel",
          "model_module_version": "1.2.0",
          "state": {
            "_view_name": "LayoutView",
            "grid_template_rows": null,
            "right": null,
            "justify_content": null,
            "_view_module": "@jupyter-widgets/base",
            "overflow": null,
            "_model_module_version": "1.2.0",
            "_view_count": null,
            "flex_flow": null,
            "width": null,
            "min_width": null,
            "border": null,
            "align_items": null,
            "bottom": null,
            "_model_module": "@jupyter-widgets/base",
            "top": null,
            "grid_column": null,
            "overflow_y": null,
            "overflow_x": null,
            "grid_auto_flow": null,
            "grid_area": null,
            "grid_template_columns": null,
            "flex": null,
            "_model_name": "LayoutModel",
            "justify_items": null,
            "grid_row": null,
            "max_height": null,
            "align_content": null,
            "visibility": null,
            "align_self": null,
            "height": null,
            "min_height": null,
            "padding": null,
            "grid_auto_rows": null,
            "grid_gap": null,
            "max_width": null,
            "order": null,
            "_view_module_version": "1.2.0",
            "grid_template_areas": null,
            "object_position": null,
            "object_fit": null,
            "grid_auto_columns": null,
            "margin": null,
            "display": null,
            "left": null
          }
        },
        "9d7685778f484d8f9cb45f7892354302": {
          "model_module": "@jupyter-widgets/controls",
          "model_name": "ProgressStyleModel",
          "model_module_version": "1.5.0",
          "state": {
            "_view_name": "StyleView",
            "_model_name": "ProgressStyleModel",
            "description_width": "",
            "_view_module": "@jupyter-widgets/base",
            "_model_module_version": "1.5.0",
            "_view_count": null,
            "_view_module_version": "1.2.0",
            "bar_color": null,
            "_model_module": "@jupyter-widgets/controls"
          }
        },
        "cbea805d900641fc8f26a6b371414200": {
          "model_module": "@jupyter-widgets/base",
          "model_name": "LayoutModel",
          "model_module_version": "1.2.0",
          "state": {
            "_view_name": "LayoutView",
            "grid_template_rows": null,
            "right": null,
            "justify_content": null,
            "_view_module": "@jupyter-widgets/base",
            "overflow": null,
            "_model_module_version": "1.2.0",
            "_view_count": null,
            "flex_flow": null,
            "width": null,
            "min_width": null,
            "border": null,
            "align_items": null,
            "bottom": null,
            "_model_module": "@jupyter-widgets/base",
            "top": null,
            "grid_column": null,
            "overflow_y": null,
            "overflow_x": null,
            "grid_auto_flow": null,
            "grid_area": null,
            "grid_template_columns": null,
            "flex": null,
            "_model_name": "LayoutModel",
            "justify_items": null,
            "grid_row": null,
            "max_height": null,
            "align_content": null,
            "visibility": null,
            "align_self": null,
            "height": null,
            "min_height": null,
            "padding": null,
            "grid_auto_rows": null,
            "grid_gap": null,
            "max_width": null,
            "order": null,
            "_view_module_version": "1.2.0",
            "grid_template_areas": null,
            "object_position": null,
            "object_fit": null,
            "grid_auto_columns": null,
            "margin": null,
            "display": null,
            "left": null
          }
        },
        "88b198ac2ddd4910b255c968452affcd": {
          "model_module": "@jupyter-widgets/controls",
          "model_name": "DescriptionStyleModel",
          "model_module_version": "1.5.0",
          "state": {
            "_view_name": "StyleView",
            "_model_name": "DescriptionStyleModel",
            "description_width": "",
            "_view_module": "@jupyter-widgets/base",
            "_model_module_version": "1.5.0",
            "_view_count": null,
            "_view_module_version": "1.2.0",
            "_model_module": "@jupyter-widgets/controls"
          }
        },
        "7502853fe3b74f41bae6e48ec126dbb2": {
          "model_module": "@jupyter-widgets/base",
          "model_name": "LayoutModel",
          "model_module_version": "1.2.0",
          "state": {
            "_view_name": "LayoutView",
            "grid_template_rows": null,
            "right": null,
            "justify_content": null,
            "_view_module": "@jupyter-widgets/base",
            "overflow": null,
            "_model_module_version": "1.2.0",
            "_view_count": null,
            "flex_flow": null,
            "width": null,
            "min_width": null,
            "border": null,
            "align_items": null,
            "bottom": null,
            "_model_module": "@jupyter-widgets/base",
            "top": null,
            "grid_column": null,
            "overflow_y": null,
            "overflow_x": null,
            "grid_auto_flow": null,
            "grid_area": null,
            "grid_template_columns": null,
            "flex": null,
            "_model_name": "LayoutModel",
            "justify_items": null,
            "grid_row": null,
            "max_height": null,
            "align_content": null,
            "visibility": null,
            "align_self": null,
            "height": null,
            "min_height": null,
            "padding": null,
            "grid_auto_rows": null,
            "grid_gap": null,
            "max_width": null,
            "order": null,
            "_view_module_version": "1.2.0",
            "grid_template_areas": null,
            "object_position": null,
            "object_fit": null,
            "grid_auto_columns": null,
            "margin": null,
            "display": null,
            "left": null
          }
        },
        "35287d0af7bc473f8b775c5fcfbd9b73": {
          "model_module": "@jupyter-widgets/controls",
          "model_name": "HBoxModel",
          "model_module_version": "1.5.0",
          "state": {
            "_view_name": "HBoxView",
            "_dom_classes": [],
            "_model_name": "HBoxModel",
            "_view_module": "@jupyter-widgets/controls",
            "_model_module_version": "1.5.0",
            "_view_count": null,
            "_view_module_version": "1.5.0",
            "box_style": "",
            "layout": "IPY_MODEL_6bc24f99d98840d3a016796338a9444e",
            "_model_module": "@jupyter-widgets/controls",
            "children": [
              "IPY_MODEL_8e2b9ceb4f304de7b5a01e3f0b486c74",
              "IPY_MODEL_f6d6ea4fd2f54a088a3435412f19e41d",
              "IPY_MODEL_7aa0c84dee1b4210b2cf03dd321b3aec"
            ]
          }
        },
        "6bc24f99d98840d3a016796338a9444e": {
          "model_module": "@jupyter-widgets/base",
          "model_name": "LayoutModel",
          "model_module_version": "1.2.0",
          "state": {
            "_view_name": "LayoutView",
            "grid_template_rows": null,
            "right": null,
            "justify_content": null,
            "_view_module": "@jupyter-widgets/base",
            "overflow": null,
            "_model_module_version": "1.2.0",
            "_view_count": null,
            "flex_flow": null,
            "width": null,
            "min_width": null,
            "border": null,
            "align_items": null,
            "bottom": null,
            "_model_module": "@jupyter-widgets/base",
            "top": null,
            "grid_column": null,
            "overflow_y": null,
            "overflow_x": null,
            "grid_auto_flow": null,
            "grid_area": null,
            "grid_template_columns": null,
            "flex": null,
            "_model_name": "LayoutModel",
            "justify_items": null,
            "grid_row": null,
            "max_height": null,
            "align_content": null,
            "visibility": null,
            "align_self": null,
            "height": null,
            "min_height": null,
            "padding": null,
            "grid_auto_rows": null,
            "grid_gap": null,
            "max_width": null,
            "order": null,
            "_view_module_version": "1.2.0",
            "grid_template_areas": null,
            "object_position": null,
            "object_fit": null,
            "grid_auto_columns": null,
            "margin": null,
            "display": null,
            "left": null
          }
        },
        "8e2b9ceb4f304de7b5a01e3f0b486c74": {
          "model_module": "@jupyter-widgets/controls",
          "model_name": "HTMLModel",
          "model_module_version": "1.5.0",
          "state": {
            "_view_name": "HTMLView",
            "style": "IPY_MODEL_6ca2a950df144548a52d095e607dc7f0",
            "_dom_classes": [],
            "description": "",
            "_model_name": "HTMLModel",
            "placeholder": "​",
            "_view_module": "@jupyter-widgets/controls",
            "_model_module_version": "1.5.0",
            "value": "",
            "_view_count": null,
            "_view_module_version": "1.5.0",
            "description_tooltip": null,
            "_model_module": "@jupyter-widgets/controls",
            "layout": "IPY_MODEL_93a9ac8bbb0844dc9a9f34669feb62cf"
          }
        },
        "f6d6ea4fd2f54a088a3435412f19e41d": {
          "model_module": "@jupyter-widgets/controls",
          "model_name": "FloatProgressModel",
          "model_module_version": "1.5.0",
          "state": {
            "_view_name": "ProgressView",
            "style": "IPY_MODEL_fc620eda55064d8ab97eb7f6e57fd58d",
            "_dom_classes": [],
            "description": "",
            "_model_name": "FloatProgressModel",
            "bar_style": "success",
            "max": 1648877,
            "_view_module": "@jupyter-widgets/controls",
            "_model_module_version": "1.5.0",
            "value": 1648877,
            "_view_count": null,
            "_view_module_version": "1.5.0",
            "orientation": "horizontal",
            "min": 0,
            "description_tooltip": null,
            "_model_module": "@jupyter-widgets/controls",
            "layout": "IPY_MODEL_ebca31064b114a29ad301e908b4c7fad"
          }
        },
        "7aa0c84dee1b4210b2cf03dd321b3aec": {
          "model_module": "@jupyter-widgets/controls",
          "model_name": "HTMLModel",
          "model_module_version": "1.5.0",
          "state": {
            "_view_name": "HTMLView",
            "style": "IPY_MODEL_58ac57276b4b475e81e90e0df8889943",
            "_dom_classes": [],
            "description": "",
            "_model_name": "HTMLModel",
            "placeholder": "​",
            "_view_module": "@jupyter-widgets/controls",
            "_model_module_version": "1.5.0",
            "value": " 1649664/? [00:00&lt;00:00, 5363851.91it/s]",
            "_view_count": null,
            "_view_module_version": "1.5.0",
            "description_tooltip": null,
            "_model_module": "@jupyter-widgets/controls",
            "layout": "IPY_MODEL_e316a0806d9844879b096ced17651414"
          }
        },
        "6ca2a950df144548a52d095e607dc7f0": {
          "model_module": "@jupyter-widgets/controls",
          "model_name": "DescriptionStyleModel",
          "model_module_version": "1.5.0",
          "state": {
            "_view_name": "StyleView",
            "_model_name": "DescriptionStyleModel",
            "description_width": "",
            "_view_module": "@jupyter-widgets/base",
            "_model_module_version": "1.5.0",
            "_view_count": null,
            "_view_module_version": "1.2.0",
            "_model_module": "@jupyter-widgets/controls"
          }
        },
        "93a9ac8bbb0844dc9a9f34669feb62cf": {
          "model_module": "@jupyter-widgets/base",
          "model_name": "LayoutModel",
          "model_module_version": "1.2.0",
          "state": {
            "_view_name": "LayoutView",
            "grid_template_rows": null,
            "right": null,
            "justify_content": null,
            "_view_module": "@jupyter-widgets/base",
            "overflow": null,
            "_model_module_version": "1.2.0",
            "_view_count": null,
            "flex_flow": null,
            "width": null,
            "min_width": null,
            "border": null,
            "align_items": null,
            "bottom": null,
            "_model_module": "@jupyter-widgets/base",
            "top": null,
            "grid_column": null,
            "overflow_y": null,
            "overflow_x": null,
            "grid_auto_flow": null,
            "grid_area": null,
            "grid_template_columns": null,
            "flex": null,
            "_model_name": "LayoutModel",
            "justify_items": null,
            "grid_row": null,
            "max_height": null,
            "align_content": null,
            "visibility": null,
            "align_self": null,
            "height": null,
            "min_height": null,
            "padding": null,
            "grid_auto_rows": null,
            "grid_gap": null,
            "max_width": null,
            "order": null,
            "_view_module_version": "1.2.0",
            "grid_template_areas": null,
            "object_position": null,
            "object_fit": null,
            "grid_auto_columns": null,
            "margin": null,
            "display": null,
            "left": null
          }
        },
        "fc620eda55064d8ab97eb7f6e57fd58d": {
          "model_module": "@jupyter-widgets/controls",
          "model_name": "ProgressStyleModel",
          "model_module_version": "1.5.0",
          "state": {
            "_view_name": "StyleView",
            "_model_name": "ProgressStyleModel",
            "description_width": "",
            "_view_module": "@jupyter-widgets/base",
            "_model_module_version": "1.5.0",
            "_view_count": null,
            "_view_module_version": "1.2.0",
            "bar_color": null,
            "_model_module": "@jupyter-widgets/controls"
          }
        },
        "ebca31064b114a29ad301e908b4c7fad": {
          "model_module": "@jupyter-widgets/base",
          "model_name": "LayoutModel",
          "model_module_version": "1.2.0",
          "state": {
            "_view_name": "LayoutView",
            "grid_template_rows": null,
            "right": null,
            "justify_content": null,
            "_view_module": "@jupyter-widgets/base",
            "overflow": null,
            "_model_module_version": "1.2.0",
            "_view_count": null,
            "flex_flow": null,
            "width": null,
            "min_width": null,
            "border": null,
            "align_items": null,
            "bottom": null,
            "_model_module": "@jupyter-widgets/base",
            "top": null,
            "grid_column": null,
            "overflow_y": null,
            "overflow_x": null,
            "grid_auto_flow": null,
            "grid_area": null,
            "grid_template_columns": null,
            "flex": null,
            "_model_name": "LayoutModel",
            "justify_items": null,
            "grid_row": null,
            "max_height": null,
            "align_content": null,
            "visibility": null,
            "align_self": null,
            "height": null,
            "min_height": null,
            "padding": null,
            "grid_auto_rows": null,
            "grid_gap": null,
            "max_width": null,
            "order": null,
            "_view_module_version": "1.2.0",
            "grid_template_areas": null,
            "object_position": null,
            "object_fit": null,
            "grid_auto_columns": null,
            "margin": null,
            "display": null,
            "left": null
          }
        },
        "58ac57276b4b475e81e90e0df8889943": {
          "model_module": "@jupyter-widgets/controls",
          "model_name": "DescriptionStyleModel",
          "model_module_version": "1.5.0",
          "state": {
            "_view_name": "StyleView",
            "_model_name": "DescriptionStyleModel",
            "description_width": "",
            "_view_module": "@jupyter-widgets/base",
            "_model_module_version": "1.5.0",
            "_view_count": null,
            "_view_module_version": "1.2.0",
            "_model_module": "@jupyter-widgets/controls"
          }
        },
        "e316a0806d9844879b096ced17651414": {
          "model_module": "@jupyter-widgets/base",
          "model_name": "LayoutModel",
          "model_module_version": "1.2.0",
          "state": {
            "_view_name": "LayoutView",
            "grid_template_rows": null,
            "right": null,
            "justify_content": null,
            "_view_module": "@jupyter-widgets/base",
            "overflow": null,
            "_model_module_version": "1.2.0",
            "_view_count": null,
            "flex_flow": null,
            "width": null,
            "min_width": null,
            "border": null,
            "align_items": null,
            "bottom": null,
            "_model_module": "@jupyter-widgets/base",
            "top": null,
            "grid_column": null,
            "overflow_y": null,
            "overflow_x": null,
            "grid_auto_flow": null,
            "grid_area": null,
            "grid_template_columns": null,
            "flex": null,
            "_model_name": "LayoutModel",
            "justify_items": null,
            "grid_row": null,
            "max_height": null,
            "align_content": null,
            "visibility": null,
            "align_self": null,
            "height": null,
            "min_height": null,
            "padding": null,
            "grid_auto_rows": null,
            "grid_gap": null,
            "max_width": null,
            "order": null,
            "_view_module_version": "1.2.0",
            "grid_template_areas": null,
            "object_position": null,
            "object_fit": null,
            "grid_auto_columns": null,
            "margin": null,
            "display": null,
            "left": null
          }
        },
        "04eed560120f4fbeb64f117ad040f69c": {
          "model_module": "@jupyter-widgets/controls",
          "model_name": "HBoxModel",
          "model_module_version": "1.5.0",
          "state": {
            "_view_name": "HBoxView",
            "_dom_classes": [],
            "_model_name": "HBoxModel",
            "_view_module": "@jupyter-widgets/controls",
            "_model_module_version": "1.5.0",
            "_view_count": null,
            "_view_module_version": "1.5.0",
            "box_style": "",
            "layout": "IPY_MODEL_d40207a9030047e0888f5d45242bc077",
            "_model_module": "@jupyter-widgets/controls",
            "children": [
              "IPY_MODEL_f5c2a56042a64885a4a3e8d37d205d8b",
              "IPY_MODEL_c8791fff7c2f42b69e0812e408dbc4ca",
              "IPY_MODEL_84e917a5919d49718f4600e15ce16d16"
            ]
          }
        },
        "d40207a9030047e0888f5d45242bc077": {
          "model_module": "@jupyter-widgets/base",
          "model_name": "LayoutModel",
          "model_module_version": "1.2.0",
          "state": {
            "_view_name": "LayoutView",
            "grid_template_rows": null,
            "right": null,
            "justify_content": null,
            "_view_module": "@jupyter-widgets/base",
            "overflow": null,
            "_model_module_version": "1.2.0",
            "_view_count": null,
            "flex_flow": null,
            "width": null,
            "min_width": null,
            "border": null,
            "align_items": null,
            "bottom": null,
            "_model_module": "@jupyter-widgets/base",
            "top": null,
            "grid_column": null,
            "overflow_y": null,
            "overflow_x": null,
            "grid_auto_flow": null,
            "grid_area": null,
            "grid_template_columns": null,
            "flex": null,
            "_model_name": "LayoutModel",
            "justify_items": null,
            "grid_row": null,
            "max_height": null,
            "align_content": null,
            "visibility": null,
            "align_self": null,
            "height": null,
            "min_height": null,
            "padding": null,
            "grid_auto_rows": null,
            "grid_gap": null,
            "max_width": null,
            "order": null,
            "_view_module_version": "1.2.0",
            "grid_template_areas": null,
            "object_position": null,
            "object_fit": null,
            "grid_auto_columns": null,
            "margin": null,
            "display": null,
            "left": null
          }
        },
        "f5c2a56042a64885a4a3e8d37d205d8b": {
          "model_module": "@jupyter-widgets/controls",
          "model_name": "HTMLModel",
          "model_module_version": "1.5.0",
          "state": {
            "_view_name": "HTMLView",
            "style": "IPY_MODEL_a1eabcffb7e64ff099f0dab12d03ba5a",
            "_dom_classes": [],
            "description": "",
            "_model_name": "HTMLModel",
            "placeholder": "​",
            "_view_module": "@jupyter-widgets/controls",
            "_model_module_version": "1.5.0",
            "value": "",
            "_view_count": null,
            "_view_module_version": "1.5.0",
            "description_tooltip": null,
            "_model_module": "@jupyter-widgets/controls",
            "layout": "IPY_MODEL_11baede9854f448d9c2246bf820f0bfa"
          }
        },
        "c8791fff7c2f42b69e0812e408dbc4ca": {
          "model_module": "@jupyter-widgets/controls",
          "model_name": "FloatProgressModel",
          "model_module_version": "1.5.0",
          "state": {
            "_view_name": "ProgressView",
            "style": "IPY_MODEL_78fae7c195ab4063b3495d13b093ed4c",
            "_dom_classes": [],
            "description": "",
            "_model_name": "FloatProgressModel",
            "bar_style": "success",
            "max": 4542,
            "_view_module": "@jupyter-widgets/controls",
            "_model_module_version": "1.5.0",
            "value": 4542,
            "_view_count": null,
            "_view_module_version": "1.5.0",
            "orientation": "horizontal",
            "min": 0,
            "description_tooltip": null,
            "_model_module": "@jupyter-widgets/controls",
            "layout": "IPY_MODEL_9b4154c3c0d1475db4ea041adf14dfa5"
          }
        },
        "84e917a5919d49718f4600e15ce16d16": {
          "model_module": "@jupyter-widgets/controls",
          "model_name": "HTMLModel",
          "model_module_version": "1.5.0",
          "state": {
            "_view_name": "HTMLView",
            "style": "IPY_MODEL_b4294fc0ea514fbe8bf348dc80b01069",
            "_dom_classes": [],
            "description": "",
            "_model_name": "HTMLModel",
            "placeholder": "​",
            "_view_module": "@jupyter-widgets/controls",
            "_model_module_version": "1.5.0",
            "value": " 5120/? [00:00&lt;00:00, 145547.71it/s]",
            "_view_count": null,
            "_view_module_version": "1.5.0",
            "description_tooltip": null,
            "_model_module": "@jupyter-widgets/controls",
            "layout": "IPY_MODEL_6fa858b190f34895b90711143a32187a"
          }
        },
        "a1eabcffb7e64ff099f0dab12d03ba5a": {
          "model_module": "@jupyter-widgets/controls",
          "model_name": "DescriptionStyleModel",
          "model_module_version": "1.5.0",
          "state": {
            "_view_name": "StyleView",
            "_model_name": "DescriptionStyleModel",
            "description_width": "",
            "_view_module": "@jupyter-widgets/base",
            "_model_module_version": "1.5.0",
            "_view_count": null,
            "_view_module_version": "1.2.0",
            "_model_module": "@jupyter-widgets/controls"
          }
        },
        "11baede9854f448d9c2246bf820f0bfa": {
          "model_module": "@jupyter-widgets/base",
          "model_name": "LayoutModel",
          "model_module_version": "1.2.0",
          "state": {
            "_view_name": "LayoutView",
            "grid_template_rows": null,
            "right": null,
            "justify_content": null,
            "_view_module": "@jupyter-widgets/base",
            "overflow": null,
            "_model_module_version": "1.2.0",
            "_view_count": null,
            "flex_flow": null,
            "width": null,
            "min_width": null,
            "border": null,
            "align_items": null,
            "bottom": null,
            "_model_module": "@jupyter-widgets/base",
            "top": null,
            "grid_column": null,
            "overflow_y": null,
            "overflow_x": null,
            "grid_auto_flow": null,
            "grid_area": null,
            "grid_template_columns": null,
            "flex": null,
            "_model_name": "LayoutModel",
            "justify_items": null,
            "grid_row": null,
            "max_height": null,
            "align_content": null,
            "visibility": null,
            "align_self": null,
            "height": null,
            "min_height": null,
            "padding": null,
            "grid_auto_rows": null,
            "grid_gap": null,
            "max_width": null,
            "order": null,
            "_view_module_version": "1.2.0",
            "grid_template_areas": null,
            "object_position": null,
            "object_fit": null,
            "grid_auto_columns": null,
            "margin": null,
            "display": null,
            "left": null
          }
        },
        "78fae7c195ab4063b3495d13b093ed4c": {
          "model_module": "@jupyter-widgets/controls",
          "model_name": "ProgressStyleModel",
          "model_module_version": "1.5.0",
          "state": {
            "_view_name": "StyleView",
            "_model_name": "ProgressStyleModel",
            "description_width": "",
            "_view_module": "@jupyter-widgets/base",
            "_model_module_version": "1.5.0",
            "_view_count": null,
            "_view_module_version": "1.2.0",
            "bar_color": null,
            "_model_module": "@jupyter-widgets/controls"
          }
        },
        "9b4154c3c0d1475db4ea041adf14dfa5": {
          "model_module": "@jupyter-widgets/base",
          "model_name": "LayoutModel",
          "model_module_version": "1.2.0",
          "state": {
            "_view_name": "LayoutView",
            "grid_template_rows": null,
            "right": null,
            "justify_content": null,
            "_view_module": "@jupyter-widgets/base",
            "overflow": null,
            "_model_module_version": "1.2.0",
            "_view_count": null,
            "flex_flow": null,
            "width": null,
            "min_width": null,
            "border": null,
            "align_items": null,
            "bottom": null,
            "_model_module": "@jupyter-widgets/base",
            "top": null,
            "grid_column": null,
            "overflow_y": null,
            "overflow_x": null,
            "grid_auto_flow": null,
            "grid_area": null,
            "grid_template_columns": null,
            "flex": null,
            "_model_name": "LayoutModel",
            "justify_items": null,
            "grid_row": null,
            "max_height": null,
            "align_content": null,
            "visibility": null,
            "align_self": null,
            "height": null,
            "min_height": null,
            "padding": null,
            "grid_auto_rows": null,
            "grid_gap": null,
            "max_width": null,
            "order": null,
            "_view_module_version": "1.2.0",
            "grid_template_areas": null,
            "object_position": null,
            "object_fit": null,
            "grid_auto_columns": null,
            "margin": null,
            "display": null,
            "left": null
          }
        },
        "b4294fc0ea514fbe8bf348dc80b01069": {
          "model_module": "@jupyter-widgets/controls",
          "model_name": "DescriptionStyleModel",
          "model_module_version": "1.5.0",
          "state": {
            "_view_name": "StyleView",
            "_model_name": "DescriptionStyleModel",
            "description_width": "",
            "_view_module": "@jupyter-widgets/base",
            "_model_module_version": "1.5.0",
            "_view_count": null,
            "_view_module_version": "1.2.0",
            "_model_module": "@jupyter-widgets/controls"
          }
        },
        "6fa858b190f34895b90711143a32187a": {
          "model_module": "@jupyter-widgets/base",
          "model_name": "LayoutModel",
          "model_module_version": "1.2.0",
          "state": {
            "_view_name": "LayoutView",
            "grid_template_rows": null,
            "right": null,
            "justify_content": null,
            "_view_module": "@jupyter-widgets/base",
            "overflow": null,
            "_model_module_version": "1.2.0",
            "_view_count": null,
            "flex_flow": null,
            "width": null,
            "min_width": null,
            "border": null,
            "align_items": null,
            "bottom": null,
            "_model_module": "@jupyter-widgets/base",
            "top": null,
            "grid_column": null,
            "overflow_y": null,
            "overflow_x": null,
            "grid_auto_flow": null,
            "grid_area": null,
            "grid_template_columns": null,
            "flex": null,
            "_model_name": "LayoutModel",
            "justify_items": null,
            "grid_row": null,
            "max_height": null,
            "align_content": null,
            "visibility": null,
            "align_self": null,
            "height": null,
            "min_height": null,
            "padding": null,
            "grid_auto_rows": null,
            "grid_gap": null,
            "max_width": null,
            "order": null,
            "_view_module_version": "1.2.0",
            "grid_template_areas": null,
            "object_position": null,
            "object_fit": null,
            "grid_auto_columns": null,
            "margin": null,
            "display": null,
            "left": null
          }
        }
      }
    }
  },
  "cells": [
    {
      "cell_type": "markdown",
      "metadata": {
        "id": "O7jm5jSSQnkl"
      },
      "source": [
        "# Generative Adversarial Network\n",
        "\n",
        "In this notebook, we'll be building a generative adversarial network (GAN) trained on the MNIST dataset. From this, we'll be able to generate new handwritten digits!\n",
        "\n",
        "GANs were [first reported on](https://arxiv.org/abs/1406.2661) in 2014 from Ian Goodfellow and others in Yoshua Bengio's lab. Since then, GANs have exploded in popularity. Here are a few examples to check out:\n",
        "\n",
        "* [Pix2Pix](https://affinelayer.com/pixsrv/) \n",
        "* [CycleGAN & Pix2Pix in PyTorch, Jun-Yan Zhu](https://github.com/junyanz/pytorch-CycleGAN-and-pix2pix)\n",
        "* [A list of generative models](https://github.com/wiseodd/generative-models)\n",
        "\n",
        "The idea behind GANs is that you have two networks, a generator $G$ and a discriminator $D$, competing against each other. The generator makes \"fake\" data to pass to the discriminator. The discriminator also sees real training data and predicts if the data it's received is real or fake. \n",
        "> * The generator is trained to fool the discriminator, it wants to output data that looks _as close as possible_ to real, training data. \n",
        "* The discriminator is a classifier that is trained to figure out which data is real and which is fake. \n",
        "\n",
        "What ends up happening is that the generator learns to make data that is indistinguishable from real data to the discriminator.\n",
        "\n",
        "<img src='assets/gan_pipeline.png' width=70% />\n",
        "\n",
        "The general structure of a GAN is shown in the diagram above, using MNIST images as data. The latent sample is a random vector that the generator uses to construct its fake images. This is often called a **latent vector** and that vector space is called **latent space**. As the generator trains, it figures out how to map latent vectors to recognizable images that can fool the discriminator.\n",
        "\n",
        "If you're interested in generating only new images, you can throw out the discriminator after training. In this notebook, I'll show you how to define and train these adversarial networks in PyTorch and generate new images!"
      ]
    },
    {
      "cell_type": "code",
      "metadata": {
        "id": "Y0ChbGSWQnkq"
      },
      "source": [
        "%matplotlib inline\n",
        "\n",
        "import numpy as np\n",
        "import torch\n",
        "import matplotlib.pyplot as plt"
      ],
      "execution_count": null,
      "outputs": []
    },
    {
      "cell_type": "code",
      "metadata": {
        "colab": {
          "base_uri": "https://localhost:8080/",
          "height": 435,
          "referenced_widgets": [
            "5120083fe17143188be5ec978c630e09",
            "4e8c7de82e1c47b38e97b613d9752285",
            "f0024bef0f3d42f3b966cf8d547238de",
            "8ee8fc4c58734e24aabee5c2d86c770c",
            "d7a0bb4c051a4039b661891a81418d80",
            "aef8264ec3bb4e438bc1d4815c698967",
            "ea7468772f934c85b0562b2d4267e9f9",
            "a7e5f04421b6411384d2ffdd2a351d62",
            "edc77bab7eeb47c5a2a90f49f688c87b",
            "6d7dd94de83a4d4884273be11131084e",
            "7c26dc7ee523450cb3bdd38b2af5e085",
            "f136f99296a74c419f7e83da3c0c201e",
            "acd4b5c2ca42459eb7d757e2677d2f00",
            "5140ee1a43b1488ea34515e3e1933e54",
            "1a64174efd5c4c9fb698657ebd0f3958",
            "91570bfd8b524ab589b47e056cb0f4d1",
            "dd8a8a838ec8452e9db66bb2087aa345",
            "cb61f77550c04d29b29598289a160671",
            "9d7685778f484d8f9cb45f7892354302",
            "cbea805d900641fc8f26a6b371414200",
            "88b198ac2ddd4910b255c968452affcd",
            "7502853fe3b74f41bae6e48ec126dbb2",
            "35287d0af7bc473f8b775c5fcfbd9b73",
            "6bc24f99d98840d3a016796338a9444e",
            "8e2b9ceb4f304de7b5a01e3f0b486c74",
            "f6d6ea4fd2f54a088a3435412f19e41d",
            "7aa0c84dee1b4210b2cf03dd321b3aec",
            "6ca2a950df144548a52d095e607dc7f0",
            "93a9ac8bbb0844dc9a9f34669feb62cf",
            "fc620eda55064d8ab97eb7f6e57fd58d",
            "ebca31064b114a29ad301e908b4c7fad",
            "58ac57276b4b475e81e90e0df8889943",
            "e316a0806d9844879b096ced17651414",
            "04eed560120f4fbeb64f117ad040f69c",
            "d40207a9030047e0888f5d45242bc077",
            "f5c2a56042a64885a4a3e8d37d205d8b",
            "c8791fff7c2f42b69e0812e408dbc4ca",
            "84e917a5919d49718f4600e15ce16d16",
            "a1eabcffb7e64ff099f0dab12d03ba5a",
            "11baede9854f448d9c2246bf820f0bfa",
            "78fae7c195ab4063b3495d13b093ed4c",
            "9b4154c3c0d1475db4ea041adf14dfa5",
            "b4294fc0ea514fbe8bf348dc80b01069",
            "6fa858b190f34895b90711143a32187a"
          ]
        },
        "id": "H45xmQcVQnkr",
        "outputId": "2fd2e8a7-2fbf-4714-95f9-935e975e093a"
      },
      "source": [
        "from torchvision import datasets\n",
        "import torchvision.transforms as transforms\n",
        "\n",
        "# number of subprocesses to use for data loading\n",
        "num_workers = 0\n",
        "# how many samples per batch to load\n",
        "batch_size = 64\n",
        "\n",
        "# convert data to torch.FloatTensor\n",
        "transform = transforms.ToTensor()\n",
        "\n",
        "# get the training datasets\n",
        "train_data = datasets.MNIST(root='data', train=True,\n",
        "                                   download=True, transform=transform)\n",
        "\n",
        "# prepare data loader\n",
        "train_loader = torch.utils.data.DataLoader(train_data, batch_size=batch_size,\n",
        "                                           num_workers=num_workers)"
      ],
      "execution_count": null,
      "outputs": [
        {
          "output_type": "stream",
          "name": "stdout",
          "text": [
            "Downloading http://yann.lecun.com/exdb/mnist/train-images-idx3-ubyte.gz\n",
            "Downloading http://yann.lecun.com/exdb/mnist/train-images-idx3-ubyte.gz to data/MNIST/raw/train-images-idx3-ubyte.gz\n"
          ]
        },
        {
          "output_type": "display_data",
          "data": {
            "application/vnd.jupyter.widget-view+json": {
              "model_id": "5120083fe17143188be5ec978c630e09",
              "version_minor": 0,
              "version_major": 2
            },
            "text/plain": [
              "  0%|          | 0/9912422 [00:00<?, ?it/s]"
            ]
          },
          "metadata": {}
        },
        {
          "output_type": "stream",
          "name": "stdout",
          "text": [
            "Extracting data/MNIST/raw/train-images-idx3-ubyte.gz to data/MNIST/raw\n",
            "\n",
            "Downloading http://yann.lecun.com/exdb/mnist/train-labels-idx1-ubyte.gz\n",
            "Downloading http://yann.lecun.com/exdb/mnist/train-labels-idx1-ubyte.gz to data/MNIST/raw/train-labels-idx1-ubyte.gz\n"
          ]
        },
        {
          "output_type": "display_data",
          "data": {
            "application/vnd.jupyter.widget-view+json": {
              "model_id": "f136f99296a74c419f7e83da3c0c201e",
              "version_minor": 0,
              "version_major": 2
            },
            "text/plain": [
              "  0%|          | 0/28881 [00:00<?, ?it/s]"
            ]
          },
          "metadata": {}
        },
        {
          "output_type": "stream",
          "name": "stdout",
          "text": [
            "Extracting data/MNIST/raw/train-labels-idx1-ubyte.gz to data/MNIST/raw\n",
            "\n",
            "Downloading http://yann.lecun.com/exdb/mnist/t10k-images-idx3-ubyte.gz\n",
            "Downloading http://yann.lecun.com/exdb/mnist/t10k-images-idx3-ubyte.gz to data/MNIST/raw/t10k-images-idx3-ubyte.gz\n"
          ]
        },
        {
          "output_type": "display_data",
          "data": {
            "application/vnd.jupyter.widget-view+json": {
              "model_id": "35287d0af7bc473f8b775c5fcfbd9b73",
              "version_minor": 0,
              "version_major": 2
            },
            "text/plain": [
              "  0%|          | 0/1648877 [00:00<?, ?it/s]"
            ]
          },
          "metadata": {}
        },
        {
          "output_type": "stream",
          "name": "stdout",
          "text": [
            "Extracting data/MNIST/raw/t10k-images-idx3-ubyte.gz to data/MNIST/raw\n",
            "\n",
            "Downloading http://yann.lecun.com/exdb/mnist/t10k-labels-idx1-ubyte.gz\n",
            "Downloading http://yann.lecun.com/exdb/mnist/t10k-labels-idx1-ubyte.gz to data/MNIST/raw/t10k-labels-idx1-ubyte.gz\n"
          ]
        },
        {
          "output_type": "display_data",
          "data": {
            "application/vnd.jupyter.widget-view+json": {
              "model_id": "04eed560120f4fbeb64f117ad040f69c",
              "version_minor": 0,
              "version_major": 2
            },
            "text/plain": [
              "  0%|          | 0/4542 [00:00<?, ?it/s]"
            ]
          },
          "metadata": {}
        },
        {
          "output_type": "stream",
          "name": "stdout",
          "text": [
            "Extracting data/MNIST/raw/t10k-labels-idx1-ubyte.gz to data/MNIST/raw\n",
            "\n"
          ]
        }
      ]
    },
    {
      "cell_type": "markdown",
      "metadata": {
        "id": "ZxgfJbvEQnks"
      },
      "source": [
        "### Visualize the data"
      ]
    },
    {
      "cell_type": "code",
      "metadata": {
        "colab": {
          "base_uri": "https://localhost:8080/",
          "height": 230
        },
        "id": "_s7jUFczQnks",
        "outputId": "5e428887-eac3-476e-d30c-6aad1089bfef"
      },
      "source": [
        "# obtain one batch of training images\n",
        "dataiter = iter(train_loader)\n",
        "images, labels = dataiter.next()\n",
        "images = images.numpy()\n",
        "\n",
        "# get one image from the batch\n",
        "img = np.squeeze(images[0])\n",
        "\n",
        "fig = plt.figure(figsize = (3,3)) \n",
        "ax = fig.add_subplot(111)\n",
        "ax.imshow(img, cmap='gray')"
      ],
      "execution_count": null,
      "outputs": [
        {
          "output_type": "execute_result",
          "data": {
            "text/plain": [
              "<matplotlib.image.AxesImage at 0x7f4c32309c50>"
            ]
          },
          "metadata": {},
          "execution_count": 3
        },
        {
          "output_type": "display_data",
          "data": {
            "image/png": "[encoded data removed]",
            "text/plain": [
              "<Figure size 216x216 with 1 Axes>"
            ]
          },
          "metadata": {
            "needs_background": "light"
          }
        }
      ]
    },
    {
      "cell_type": "markdown",
      "metadata": {
        "id": "lXwTb451Qnkt"
      },
      "source": [
        "---\n",
        "# Define the Model\n",
        "\n",
        "A GAN is comprised of two adversarial networks, a discriminator and a generator."
      ]
    },
    {
      "cell_type": "markdown",
      "metadata": {
        "id": "BqE-OXoGQnkt"
      },
      "source": [
        "## Discriminator\n",
        "\n",
        "The discriminator network is going to be a pretty typical linear classifier. To make this network a universal function approximator, we'll need at least one hidden layer, and these hidden layers should have one key attribute:\n",
        "> All hidden layers will have a [Leaky ReLu](https://pytorch.org/docs/stable/nn.html#torch.nn.LeakyReLU) activation function applied to their outputs.\n",
        "\n",
        "<img src='assets/gan_network.png' width=70% />\n",
        "\n",
        "#### Leaky ReLu\n",
        "\n",
        "We should use a leaky ReLU to allow gradients to flow backwards through the layer unimpeded. A leaky ReLU is like a normal ReLU, except that there is a small non-zero output for negative input values.\n",
        "\n",
        "<img src='assets/leaky_relu.png' width=40% />\n",
        "\n",
        "#### Sigmoid Output\n",
        "\n",
        "We'll also take the approach of using a more numerically stable loss function on the outputs. Recall that we want the discriminator to output a value 0-1 indicating whether an image is _real or fake_. \n",
        "> We will ultimately use [BCEWithLogitsLoss](https://pytorch.org/docs/stable/nn.html#bcewithlogitsloss), which combines a `sigmoid` activation function **and** binary cross entropy loss in one function. \n",
        "\n",
        "So, our final output layer should not have any activation function applied to it."
      ]
    },
    {
      "cell_type": "code",
      "metadata": {
        "id": "MGEqsIZpQnku"
      },
      "source": [
        "import torch.nn as nn\n",
        "import torch.nn.functional as F\n",
        "\n",
        "class Discriminator(nn.Module):\n",
        "\n",
        "    def __init__(self, input_size, hidden_dim, output_size):\n",
        "        super(Discriminator, self).__init__()\n",
        "        # define hidden linear layers\n",
        "        self.fc1 = nn.Linear(input_size, hidden_dim*4)\n",
        "        self.fc2 = nn.Linear(hidden_dim*4, hidden_dim*2)\n",
        "        self.fc3 = nn.Linear(hidden_dim*2, hidden_dim)\n",
        "        #final fully-connected layer\n",
        "        self.fc4 = nn.Linear(hidden_dim, output_size)\n",
        "        #dropout layer\n",
        "        self.dropout = nn.Dropout(0.3)\n",
        "        \n",
        "        \n",
        "    def forward(self, x):\n",
        "        # flatten image\n",
        "        x = x.view(-1, 28*28)\n",
        "\n",
        "        # pass x through all layers\n",
        "        # apply leaky relu activation to all hidden layers\n",
        "        x = F.leaky_relu(self.fc1(x), 0.2)  #(input, negative_slope = 0.2)\n",
        "        x = self.dropout(x)\n",
        "        x = F.leaky_relu(self.fc2(x), 0.2)\n",
        "        x = self.dropout(x)\n",
        "        x = F.leaky_relu(self.fc3(x), 0.2)\n",
        "        x = self.dropout(x)\n",
        "        # final layer\n",
        "        out = self.fc4(x)\n",
        "        return out\n"
      ],
      "execution_count": null,
      "outputs": []
    },
    {
      "cell_type": "markdown",
      "metadata": {
        "id": "VPgV3DtRQnkv"
      },
      "source": [
        "## Generator\n",
        "\n",
        "The generator network will be almost exactly the same as the discriminator network, except that we're applying a [tanh activation function](https://pytorch.org/docs/stable/nn.html#tanh) to our output layer.\n",
        "\n",
        "#### tanh Output\n",
        "The generator has been found to perform the best with $tanh$ for the generator output, which scales the output to be between -1 and 1, instead of 0 and 1. \n",
        "\n",
        "<img src='assets/tanh_fn.png' width=40% />\n",
        "\n",
        "Recall that we also want these outputs to be comparable to the *real* input pixel values, which are read in as normalized values between 0 and 1. \n",
        "> So, we'll also have to **scale our real input images to have pixel values between -1 and 1** when we train the discriminator. \n",
        "\n",
        "I'll do this in the training loop, later on."
      ]
    },
    {
      "cell_type": "code",
      "metadata": {
        "id": "yCbyCWfFQnkv"
      },
      "source": [
        "class Generator(nn.Module):\n",
        "\n",
        "    def __init__(self, input_size, hidden_dim, output_size):\n",
        "        super(Generator, self).__init__()\n",
        "        \n",
        "        # define hidden linear layers\n",
        "        self.fc1 = nn.Linear(input_size, hidden_dim)\n",
        "        self.fc2 = nn.Linear(hidden_dim, hidden_dim*2)\n",
        "        self.fc3 = nn.Linear(hidden_dim*2, hidden_dim*4)\n",
        "\n",
        "        # final fully-connected layer\n",
        "        self.fc4 = nn.Linear(hidden_dim*4, output_size)\n",
        "\n",
        "        # dropout layer\n",
        "        self.dropout = nn.Dropout(0.3)\n",
        "\n",
        "    def forward(self, x):\n",
        "        # pass x through all layers\n",
        "        x = F.leaky_relu(self.fc1(x), 0.2)\n",
        "        x = self.dropout(x)\n",
        "        x = F.leaky_relu(self.fc2(x), 0.2)\n",
        "        x = self.dropout(x)\n",
        "        x = F.leaky_relu(self.fc3(x), 0.2)\n",
        "        x = self.dropout(x)\n",
        "        \n",
        "        # final layer should have tanh applied\n",
        "        out = F.tanh(self.fc4(x))\n",
        "        \n",
        "        return out"
      ],
      "execution_count": null,
      "outputs": []
    },
    {
      "cell_type": "markdown",
      "metadata": {
        "id": "cB8BCKiuQnkw"
      },
      "source": [
        "## Model hyperparameters"
      ]
    },
    {
      "cell_type": "code",
      "metadata": {
        "id": "TfCJfVgIQnkx"
      },
      "source": [
        "# Discriminator hyperparams\n",
        "\n",
        "# Size of input image to discriminator (28*28)\n",
        "input_size = 784\n",
        "# Size of discriminator output (real or fake)\n",
        "d_output_size = 1\n",
        "# Size of *last* hidden layer in the discriminator\n",
        "d_hidden_size = 32\n",
        "\n",
        "# Generator hyperparams\n",
        "\n",
        "# Size of latent vector to give to generator\n",
        "z_size = 100\n",
        "# Size of generator output (generated image)\n",
        "g_output_size = 784\n",
        "# Size of *first* hidden layer in the generator\n",
        "g_hidden_size = 32"
      ],
      "execution_count": null,
      "outputs": []
    },
    {
      "cell_type": "markdown",
      "metadata": {
        "id": "6PD5xUDkQnkx"
      },
      "source": [
        "## Build complete network\n",
        "\n",
        "Now we're instantiating the discriminator and generator from the classes defined above. Make sure you've passed in the correct input arguments."
      ]
    },
    {
      "cell_type": "code",
      "metadata": {
        "colab": {
          "base_uri": "https://localhost:8080/"
        },
        "id": "Qo7PKNjgQnky",
        "outputId": "7f999824-0fb2-4b00-8265-0b91959a4bc5"
      },
      "source": [
        "# instantiate discriminator and generator\n",
        "D = Discriminator(input_size, d_hidden_size, d_output_size)\n",
        "G = Generator(z_size, g_hidden_size, g_output_size)\n",
        "\n",
        "# check that they are as you expect\n",
        "print(D)\n",
        "print()\n",
        "print(G)"
      ],
      "execution_count": null,
      "outputs": [
        {
          "output_type": "stream",
          "name": "stdout",
          "text": [
            "Discriminator(\n",
            "  (fc1): Linear(in_features=784, out_features=128, bias=True)\n",
            "  (fc2): Linear(in_features=128, out_features=64, bias=True)\n",
            "  (fc3): Linear(in_features=64, out_features=32, bias=True)\n",
            "  (fc4): Linear(in_features=32, out_features=1, bias=True)\n",
            "  (dropout): Dropout(p=0.3, inplace=False)\n",
            ")\n",
            "\n",
            "Generator(\n",
            "  (fc1): Linear(in_features=100, out_features=32, bias=True)\n",
            "  (fc2): Linear(in_features=32, out_features=64, bias=True)\n",
            "  (fc3): Linear(in_features=64, out_features=128, bias=True)\n",
            "  (fc4): Linear(in_features=128, out_features=784, bias=True)\n",
            "  (dropout): Dropout(p=0.3, inplace=False)\n",
            ")\n"
          ]
        }
      ]
    },
    {
      "cell_type": "markdown",
      "metadata": {
        "id": "fvW5ewI6Qnky"
      },
      "source": [
        "---\n",
        "## Discriminator and Generator Losses\n",
        "\n",
        "Now we need to calculate the losses. \n",
        "\n",
        "### Discriminator Losses\n",
        "\n",
        "> * For the discriminator, the total loss is the sum of the losses for real and fake images, `d_loss = d_real_loss + d_fake_loss`. \n",
        "* Remember that we want the discriminator to output 1 for real images and 0 for fake images, so we need to set up the losses to reflect that.\n",
        "\n",
        "<img src='assets/gan_pipeline.png' width=70% />\n",
        "\n",
        "The losses will by binary cross entropy loss with logits, which we can get with [BCEWithLogitsLoss](https://pytorch.org/docs/stable/nn.html#bcewithlogitsloss). This combines a `sigmoid` activation function **and** and binary cross entropy loss in one function.\n",
        "\n",
        "For the real images, we want `D(real_images) = 1`. That is, we want the discriminator to classify the the real images with a label = 1, indicating that these are real. To help the discriminator generalize better, the labels are **reduced a bit from 1.0 to 0.9**. For this, we'll use the parameter `smooth`; if True, then we should smooth our labels. In PyTorch, this looks like `labels = torch.ones(size) * 0.9`\n",
        "\n",
        "The discriminator loss for the fake data is similar. We want `D(fake_images) = 0`, where the fake images are the _generator output_, `fake_images = G(z)`. \n",
        "\n",
        "### Generator Loss\n",
        "\n",
        "The generator loss will look similar only with flipped labels. The generator's goal is to get `D(fake_images) = 1`. In this case, the labels are **flipped** to represent that the generator is trying to fool the discriminator into thinking that the images it generates (fakes) are real!"
      ]
    },
    {
      "cell_type": "code",
      "metadata": {
        "id": "6nb7YUCHQnkz"
      },
      "source": [
        "# Calculate losses\n",
        "def real_loss(D_out, smooth=False):\n",
        "    batch_size = D_out.size(0)\n",
        "    \n",
        "    # smooth labels if smooth=True\n",
        "    if smooth:\n",
        "        labels = torch.ones(batch_size) * 0.9\n",
        "    else:\n",
        "        labels = torch.ones(batch_size)\n",
        "\n",
        "    # numerically stable loss\n",
        "    criterion = nn.BCEWithLogitsLoss()\n",
        "    # calculate loss\n",
        "    loss = criterion(D_out.squeeze(), labels)\n",
        "    return loss\n",
        "\n",
        "def fake_loss(D_out):\n",
        "    batch_size = D_out.size(0)\n",
        "    labels = torch.zeros(batch_size)\n",
        "    criterion = nn.BCEWithLogitsLoss()\n",
        "    # compare logits to fake labels\n",
        "    loss = criterion(D_out.squeeze(), labels)\n",
        "    return loss"
      ],
      "execution_count": null,
      "outputs": []
    },
    {
      "cell_type": "markdown",
      "metadata": {
        "id": "JHZpC8ONQnkz"
      },
      "source": [
        "## Optimizers\n",
        "\n",
        "We want to update the generator and discriminator variables separately. So, we'll define two separate Adam optimizers."
      ]
    },
    {
      "cell_type": "code",
      "metadata": {
        "scrolled": true,
        "id": "TFTc1TvEQnkz"
      },
      "source": [
        "import torch.optim as optim\n",
        "\n",
        "# learning rate for optimizers\n",
        "lr = 0.002\n",
        "\n",
        "# Create optimizers for the discriminator and generator\n",
        "d_optimizer = optim.Adam(D.parameters(), lr)\n",
        "g_optimizer = optim.Adam(G.parameters(), lr)"
      ],
      "execution_count": null,
      "outputs": []
    },
    {
      "cell_type": "markdown",
      "metadata": {
        "id": "JwgTrhiYQnkz"
      },
      "source": [
        "---\n",
        "## Training\n",
        "\n",
        "Training will involve alternating between training the discriminator and the generator. We'll use our functions `real_loss` and `fake_loss` to help us calculate the discriminator losses in all of the following cases.\n",
        "\n",
        "### Discriminator training\n",
        "1. Compute the discriminator loss on real, training images        \n",
        "2. Generate fake images\n",
        "3. Compute the discriminator loss on fake, generated images     \n",
        "4. Add up real and fake loss\n",
        "5. Perform backpropagation + an optimization step to update the discriminator's weights\n",
        "\n",
        "### Generator training\n",
        "1. Generate fake images\n",
        "2. Compute the discriminator loss on fake images, using **flipped** labels!\n",
        "3. Perform backpropagation + an optimization step to update the generator's weights\n",
        "\n",
        "#### Saving Samples\n",
        "\n",
        "As we train, we'll also print out some loss statistics and save some generated \"fake\" samples."
      ]
    },
    {
      "cell_type": "code",
      "metadata": {
        "scrolled": true,
        "id": "tNNzqVXmQnkz",
        "colab": {
          "base_uri": "https://localhost:8080/"
        },
        "outputId": "0a44acad-f271-4719-a432-10c9a161a2ea"
      },
      "source": [
        "import pickle as pkl\n",
        "\n",
        "# training hyperparams\n",
        "num_epochs = 100\n",
        "\n",
        "# keep track of loss and generated, \"fake\" samples\n",
        "samples = []\n",
        "losses = []\n",
        "\n",
        "print_every = 400\n",
        "\n",
        "# Get some fixed data for sampling. These are images that are held\n",
        "# constant throughout training, and allow us to inspect the model's performance\n",
        "sample_size=16\n",
        "fixed_z = np.random.uniform(-1, 1, size=(sample_size, z_size))\n",
        "fixed_z = torch.from_numpy(fixed_z).float()\n",
        "\n",
        "# train the network\n",
        "D.train()\n",
        "G.train()\n",
        "for epoch in range(num_epochs):\n",
        "    \n",
        "    for batch_i, (real_images, _) in enumerate(train_loader):\n",
        "                \n",
        "        batch_size = real_images.size(0)\n",
        "        \n",
        "        ## Important rescaling step ## \n",
        "        real_images = real_images*2 - 1  # rescale input images from [0,1) to [-1, 1)\n",
        "        \n",
        "        # ============================================\n",
        "        #            TRAIN THE DISCRIMINATOR\n",
        "        # ============================================\n",
        "                \n",
        "        d_optimizer.zero_grad()\n",
        "\n",
        "        # 1. Train with real images\n",
        "\n",
        "        # Compute the discriminator losses on real images\n",
        "        # use smoothed labels\n",
        "        D_real = D(real_images)\n",
        "        d_real_loss = real_loss(D_real, smooth=True)\n",
        "        \n",
        "        # 2. Train with fake images\n",
        "        \n",
        "        # Generate fake images\n",
        "        with torch.no_grad():\n",
        "            z = np.random.uniform(-1, 1, size=(batch_size, z_size))\n",
        "            z = torch.from_numpy(z).float()\n",
        "            fake_images = G(z)\n",
        "        \n",
        "        # Compute the discriminator losses on fake images     \n",
        "        D_fake = D(fake_images)\n",
        "        d_fake_loss = fake_loss(D_fake)   \n",
        "        \n",
        "        # add up real and fake losses and perform backprop\n",
        "        d_loss = d_real_loss + d_fake_loss\n",
        "        d_loss.backward()\n",
        "        d_optimizer.step()\n",
        "        \n",
        "        \n",
        "        # =========================================\n",
        "        #            TRAIN THE GENERATOR\n",
        "        # =========================================\n",
        "        \n",
        "        g_optimizer.zero_grad()\n",
        "\n",
        "        # 1. Train with fake images and flipped labels\n",
        "        \n",
        "        # Generate fake images\n",
        "        z = np.random.uniform(-1, 1, size=(batch_size, z_size))\n",
        "        z = torch.from_numpy(z).float()\n",
        "        fake_images = G(z)\n",
        "        \n",
        "        # Compute the discriminator losses on fake images \n",
        "        # using flipped labels!\n",
        "        D_fake = D(fake_images)\n",
        "        g_loss = real_loss(D_fake)\n",
        "        \n",
        "        # perform backprop\n",
        "        g_loss.backward()\n",
        "        g_optimizer.step()\n",
        "        \n",
        "\n",
        "        # Print some loss stats\n",
        "        if batch_i % print_every == 0:\n",
        "            # print discriminator and generator loss\n",
        "            print('Epoch [{:5d}/{:5d}] | d_loss: {:6.4f} | g_loss: {:6.4f}'.format(\n",
        "                    epoch+1, num_epochs, d_loss.item(), g_loss.item()))\n",
        "\n",
        "    \n",
        "    ## AFTER EACH EPOCH##\n",
        "    # append discriminator loss and generator loss\n",
        "    losses.append((d_loss.item(), g_loss.item()))\n",
        "    \n",
        "    # generate and save sample, fake images\n",
        "    G.eval() # eval mode for generating samples\n",
        "    samples_z = G(fixed_z)\n",
        "    samples.append(samples_z)\n",
        "    G.train() # back to train mode\n",
        "\n",
        "\n",
        "# Save training generator samples\n",
        "with open('train_samples.pkl', 'wb') as f:\n",
        "    pkl.dump(samples, f)"
      ],
      "execution_count": null,
      "outputs": [
        {
          "output_type": "stream",
          "name": "stderr",
          "text": [
            "/usr/local/lib/python3.7/dist-packages/torch/nn/functional.py:1795: UserWarning: nn.functional.tanh is deprecated. Use torch.tanh instead.\n",
            "  warnings.warn(\"nn.functional.tanh is deprecated. Use torch.tanh instead.\")\n"
          ]
        },
        {
          "output_type": "stream",
          "name": "stdout",
          "text": [
            "Epoch [    1/  100] | d_loss: 1.3768 | g_loss: 0.7551\n",
            "Epoch [    1/  100] | d_loss: 1.2761 | g_loss: 1.2298\n",
            "Epoch [    1/  100] | d_loss: 1.1439 | g_loss: 2.8527\n",
            "Epoch [    2/  100] | d_loss: 1.3196 | g_loss: 1.1355\n",
            "Epoch [    2/  100] | d_loss: 1.3202 | g_loss: 0.8021\n",
            "Epoch [    2/  100] | d_loss: 1.3026 | g_loss: 0.8820\n",
            "Epoch [    3/  100] | d_loss: 1.1100 | g_loss: 1.7664\n",
            "Epoch [    3/  100] | d_loss: 1.3332 | g_loss: 2.0798\n",
            "Epoch [    3/  100] | d_loss: 1.3137 | g_loss: 0.9449\n",
            "Epoch [    4/  100] | d_loss: 1.3486 | g_loss: 0.9864\n",
            "Epoch [    4/  100] | d_loss: 1.2804 | g_loss: 0.9774\n",
            "Epoch [    4/  100] | d_loss: 1.4232 | g_loss: 0.7919\n",
            "Epoch [    5/  100] | d_loss: 1.1499 | g_loss: 1.5791\n",
            "Epoch [    5/  100] | d_loss: 1.0932 | g_loss: 0.8852\n",
            "Epoch [    5/  100] | d_loss: 1.2974 | g_loss: 1.0196\n",
            "Epoch [    6/  100] | d_loss: 1.5509 | g_loss: 0.8047\n",
            "Epoch [    6/  100] | d_loss: 1.2178 | g_loss: 1.2113\n",
            "Epoch [    6/  100] | d_loss: 1.1188 | g_loss: 1.0595\n",
            "Epoch [    7/  100] | d_loss: 1.3291 | g_loss: 1.1292\n",
            "Epoch [    7/  100] | d_loss: 1.2689 | g_loss: 1.1183\n",
            "Epoch [    7/  100] | d_loss: 1.0781 | g_loss: 1.3039\n",
            "Epoch [    8/  100] | d_loss: 1.1698 | g_loss: 1.1203\n",
            "Epoch [    8/  100] | d_loss: 1.4496 | g_loss: 0.9586\n",
            "Epoch [    8/  100] | d_loss: 1.3895 | g_loss: 0.9379\n",
            "Epoch [    9/  100] | d_loss: 1.3446 | g_loss: 0.9530\n",
            "Epoch [    9/  100] | d_loss: 1.4078 | g_loss: 1.1654\n",
            "Epoch [    9/  100] | d_loss: 1.2009 | g_loss: 0.9882\n",
            "Epoch [   10/  100] | d_loss: 1.1918 | g_loss: 1.8646\n",
            "Epoch [   10/  100] | d_loss: 1.2806 | g_loss: 1.1500\n",
            "Epoch [   10/  100] | d_loss: 1.0480 | g_loss: 2.0189\n",
            "Epoch [   11/  100] | d_loss: 1.1260 | g_loss: 2.0093\n",
            "Epoch [   11/  100] | d_loss: 1.3023 | g_loss: 1.1046\n",
            "Epoch [   11/  100] | d_loss: 1.0539 | g_loss: 1.6342\n",
            "Epoch [   12/  100] | d_loss: 1.2682 | g_loss: 1.1441\n",
            "Epoch [   12/  100] | d_loss: 1.1674 | g_loss: 1.8069\n",
            "Epoch [   12/  100] | d_loss: 1.2245 | g_loss: 1.3162\n",
            "Epoch [   13/  100] | d_loss: 1.2759 | g_loss: 1.0762\n",
            "Epoch [   13/  100] | d_loss: 1.1293 | g_loss: 1.5451\n",
            "Epoch [   13/  100] | d_loss: 1.0972 | g_loss: 1.2459\n",
            "Epoch [   14/  100] | d_loss: 1.1845 | g_loss: 0.7947\n",
            "Epoch [   14/  100] | d_loss: 1.3061 | g_loss: 0.9960\n",
            "Epoch [   14/  100] | d_loss: 1.3963 | g_loss: 1.3683\n",
            "Epoch [   15/  100] | d_loss: 1.1829 | g_loss: 1.4310\n",
            "Epoch [   15/  100] | d_loss: 1.1910 | g_loss: 1.5111\n",
            "Epoch [   15/  100] | d_loss: 1.4157 | g_loss: 0.8365\n",
            "Epoch [   16/  100] | d_loss: 1.1068 | g_loss: 1.3774\n",
            "Epoch [   16/  100] | d_loss: 1.2554 | g_loss: 1.3501\n",
            "Epoch [   16/  100] | d_loss: 1.3329 | g_loss: 0.9677\n",
            "Epoch [   17/  100] | d_loss: 1.3153 | g_loss: 0.8647\n",
            "Epoch [   17/  100] | d_loss: 1.2463 | g_loss: 0.8776\n",
            "Epoch [   17/  100] | d_loss: 1.3491 | g_loss: 0.9192\n",
            "Epoch [   18/  100] | d_loss: 1.2971 | g_loss: 1.8203\n",
            "Epoch [   18/  100] | d_loss: 1.2550 | g_loss: 1.1077\n",
            "Epoch [   18/  100] | d_loss: 1.2881 | g_loss: 1.2632\n",
            "Epoch [   19/  100] | d_loss: 1.3170 | g_loss: 1.0021\n",
            "Epoch [   19/  100] | d_loss: 1.2739 | g_loss: 0.9903\n",
            "Epoch [   19/  100] | d_loss: 1.3141 | g_loss: 1.0424\n",
            "Epoch [   20/  100] | d_loss: 1.2134 | g_loss: 1.2384\n",
            "Epoch [   20/  100] | d_loss: 1.1483 | g_loss: 1.1894\n",
            "Epoch [   20/  100] | d_loss: 1.1533 | g_loss: 1.2050\n",
            "Epoch [   21/  100] | d_loss: 1.3606 | g_loss: 1.0238\n",
            "Epoch [   21/  100] | d_loss: 1.2371 | g_loss: 0.8879\n",
            "Epoch [   21/  100] | d_loss: 1.3682 | g_loss: 1.0687\n",
            "Epoch [   22/  100] | d_loss: 1.2823 | g_loss: 1.3914\n",
            "Epoch [   22/  100] | d_loss: 1.3086 | g_loss: 1.2179\n",
            "Epoch [   22/  100] | d_loss: 1.2448 | g_loss: 1.2063\n",
            "Epoch [   23/  100] | d_loss: 1.3293 | g_loss: 0.9723\n",
            "Epoch [   23/  100] | d_loss: 1.1507 | g_loss: 1.1857\n",
            "Epoch [   23/  100] | d_loss: 1.2216 | g_loss: 1.3409\n",
            "Epoch [   24/  100] | d_loss: 1.2606 | g_loss: 1.1812\n",
            "Epoch [   24/  100] | d_loss: 1.3047 | g_loss: 0.9565\n",
            "Epoch [   24/  100] | d_loss: 1.4964 | g_loss: 0.8376\n",
            "Epoch [   25/  100] | d_loss: 1.3062 | g_loss: 0.9334\n",
            "Epoch [   25/  100] | d_loss: 1.2750 | g_loss: 0.9228\n",
            "Epoch [   25/  100] | d_loss: 1.1564 | g_loss: 1.3817\n",
            "Epoch [   26/  100] | d_loss: 1.2071 | g_loss: 1.3782\n",
            "Epoch [   26/  100] | d_loss: 1.2796 | g_loss: 0.9080\n",
            "Epoch [   26/  100] | d_loss: 1.3252 | g_loss: 0.9511\n",
            "Epoch [   27/  100] | d_loss: 1.3324 | g_loss: 0.8593\n",
            "Epoch [   27/  100] | d_loss: 1.2985 | g_loss: 1.0260\n",
            "Epoch [   27/  100] | d_loss: 1.2655 | g_loss: 1.0987\n",
            "Epoch [   28/  100] | d_loss: 1.3167 | g_loss: 1.0040\n",
            "Epoch [   28/  100] | d_loss: 1.2939 | g_loss: 0.9134\n",
            "Epoch [   28/  100] | d_loss: 1.2226 | g_loss: 1.2489\n",
            "Epoch [   29/  100] | d_loss: 1.2996 | g_loss: 1.1221\n",
            "Epoch [   29/  100] | d_loss: 1.2901 | g_loss: 0.9690\n",
            "Epoch [   29/  100] | d_loss: 1.3517 | g_loss: 1.3263\n",
            "Epoch [   30/  100] | d_loss: 1.2925 | g_loss: 1.0870\n",
            "Epoch [   30/  100] | d_loss: 1.1912 | g_loss: 0.8742\n",
            "Epoch [   30/  100] | d_loss: 1.2762 | g_loss: 0.9638\n",
            "Epoch [   31/  100] | d_loss: 1.2913 | g_loss: 1.0114\n",
            "Epoch [   31/  100] | d_loss: 1.3212 | g_loss: 0.9119\n",
            "Epoch [   31/  100] | d_loss: 1.4695 | g_loss: 0.9880\n",
            "Epoch [   32/  100] | d_loss: 1.3295 | g_loss: 0.9684\n",
            "Epoch [   32/  100] | d_loss: 1.2127 | g_loss: 0.9569\n",
            "Epoch [   32/  100] | d_loss: 1.2800 | g_loss: 1.0158\n",
            "Epoch [   33/  100] | d_loss: 1.3455 | g_loss: 2.0078\n",
            "Epoch [   33/  100] | d_loss: 1.2795 | g_loss: 1.0036\n",
            "Epoch [   33/  100] | d_loss: 1.1685 | g_loss: 1.2910\n",
            "Epoch [   34/  100] | d_loss: 1.2882 | g_loss: 0.8950\n",
            "Epoch [   34/  100] | d_loss: 1.3128 | g_loss: 0.9456\n",
            "Epoch [   34/  100] | d_loss: 1.2794 | g_loss: 0.9558\n",
            "Epoch [   35/  100] | d_loss: 1.2378 | g_loss: 1.2843\n",
            "Epoch [   35/  100] | d_loss: 1.1872 | g_loss: 1.7222\n",
            "Epoch [   35/  100] | d_loss: 1.3597 | g_loss: 0.9682\n",
            "Epoch [   36/  100] | d_loss: 1.3305 | g_loss: 1.1599\n",
            "Epoch [   36/  100] | d_loss: 1.2435 | g_loss: 0.9659\n",
            "Epoch [   36/  100] | d_loss: 1.3228 | g_loss: 0.9748\n",
            "Epoch [   37/  100] | d_loss: 1.1686 | g_loss: 1.1785\n",
            "Epoch [   37/  100] | d_loss: 1.2801 | g_loss: 0.9641\n",
            "Epoch [   37/  100] | d_loss: 1.2828 | g_loss: 1.0299\n",
            "Epoch [   38/  100] | d_loss: 1.2782 | g_loss: 1.1426\n",
            "Epoch [   38/  100] | d_loss: 1.2886 | g_loss: 0.9222\n",
            "Epoch [   38/  100] | d_loss: 1.2797 | g_loss: 0.9051\n",
            "Epoch [   39/  100] | d_loss: 1.3534 | g_loss: 1.3130\n",
            "Epoch [   39/  100] | d_loss: 1.2397 | g_loss: 1.0315\n",
            "Epoch [   39/  100] | d_loss: 1.3687 | g_loss: 0.8898\n",
            "Epoch [   40/  100] | d_loss: 1.3092 | g_loss: 1.3133\n",
            "Epoch [   40/  100] | d_loss: 1.1946 | g_loss: 1.6851\n",
            "Epoch [   40/  100] | d_loss: 1.3072 | g_loss: 1.0161\n",
            "Epoch [   41/  100] | d_loss: 1.2515 | g_loss: 1.1813\n",
            "Epoch [   41/  100] | d_loss: 1.3246 | g_loss: 0.9812\n",
            "Epoch [   41/  100] | d_loss: 1.3607 | g_loss: 0.9521\n",
            "Epoch [   42/  100] | d_loss: 1.4363 | g_loss: 1.1115\n",
            "Epoch [   42/  100] | d_loss: 1.1527 | g_loss: 1.1209\n",
            "Epoch [   42/  100] | d_loss: 1.3717 | g_loss: 0.9013\n",
            "Epoch [   43/  100] | d_loss: 1.2979 | g_loss: 1.3880\n",
            "Epoch [   43/  100] | d_loss: 1.2917 | g_loss: 0.9219\n",
            "Epoch [   43/  100] | d_loss: 1.2779 | g_loss: 1.0964\n",
            "Epoch [   44/  100] | d_loss: 1.2380 | g_loss: 1.4623\n",
            "Epoch [   44/  100] | d_loss: 1.1956 | g_loss: 0.8845\n",
            "Epoch [   44/  100] | d_loss: 1.3520 | g_loss: 1.0236\n",
            "Epoch [   45/  100] | d_loss: 1.3020 | g_loss: 1.1614\n",
            "Epoch [   45/  100] | d_loss: 1.2249 | g_loss: 1.0422\n",
            "Epoch [   45/  100] | d_loss: 1.3914 | g_loss: 1.4678\n",
            "Epoch [   46/  100] | d_loss: 1.2963 | g_loss: 0.8761\n",
            "Epoch [   46/  100] | d_loss: 1.3135 | g_loss: 0.9134\n",
            "Epoch [   46/  100] | d_loss: 1.2150 | g_loss: 0.9433\n",
            "Epoch [   47/  100] | d_loss: 1.2890 | g_loss: 0.7868\n",
            "Epoch [   47/  100] | d_loss: 1.2817 | g_loss: 0.9961\n",
            "Epoch [   47/  100] | d_loss: 1.3125 | g_loss: 1.0936\n",
            "Epoch [   48/  100] | d_loss: 1.2427 | g_loss: 1.0636\n",
            "Epoch [   48/  100] | d_loss: 1.2049 | g_loss: 0.9587\n",
            "Epoch [   48/  100] | d_loss: 1.3449 | g_loss: 1.1840\n",
            "Epoch [   49/  100] | d_loss: 1.4447 | g_loss: 1.3033\n",
            "Epoch [   49/  100] | d_loss: 1.2680 | g_loss: 1.1703\n",
            "Epoch [   49/  100] | d_loss: 1.3295 | g_loss: 1.1296\n",
            "Epoch [   50/  100] | d_loss: 1.2423 | g_loss: 0.8629\n",
            "Epoch [   50/  100] | d_loss: 1.3073 | g_loss: 0.9306\n",
            "Epoch [   50/  100] | d_loss: 1.3066 | g_loss: 0.9160\n",
            "Epoch [   51/  100] | d_loss: 1.2536 | g_loss: 0.9598\n",
            "Epoch [   51/  100] | d_loss: 1.4275 | g_loss: 1.0918\n",
            "Epoch [   51/  100] | d_loss: 1.2711 | g_loss: 0.9882\n",
            "Epoch [   52/  100] | d_loss: 1.3117 | g_loss: 0.8330\n",
            "Epoch [   52/  100] | d_loss: 1.2479 | g_loss: 1.0103\n",
            "Epoch [   52/  100] | d_loss: 1.3046 | g_loss: 1.1020\n",
            "Epoch [   53/  100] | d_loss: 1.2640 | g_loss: 0.9072\n",
            "Epoch [   53/  100] | d_loss: 1.2473 | g_loss: 1.1419\n",
            "Epoch [   53/  100] | d_loss: 1.2494 | g_loss: 0.9543\n",
            "Epoch [   54/  100] | d_loss: 1.2852 | g_loss: 0.9830\n",
            "Epoch [   54/  100] | d_loss: 1.2812 | g_loss: 0.8457\n",
            "Epoch [   54/  100] | d_loss: 1.3897 | g_loss: 1.0635\n",
            "Epoch [   55/  100] | d_loss: 1.3035 | g_loss: 0.9936\n",
            "Epoch [   55/  100] | d_loss: 1.3391 | g_loss: 0.8895\n",
            "Epoch [   55/  100] | d_loss: 1.2526 | g_loss: 1.0373\n",
            "Epoch [   56/  100] | d_loss: 1.3005 | g_loss: 0.9622\n",
            "Epoch [   56/  100] | d_loss: 1.2565 | g_loss: 0.9054\n",
            "Epoch [   56/  100] | d_loss: 1.2984 | g_loss: 0.8620\n",
            "Epoch [   57/  100] | d_loss: 1.2818 | g_loss: 1.2179\n",
            "Epoch [   57/  100] | d_loss: 1.2553 | g_loss: 0.8497\n",
            "Epoch [   57/  100] | d_loss: 1.3273 | g_loss: 0.8488\n",
            "Epoch [   58/  100] | d_loss: 1.3209 | g_loss: 0.7114\n",
            "Epoch [   58/  100] | d_loss: 1.3123 | g_loss: 0.9492\n",
            "Epoch [   58/  100] | d_loss: 1.3271 | g_loss: 1.1102\n",
            "Epoch [   59/  100] | d_loss: 1.3551 | g_loss: 0.9595\n",
            "Epoch [   59/  100] | d_loss: 1.3074 | g_loss: 1.3897\n",
            "Epoch [   59/  100] | d_loss: 1.2963 | g_loss: 1.0599\n",
            "Epoch [   60/  100] | d_loss: 1.3199 | g_loss: 0.7209\n",
            "Epoch [   60/  100] | d_loss: 1.3048 | g_loss: 1.1639\n",
            "Epoch [   60/  100] | d_loss: 1.4318 | g_loss: 1.3819\n",
            "Epoch [   61/  100] | d_loss: 1.3271 | g_loss: 0.7653\n",
            "Epoch [   61/  100] | d_loss: 1.2220 | g_loss: 1.4946\n",
            "Epoch [   61/  100] | d_loss: 1.3560 | g_loss: 0.9331\n",
            "Epoch [   62/  100] | d_loss: 1.2714 | g_loss: 0.8760\n",
            "Epoch [   62/  100] | d_loss: 1.2266 | g_loss: 0.9291\n",
            "Epoch [   62/  100] | d_loss: 1.3831 | g_loss: 0.9107\n",
            "Epoch [   63/  100] | d_loss: 1.2564 | g_loss: 0.8918\n",
            "Epoch [   63/  100] | d_loss: 1.2771 | g_loss: 1.0650\n",
            "Epoch [   63/  100] | d_loss: 1.3789 | g_loss: 0.9595\n",
            "Epoch [   64/  100] | d_loss: 1.4037 | g_loss: 0.8316\n",
            "Epoch [   64/  100] | d_loss: 1.2717 | g_loss: 1.1600\n",
            "Epoch [   64/  100] | d_loss: 1.3841 | g_loss: 1.0338\n",
            "Epoch [   65/  100] | d_loss: 1.3467 | g_loss: 0.7392\n",
            "Epoch [   65/  100] | d_loss: 1.2462 | g_loss: 0.9058\n",
            "Epoch [   65/  100] | d_loss: 1.2966 | g_loss: 1.0873\n",
            "Epoch [   66/  100] | d_loss: 1.3577 | g_loss: 1.0359\n",
            "Epoch [   66/  100] | d_loss: 1.3123 | g_loss: 0.9443\n",
            "Epoch [   66/  100] | d_loss: 1.4611 | g_loss: 0.8382\n",
            "Epoch [   67/  100] | d_loss: 1.2546 | g_loss: 1.1996\n",
            "Epoch [   67/  100] | d_loss: 1.2469 | g_loss: 0.8969\n",
            "Epoch [   67/  100] | d_loss: 1.4227 | g_loss: 1.1413\n",
            "Epoch [   68/  100] | d_loss: 1.2717 | g_loss: 1.1770\n",
            "Epoch [   68/  100] | d_loss: 1.2844 | g_loss: 0.9837\n",
            "Epoch [   68/  100] | d_loss: 1.3232 | g_loss: 0.9358\n",
            "Epoch [   69/  100] | d_loss: 1.3007 | g_loss: 0.8898\n",
            "Epoch [   69/  100] | d_loss: 1.2507 | g_loss: 1.4191\n",
            "Epoch [   69/  100] | d_loss: 1.1611 | g_loss: 1.0868\n",
            "Epoch [   70/  100] | d_loss: 1.2684 | g_loss: 1.1407\n",
            "Epoch [   70/  100] | d_loss: 1.2923 | g_loss: 1.0607\n",
            "Epoch [   70/  100] | d_loss: 1.2829 | g_loss: 1.4847\n",
            "Epoch [   71/  100] | d_loss: 1.3243 | g_loss: 0.8421\n",
            "Epoch [   71/  100] | d_loss: 1.2997 | g_loss: 0.9856\n",
            "Epoch [   71/  100] | d_loss: 1.3836 | g_loss: 0.9495\n",
            "Epoch [   72/  100] | d_loss: 1.2357 | g_loss: 1.1127\n",
            "Epoch [   72/  100] | d_loss: 1.3157 | g_loss: 0.8962\n",
            "Epoch [   72/  100] | d_loss: 1.2908 | g_loss: 0.9185\n",
            "Epoch [   73/  100] | d_loss: 1.3056 | g_loss: 0.7340\n",
            "Epoch [   73/  100] | d_loss: 1.3010 | g_loss: 0.9346\n",
            "Epoch [   73/  100] | d_loss: 1.4117 | g_loss: 0.9766\n",
            "Epoch [   74/  100] | d_loss: 1.2749 | g_loss: 0.7971\n",
            "Epoch [   74/  100] | d_loss: 1.3980 | g_loss: 1.0692\n",
            "Epoch [   74/  100] | d_loss: 1.3721 | g_loss: 1.7280\n",
            "Epoch [   75/  100] | d_loss: 1.2627 | g_loss: 0.9399\n",
            "Epoch [   75/  100] | d_loss: 1.2271 | g_loss: 1.0242\n",
            "Epoch [   75/  100] | d_loss: 1.3989 | g_loss: 0.8136\n",
            "Epoch [   76/  100] | d_loss: 1.2593 | g_loss: 0.8501\n",
            "Epoch [   76/  100] | d_loss: 1.3069 | g_loss: 1.1143\n",
            "Epoch [   76/  100] | d_loss: 1.3502 | g_loss: 1.0650\n",
            "Epoch [   77/  100] | d_loss: 1.2879 | g_loss: 0.9478\n",
            "Epoch [   77/  100] | d_loss: 1.3399 | g_loss: 1.0403\n",
            "Epoch [   77/  100] | d_loss: 1.3353 | g_loss: 1.0571\n",
            "Epoch [   78/  100] | d_loss: 1.2496 | g_loss: 1.1744\n",
            "Epoch [   78/  100] | d_loss: 1.1796 | g_loss: 0.9744\n",
            "Epoch [   78/  100] | d_loss: 1.3310 | g_loss: 0.9111\n",
            "Epoch [   79/  100] | d_loss: 1.2515 | g_loss: 1.1637\n",
            "Epoch [   79/  100] | d_loss: 1.3315 | g_loss: 1.0449\n",
            "Epoch [   79/  100] | d_loss: 1.3143 | g_loss: 0.9730\n",
            "Epoch [   80/  100] | d_loss: 1.2410 | g_loss: 0.9244\n",
            "Epoch [   80/  100] | d_loss: 1.2698 | g_loss: 0.9193\n",
            "Epoch [   80/  100] | d_loss: 1.3254 | g_loss: 0.9806\n",
            "Epoch [   81/  100] | d_loss: 1.2670 | g_loss: 1.0538\n",
            "Epoch [   81/  100] | d_loss: 1.2120 | g_loss: 1.3737\n",
            "Epoch [   81/  100] | d_loss: 1.3198 | g_loss: 1.0039\n",
            "Epoch [   82/  100] | d_loss: 1.3262 | g_loss: 0.8642\n",
            "Epoch [   82/  100] | d_loss: 1.2674 | g_loss: 1.0579\n",
            "Epoch [   82/  100] | d_loss: 1.4731 | g_loss: 1.0561\n",
            "Epoch [   83/  100] | d_loss: 1.3843 | g_loss: 1.0048\n",
            "Epoch [   83/  100] | d_loss: 1.2287 | g_loss: 0.9752\n",
            "Epoch [   83/  100] | d_loss: 1.2611 | g_loss: 1.1678\n",
            "Epoch [   84/  100] | d_loss: 1.4541 | g_loss: 1.1813\n",
            "Epoch [   84/  100] | d_loss: 1.2483 | g_loss: 1.0623\n",
            "Epoch [   84/  100] | d_loss: 1.2919 | g_loss: 0.9169\n",
            "Epoch [   85/  100] | d_loss: 1.3395 | g_loss: 1.5249\n",
            "Epoch [   85/  100] | d_loss: 1.1764 | g_loss: 1.1351\n",
            "Epoch [   85/  100] | d_loss: 1.3143 | g_loss: 0.9635\n",
            "Epoch [   86/  100] | d_loss: 1.2697 | g_loss: 1.1114\n",
            "Epoch [   86/  100] | d_loss: 1.2665 | g_loss: 1.1649\n",
            "Epoch [   86/  100] | d_loss: 1.3250 | g_loss: 1.2254\n",
            "Epoch [   87/  100] | d_loss: 1.3060 | g_loss: 0.7668\n",
            "Epoch [   87/  100] | d_loss: 1.2446 | g_loss: 1.0601\n",
            "Epoch [   87/  100] | d_loss: 1.2471 | g_loss: 0.9694\n",
            "Epoch [   88/  100] | d_loss: 1.2617 | g_loss: 0.7840\n",
            "Epoch [   88/  100] | d_loss: 1.1923 | g_loss: 0.9317\n",
            "Epoch [   88/  100] | d_loss: 1.3761 | g_loss: 1.0411\n",
            "Epoch [   89/  100] | d_loss: 1.2787 | g_loss: 1.1060\n",
            "Epoch [   89/  100] | d_loss: 1.2399 | g_loss: 1.0086\n",
            "Epoch [   89/  100] | d_loss: 1.3334 | g_loss: 1.2004\n",
            "Epoch [   90/  100] | d_loss: 1.2912 | g_loss: 0.9501\n",
            "Epoch [   90/  100] | d_loss: 1.1882 | g_loss: 0.9166\n",
            "Epoch [   90/  100] | d_loss: 1.3571 | g_loss: 1.2534\n",
            "Epoch [   91/  100] | d_loss: 1.2579 | g_loss: 1.2403\n",
            "Epoch [   91/  100] | d_loss: 1.3005 | g_loss: 1.0344\n",
            "Epoch [   91/  100] | d_loss: 1.3610 | g_loss: 1.0291\n",
            "Epoch [   92/  100] | d_loss: 1.2976 | g_loss: 1.1914\n",
            "Epoch [   92/  100] | d_loss: 1.3072 | g_loss: 0.9893\n",
            "Epoch [   92/  100] | d_loss: 1.3703 | g_loss: 0.8638\n",
            "Epoch [   93/  100] | d_loss: 1.3083 | g_loss: 1.0563\n",
            "Epoch [   93/  100] | d_loss: 1.3020 | g_loss: 0.9359\n",
            "Epoch [   93/  100] | d_loss: 1.3816 | g_loss: 0.9387\n",
            "Epoch [   94/  100] | d_loss: 1.3082 | g_loss: 1.2015\n",
            "Epoch [   94/  100] | d_loss: 1.3034 | g_loss: 1.1048\n",
            "Epoch [   94/  100] | d_loss: 1.2622 | g_loss: 1.1429\n",
            "Epoch [   95/  100] | d_loss: 1.2505 | g_loss: 1.2216\n",
            "Epoch [   95/  100] | d_loss: 1.3546 | g_loss: 1.2685\n",
            "Epoch [   95/  100] | d_loss: 1.3965 | g_loss: 0.8923\n",
            "Epoch [   96/  100] | d_loss: 1.5347 | g_loss: 1.0651\n",
            "Epoch [   96/  100] | d_loss: 1.3613 | g_loss: 1.2680\n",
            "Epoch [   96/  100] | d_loss: 1.4798 | g_loss: 1.1329\n",
            "Epoch [   97/  100] | d_loss: 1.2400 | g_loss: 0.9557\n",
            "Epoch [   97/  100] | d_loss: 1.3390 | g_loss: 0.9076\n",
            "Epoch [   97/  100] | d_loss: 1.2084 | g_loss: 1.0203\n",
            "Epoch [   98/  100] | d_loss: 1.2929 | g_loss: 0.9290\n",
            "Epoch [   98/  100] | d_loss: 1.3187 | g_loss: 1.0442\n",
            "Epoch [   98/  100] | d_loss: 1.3738 | g_loss: 0.9895\n",
            "Epoch [   99/  100] | d_loss: 1.2566 | g_loss: 1.0869\n",
            "Epoch [   99/  100] | d_loss: 1.2550 | g_loss: 1.1082\n",
            "Epoch [   99/  100] | d_loss: 1.2923 | g_loss: 1.1816\n",
            "Epoch [  100/  100] | d_loss: 1.2647 | g_loss: 1.3377\n",
            "Epoch [  100/  100] | d_loss: 1.2635 | g_loss: 1.1436\n",
            "Epoch [  100/  100] | d_loss: 1.3500 | g_loss: 0.9001\n"
          ]
        }
      ]
    },
    {
      "cell_type": "markdown",
      "metadata": {
        "id": "IuY7M9_VQnk0"
      },
      "source": [
        "## Training loss\n",
        "\n",
        "Here we'll plot the training losses for the generator and discriminator, recorded after each epoch."
      ]
    },
    {
      "cell_type": "code",
      "metadata": {
        "id": "byTqSbtQQnk0",
        "colab": {
          "base_uri": "https://localhost:8080/",
          "height": 298
        },
        "outputId": "ca37478c-768e-4d0d-c1f3-c056429dacc4"
      },
      "source": [
        "fig, ax = plt.subplots()\n",
        "losses = np.array(losses)\n",
        "plt.plot(losses.T[0], label='Discriminator')\n",
        "plt.plot(losses.T[1], label='Generator')\n",
        "plt.title(\"Training Losses\")\n",
        "plt.legend()"
      ],
      "execution_count": null,
      "outputs": [
        {
          "output_type": "execute_result",
          "data": {
            "text/plain": [
              "<matplotlib.legend.Legend at 0x7f651d138ad0>"
            ]
          },
          "metadata": {},
          "execution_count": 13
        },
        {
          "output_type": "display_data",
          "data": {
            "image/png": "[encoded data removed]",
            "text/plain": [
              "<Figure size 432x288 with 1 Axes>"
            ]
          },
          "metadata": {
            "needs_background": "light"
          }
        }
      ]
    },
    {
      "cell_type": "markdown",
      "metadata": {
        "id": "16pt2QN9Qnk1"
      },
      "source": [
        "## Generator samples from training\n",
        "\n",
        "Here we can view samples of images from the generator. First we'll look at the images we saved during training."
      ]
    },
    {
      "cell_type": "code",
      "metadata": {
        "id": "WO_l6xDHQnk1"
      },
      "source": [
        "# helper function for viewing a list of passed in sample images\n",
        "def view_samples(epoch, samples):\n",
        "    fig, axes = plt.subplots(figsize=(7,7), nrows=4, ncols=4, sharey=True, sharex=True)\n",
        "    for ax, img in zip(axes.flatten(), samples[epoch]):\n",
        "        img = img.detach()\n",
        "        ax.xaxis.set_visible(False)\n",
        "        ax.yaxis.set_visible(False)\n",
        "        im = ax.imshow(img.reshape((28,28)), cmap='Greys_r')"
      ],
      "execution_count": null,
      "outputs": []
    },
    {
      "cell_type": "code",
      "metadata": {
        "id": "8PwWwyLHQnk1"
      },
      "source": [
        "# Load samples from generator, taken while training\n",
        "with open('train_samples.pkl', 'rb') as f:\n",
        "    samples = pkl.load(f)"
      ],
      "execution_count": null,
      "outputs": []
    },
    {
      "cell_type": "markdown",
      "metadata": {
        "id": "OhMa8NVSQnk1"
      },
      "source": [
        "These are samples from the final training epoch. You can see the generator is able to reproduce numbers like 1, 7, 3, 2. Since this is just a sample, it isn't representative of the full range of images this generator can make."
      ]
    },
    {
      "cell_type": "code",
      "metadata": {
        "id": "m3tZig47Qnk1",
        "colab": {
          "base_uri": "https://localhost:8080/",
          "height": 415
        },
        "outputId": "d9827a0e-7a22-4d48-d3cd-19446d08ae38"
      },
      "source": [
        "# -1 indicates final epoch's samples (the last in the list)\n",
        "view_samples(-1, samples)"
      ],
      "execution_count": null,
      "outputs": [
        {
          "output_type": "display_data",
          "data": {
            "image/png": "[encoded data removed]",
            "text/plain": [
              "<Figure size 504x504 with 16 Axes>"
            ]
          },
          "metadata": {
            "needs_background": "light"
          }
        }
      ]
    },
    {
      "cell_type": "markdown",
      "metadata": {
        "id": "jYWI9lvnQnk2"
      },
      "source": [
        "Below I'm showing the generated images as the network was training, every 10 epochs."
      ]
    },
    {
      "cell_type": "code",
      "metadata": {
        "id": "LK8ED7mhQnk2",
        "colab": {
          "base_uri": "https://localhost:8080/",
          "height": 687
        },
        "outputId": "8c228d35-f485-4c04-a434-4fa593eab5d0"
      },
      "source": [
        "rows = 10 # split epochs into 10, so 100/10 = every 10 epochs\n",
        "cols = 6\n",
        "fig, axes = plt.subplots(figsize=(7,12), nrows=rows, ncols=cols, sharex=True, sharey=True)\n",
        "\n",
        "for sample, ax_row in zip(samples[::int(len(samples)/rows)], axes):\n",
        "    for img, ax in zip(sample[::int(len(sample)/cols)], ax_row):\n",
        "        img = img.detach()\n",
        "        ax.imshow(img.reshape((28,28)), cmap='Greys_r')\n",
        "        ax.xaxis.set_visible(False)\n",
        "        ax.yaxis.set_visible(False)"
      ],
      "execution_count": null,
      "outputs": [
        {
          "output_type": "display_data",
          "data": {
            "image/png": "[encoded data removed]",
            "text/plain": [
              "<Figure size 504x864 with 60 Axes>"
            ]
          },
          "metadata": {
            "needs_background": "light"
          }
        }
      ]
    },
    {
      "cell_type": "markdown",
      "metadata": {
        "id": "t66lune4Qnk2"
      },
      "source": [
        "It starts out as all noise. Then it learns to make only the center white and the rest black. You can start to see some number like structures appear out of the noise like 1s and 9s."
      ]
    },
    {
      "cell_type": "markdown",
      "metadata": {
        "id": "NJ8NnjleQnk2"
      },
      "source": [
        "## Sampling from the generator\n",
        "\n",
        "We can also get completely new images from the generator by using the checkpoint we saved after training. **We just need to pass in a new latent vector $z$ and we'll get new samples**!"
      ]
    },
    {
      "cell_type": "code",
      "metadata": {
        "id": "vHPZ0BfIQnk2",
        "colab": {
          "base_uri": "https://localhost:8080/",
          "height": 450
        },
        "outputId": "5df7777f-0dcc-4e11-f188-7afe06f5bbdb"
      },
      "source": [
        "# randomly generated, new latent vectors\n",
        "sample_size=16\n",
        "rand_z = np.random.uniform(-1, 1, size=(sample_size, z_size))\n",
        "rand_z = torch.from_numpy(rand_z).float()\n",
        "\n",
        "G.eval() # eval mode\n",
        "# generated samples\n",
        "rand_images = G(rand_z)\n",
        "\n",
        "# 0 indicates the first set of samples in the passed in list\n",
        "# and we only have one batch of samples, here\n",
        "view_samples(0, [rand_images])"
      ],
      "execution_count": null,
      "outputs": [
        {
          "output_type": "stream",
          "name": "stderr",
          "text": [
            "/usr/local/lib/python3.7/dist-packages/torch/nn/functional.py:1795: UserWarning: nn.functional.tanh is deprecated. Use torch.tanh instead.\n",
            "  warnings.warn(\"nn.functional.tanh is deprecated. Use torch.tanh instead.\")\n"
          ]
        },
        {
          "output_type": "display_data",
          "data": {
            "image/png": "[encoded data removed]",
            "text/plain": [
              "<Figure size 504x504 with 16 Axes>"
            ]
          },
          "metadata": {
            "needs_background": "light"
          }
        }
      ]
    }
  ]
}