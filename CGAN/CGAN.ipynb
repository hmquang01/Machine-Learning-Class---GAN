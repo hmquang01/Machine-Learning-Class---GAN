{
  "nbformat": 4,
  "nbformat_minor": 0,
  "metadata": {
    "colab": {
      "name": "CGAN.ipynb",
      "provenance": [],
      "toc_visible": true
    },
    "kernelspec": {
      "name": "python3",
      "display_name": "Python 3"
    },
    "language_info": {
      "name": "python"
    },
    "accelerator": "GPU",
    "widgets": {
      "application/vnd.jupyter.widget-state+json": {
        "24abb765d71f4d9db60eb649bb0ea23a": {
          "model_module": "@jupyter-widgets/controls",
          "model_name": "HBoxModel",
          "model_module_version": "1.5.0",
          "state": {
            "_view_name": "HBoxView",
            "_dom_classes": [],
            "_model_name": "HBoxModel",
            "_view_module": "@jupyter-widgets/controls",
            "_model_module_version": "1.5.0",
            "_view_count": null,
            "_view_module_version": "1.5.0",
            "box_style": "",
            "layout": "IPY_MODEL_21527723bcc74f1b8c6291e1209e662f",
            "_model_module": "@jupyter-widgets/controls",
            "children": [
              "IPY_MODEL_2ea85c1df05042fc980a992f2501967e",
              "IPY_MODEL_f11d24ca7a464f979ad6e8ed2ad0e63d",
              "IPY_MODEL_b56e37eb25574876bf6fea39ae7ce19f"
            ]
          }
        },
        "21527723bcc74f1b8c6291e1209e662f": {
          "model_module": "@jupyter-widgets/base",
          "model_name": "LayoutModel",
          "model_module_version": "1.2.0",
          "state": {
            "_view_name": "LayoutView",
            "grid_template_rows": null,
            "right": null,
            "justify_content": null,
            "_view_module": "@jupyter-widgets/base",
            "overflow": null,
            "_model_module_version": "1.2.0",
            "_view_count": null,
            "flex_flow": null,
            "width": null,
            "min_width": null,
            "border": null,
            "align_items": null,
            "bottom": null,
            "_model_module": "@jupyter-widgets/base",
            "top": null,
            "grid_column": null,
            "overflow_y": null,
            "overflow_x": null,
            "grid_auto_flow": null,
            "grid_area": null,
            "grid_template_columns": null,
            "flex": null,
            "_model_name": "LayoutModel",
            "justify_items": null,
            "grid_row": null,
            "max_height": null,
            "align_content": null,
            "visibility": null,
            "align_self": null,
            "height": null,
            "min_height": null,
            "padding": null,
            "grid_auto_rows": null,
            "grid_gap": null,
            "max_width": null,
            "order": null,
            "_view_module_version": "1.2.0",
            "grid_template_areas": null,
            "object_position": null,
            "object_fit": null,
            "grid_auto_columns": null,
            "margin": null,
            "display": null,
            "left": null
          }
        },
        "2ea85c1df05042fc980a992f2501967e": {
          "model_module": "@jupyter-widgets/controls",
          "model_name": "HTMLModel",
          "model_module_version": "1.5.0",
          "state": {
            "_view_name": "HTMLView",
            "style": "IPY_MODEL_046a9c18ed6f4347b554fffc4891b8ef",
            "_dom_classes": [],
            "description": "",
            "_model_name": "HTMLModel",
            "placeholder": "​",
            "_view_module": "@jupyter-widgets/controls",
            "_model_module_version": "1.5.0",
            "value": "",
            "_view_count": null,
            "_view_module_version": "1.5.0",
            "description_tooltip": null,
            "_model_module": "@jupyter-widgets/controls",
            "layout": "IPY_MODEL_f514009c6a3c44a9951d5a22f7cd0c6a"
          }
        },
        "f11d24ca7a464f979ad6e8ed2ad0e63d": {
          "model_module": "@jupyter-widgets/controls",
          "model_name": "FloatProgressModel",
          "model_module_version": "1.5.0",
          "state": {
            "_view_name": "ProgressView",
            "style": "IPY_MODEL_4300533e249549dc95b9b6cfff052c7d",
            "_dom_classes": [],
            "description": "",
            "_model_name": "FloatProgressModel",
            "bar_style": "success",
            "max": 9912422,
            "_view_module": "@jupyter-widgets/controls",
            "_model_module_version": "1.5.0",
            "value": 9912422,
            "_view_count": null,
            "_view_module_version": "1.5.0",
            "orientation": "horizontal",
            "min": 0,
            "description_tooltip": null,
            "_model_module": "@jupyter-widgets/controls",
            "layout": "IPY_MODEL_598c06fe02e84bb2939dff8eeccb0752"
          }
        },
        "b56e37eb25574876bf6fea39ae7ce19f": {
          "model_module": "@jupyter-widgets/controls",
          "model_name": "HTMLModel",
          "model_module_version": "1.5.0",
          "state": {
            "_view_name": "HTMLView",
            "style": "IPY_MODEL_4750e5a195314537a14cdc9cdf8f5014",
            "_dom_classes": [],
            "description": "",
            "_model_name": "HTMLModel",
            "placeholder": "​",
            "_view_module": "@jupyter-widgets/controls",
            "_model_module_version": "1.5.0",
            "value": " 9913344/? [00:00&lt;00:00, 36086893.01it/s]",
            "_view_count": null,
            "_view_module_version": "1.5.0",
            "description_tooltip": null,
            "_model_module": "@jupyter-widgets/controls",
            "layout": "IPY_MODEL_30b50d6162d1440f9c0d3c77f43040c9"
          }
        },
        "046a9c18ed6f4347b554fffc4891b8ef": {
          "model_module": "@jupyter-widgets/controls",
          "model_name": "DescriptionStyleModel",
          "model_module_version": "1.5.0",
          "state": {
            "_view_name": "StyleView",
            "_model_name": "DescriptionStyleModel",
            "description_width": "",
            "_view_module": "@jupyter-widgets/base",
            "_model_module_version": "1.5.0",
            "_view_count": null,
            "_view_module_version": "1.2.0",
            "_model_module": "@jupyter-widgets/controls"
          }
        },
        "f514009c6a3c44a9951d5a22f7cd0c6a": {
          "model_module": "@jupyter-widgets/base",
          "model_name": "LayoutModel",
          "model_module_version": "1.2.0",
          "state": {
            "_view_name": "LayoutView",
            "grid_template_rows": null,
            "right": null,
            "justify_content": null,
            "_view_module": "@jupyter-widgets/base",
            "overflow": null,
            "_model_module_version": "1.2.0",
            "_view_count": null,
            "flex_flow": null,
            "width": null,
            "min_width": null,
            "border": null,
            "align_items": null,
            "bottom": null,
            "_model_module": "@jupyter-widgets/base",
            "top": null,
            "grid_column": null,
            "overflow_y": null,
            "overflow_x": null,
            "grid_auto_flow": null,
            "grid_area": null,
            "grid_template_columns": null,
            "flex": null,
            "_model_name": "LayoutModel",
            "justify_items": null,
            "grid_row": null,
            "max_height": null,
            "align_content": null,
            "visibility": null,
            "align_self": null,
            "height": null,
            "min_height": null,
            "padding": null,
            "grid_auto_rows": null,
            "grid_gap": null,
            "max_width": null,
            "order": null,
            "_view_module_version": "1.2.0",
            "grid_template_areas": null,
            "object_position": null,
            "object_fit": null,
            "grid_auto_columns": null,
            "margin": null,
            "display": null,
            "left": null
          }
        },
        "4300533e249549dc95b9b6cfff052c7d": {
          "model_module": "@jupyter-widgets/controls",
          "model_name": "ProgressStyleModel",
          "model_module_version": "1.5.0",
          "state": {
            "_view_name": "StyleView",
            "_model_name": "ProgressStyleModel",
            "description_width": "",
            "_view_module": "@jupyter-widgets/base",
            "_model_module_version": "1.5.0",
            "_view_count": null,
            "_view_module_version": "1.2.0",
            "bar_color": null,
            "_model_module": "@jupyter-widgets/controls"
          }
        },
        "598c06fe02e84bb2939dff8eeccb0752": {
          "model_module": "@jupyter-widgets/base",
          "model_name": "LayoutModel",
          "model_module_version": "1.2.0",
          "state": {
            "_view_name": "LayoutView",
            "grid_template_rows": null,
            "right": null,
            "justify_content": null,
            "_view_module": "@jupyter-widgets/base",
            "overflow": null,
            "_model_module_version": "1.2.0",
            "_view_count": null,
            "flex_flow": null,
            "width": null,
            "min_width": null,
            "border": null,
            "align_items": null,
            "bottom": null,
            "_model_module": "@jupyter-widgets/base",
            "top": null,
            "grid_column": null,
            "overflow_y": null,
            "overflow_x": null,
            "grid_auto_flow": null,
            "grid_area": null,
            "grid_template_columns": null,
            "flex": null,
            "_model_name": "LayoutModel",
            "justify_items": null,
            "grid_row": null,
            "max_height": null,
            "align_content": null,
            "visibility": null,
            "align_self": null,
            "height": null,
            "min_height": null,
            "padding": null,
            "grid_auto_rows": null,
            "grid_gap": null,
            "max_width": null,
            "order": null,
            "_view_module_version": "1.2.0",
            "grid_template_areas": null,
            "object_position": null,
            "object_fit": null,
            "grid_auto_columns": null,
            "margin": null,
            "display": null,
            "left": null
          }
        },
        "4750e5a195314537a14cdc9cdf8f5014": {
          "model_module": "@jupyter-widgets/controls",
          "model_name": "DescriptionStyleModel",
          "model_module_version": "1.5.0",
          "state": {
            "_view_name": "StyleView",
            "_model_name": "DescriptionStyleModel",
            "description_width": "",
            "_view_module": "@jupyter-widgets/base",
            "_model_module_version": "1.5.0",
            "_view_count": null,
            "_view_module_version": "1.2.0",
            "_model_module": "@jupyter-widgets/controls"
          }
        },
        "30b50d6162d1440f9c0d3c77f43040c9": {
          "model_module": "@jupyter-widgets/base",
          "model_name": "LayoutModel",
          "model_module_version": "1.2.0",
          "state": {
            "_view_name": "LayoutView",
            "grid_template_rows": null,
            "right": null,
            "justify_content": null,
            "_view_module": "@jupyter-widgets/base",
            "overflow": null,
            "_model_module_version": "1.2.0",
            "_view_count": null,
            "flex_flow": null,
            "width": null,
            "min_width": null,
            "border": null,
            "align_items": null,
            "bottom": null,
            "_model_module": "@jupyter-widgets/base",
            "top": null,
            "grid_column": null,
            "overflow_y": null,
            "overflow_x": null,
            "grid_auto_flow": null,
            "grid_area": null,
            "grid_template_columns": null,
            "flex": null,
            "_model_name": "LayoutModel",
            "justify_items": null,
            "grid_row": null,
            "max_height": null,
            "align_content": null,
            "visibility": null,
            "align_self": null,
            "height": null,
            "min_height": null,
            "padding": null,
            "grid_auto_rows": null,
            "grid_gap": null,
            "max_width": null,
            "order": null,
            "_view_module_version": "1.2.0",
            "grid_template_areas": null,
            "object_position": null,
            "object_fit": null,
            "grid_auto_columns": null,
            "margin": null,
            "display": null,
            "left": null
          }
        },
        "30f3252361ca459882b5d65be4a453ca": {
          "model_module": "@jupyter-widgets/controls",
          "model_name": "HBoxModel",
          "model_module_version": "1.5.0",
          "state": {
            "_view_name": "HBoxView",
            "_dom_classes": [],
            "_model_name": "HBoxModel",
            "_view_module": "@jupyter-widgets/controls",
            "_model_module_version": "1.5.0",
            "_view_count": null,
            "_view_module_version": "1.5.0",
            "box_style": "",
            "layout": "IPY_MODEL_b9391e23302f480e9219fcf32e49cb72",
            "_model_module": "@jupyter-widgets/controls",
            "children": [
              "IPY_MODEL_9fbc5bab142f46b0893fe25cf2cbd6d8",
              "IPY_MODEL_8c0610c9a26040d98e0979a787b8c8a2",
              "IPY_MODEL_fa8916c6b1604d2cbaaf069aad9fd80d"
            ]
          }
        },
        "b9391e23302f480e9219fcf32e49cb72": {
          "model_module": "@jupyter-widgets/base",
          "model_name": "LayoutModel",
          "model_module_version": "1.2.0",
          "state": {
            "_view_name": "LayoutView",
            "grid_template_rows": null,
            "right": null,
            "justify_content": null,
            "_view_module": "@jupyter-widgets/base",
            "overflow": null,
            "_model_module_version": "1.2.0",
            "_view_count": null,
            "flex_flow": null,
            "width": null,
            "min_width": null,
            "border": null,
            "align_items": null,
            "bottom": null,
            "_model_module": "@jupyter-widgets/base",
            "top": null,
            "grid_column": null,
            "overflow_y": null,
            "overflow_x": null,
            "grid_auto_flow": null,
            "grid_area": null,
            "grid_template_columns": null,
            "flex": null,
            "_model_name": "LayoutModel",
            "justify_items": null,
            "grid_row": null,
            "max_height": null,
            "align_content": null,
            "visibility": null,
            "align_self": null,
            "height": null,
            "min_height": null,
            "padding": null,
            "grid_auto_rows": null,
            "grid_gap": null,
            "max_width": null,
            "order": null,
            "_view_module_version": "1.2.0",
            "grid_template_areas": null,
            "object_position": null,
            "object_fit": null,
            "grid_auto_columns": null,
            "margin": null,
            "display": null,
            "left": null
          }
        },
        "9fbc5bab142f46b0893fe25cf2cbd6d8": {
          "model_module": "@jupyter-widgets/controls",
          "model_name": "HTMLModel",
          "model_module_version": "1.5.0",
          "state": {
            "_view_name": "HTMLView",
            "style": "IPY_MODEL_7d9758fe035640e3aa6d0ae7016f4fc6",
            "_dom_classes": [],
            "description": "",
            "_model_name": "HTMLModel",
            "placeholder": "​",
            "_view_module": "@jupyter-widgets/controls",
            "_model_module_version": "1.5.0",
            "value": "",
            "_view_count": null,
            "_view_module_version": "1.5.0",
            "description_tooltip": null,
            "_model_module": "@jupyter-widgets/controls",
            "layout": "IPY_MODEL_8b8e374559a24d0989f2f8bd438a3363"
          }
        },
        "8c0610c9a26040d98e0979a787b8c8a2": {
          "model_module": "@jupyter-widgets/controls",
          "model_name": "FloatProgressModel",
          "model_module_version": "1.5.0",
          "state": {
            "_view_name": "ProgressView",
            "style": "IPY_MODEL_ddbb1e380b5849e1970df8bbd7fcbd38",
            "_dom_classes": [],
            "description": "",
            "_model_name": "FloatProgressModel",
            "bar_style": "success",
            "max": 28881,
            "_view_module": "@jupyter-widgets/controls",
            "_model_module_version": "1.5.0",
            "value": 28881,
            "_view_count": null,
            "_view_module_version": "1.5.0",
            "orientation": "horizontal",
            "min": 0,
            "description_tooltip": null,
            "_model_module": "@jupyter-widgets/controls",
            "layout": "IPY_MODEL_eafa94d374f94ffaa301167ed8f079c0"
          }
        },
        "fa8916c6b1604d2cbaaf069aad9fd80d": {
          "model_module": "@jupyter-widgets/controls",
          "model_name": "HTMLModel",
          "model_module_version": "1.5.0",
          "state": {
            "_view_name": "HTMLView",
            "style": "IPY_MODEL_f55fa0696b5b498ebdfaeb4542e406b3",
            "_dom_classes": [],
            "description": "",
            "_model_name": "HTMLModel",
            "placeholder": "​",
            "_view_module": "@jupyter-widgets/controls",
            "_model_module_version": "1.5.0",
            "value": " 29696/? [00:00&lt;00:00, 700714.20it/s]",
            "_view_count": null,
            "_view_module_version": "1.5.0",
            "description_tooltip": null,
            "_model_module": "@jupyter-widgets/controls",
            "layout": "IPY_MODEL_485fbfb702224908b7b4cdcc0c147454"
          }
        },
        "7d9758fe035640e3aa6d0ae7016f4fc6": {
          "model_module": "@jupyter-widgets/controls",
          "model_name": "DescriptionStyleModel",
          "model_module_version": "1.5.0",
          "state": {
            "_view_name": "StyleView",
            "_model_name": "DescriptionStyleModel",
            "description_width": "",
            "_view_module": "@jupyter-widgets/base",
            "_model_module_version": "1.5.0",
            "_view_count": null,
            "_view_module_version": "1.2.0",
            "_model_module": "@jupyter-widgets/controls"
          }
        },
        "8b8e374559a24d0989f2f8bd438a3363": {
          "model_module": "@jupyter-widgets/base",
          "model_name": "LayoutModel",
          "model_module_version": "1.2.0",
          "state": {
            "_view_name": "LayoutView",
            "grid_template_rows": null,
            "right": null,
            "justify_content": null,
            "_view_module": "@jupyter-widgets/base",
            "overflow": null,
            "_model_module_version": "1.2.0",
            "_view_count": null,
            "flex_flow": null,
            "width": null,
            "min_width": null,
            "border": null,
            "align_items": null,
            "bottom": null,
            "_model_module": "@jupyter-widgets/base",
            "top": null,
            "grid_column": null,
            "overflow_y": null,
            "overflow_x": null,
            "grid_auto_flow": null,
            "grid_area": null,
            "grid_template_columns": null,
            "flex": null,
            "_model_name": "LayoutModel",
            "justify_items": null,
            "grid_row": null,
            "max_height": null,
            "align_content": null,
            "visibility": null,
            "align_self": null,
            "height": null,
            "min_height": null,
            "padding": null,
            "grid_auto_rows": null,
            "grid_gap": null,
            "max_width": null,
            "order": null,
            "_view_module_version": "1.2.0",
            "grid_template_areas": null,
            "object_position": null,
            "object_fit": null,
            "grid_auto_columns": null,
            "margin": null,
            "display": null,
            "left": null
          }
        },
        "ddbb1e380b5849e1970df8bbd7fcbd38": {
          "model_module": "@jupyter-widgets/controls",
          "model_name": "ProgressStyleModel",
          "model_module_version": "1.5.0",
          "state": {
            "_view_name": "StyleView",
            "_model_name": "ProgressStyleModel",
            "description_width": "",
            "_view_module": "@jupyter-widgets/base",
            "_model_module_version": "1.5.0",
            "_view_count": null,
            "_view_module_version": "1.2.0",
            "bar_color": null,
            "_model_module": "@jupyter-widgets/controls"
          }
        },
        "eafa94d374f94ffaa301167ed8f079c0": {
          "model_module": "@jupyter-widgets/base",
          "model_name": "LayoutModel",
          "model_module_version": "1.2.0",
          "state": {
            "_view_name": "LayoutView",
            "grid_template_rows": null,
            "right": null,
            "justify_content": null,
            "_view_module": "@jupyter-widgets/base",
            "overflow": null,
            "_model_module_version": "1.2.0",
            "_view_count": null,
            "flex_flow": null,
            "width": null,
            "min_width": null,
            "border": null,
            "align_items": null,
            "bottom": null,
            "_model_module": "@jupyter-widgets/base",
            "top": null,
            "grid_column": null,
            "overflow_y": null,
            "overflow_x": null,
            "grid_auto_flow": null,
            "grid_area": null,
            "grid_template_columns": null,
            "flex": null,
            "_model_name": "LayoutModel",
            "justify_items": null,
            "grid_row": null,
            "max_height": null,
            "align_content": null,
            "visibility": null,
            "align_self": null,
            "height": null,
            "min_height": null,
            "padding": null,
            "grid_auto_rows": null,
            "grid_gap": null,
            "max_width": null,
            "order": null,
            "_view_module_version": "1.2.0",
            "grid_template_areas": null,
            "object_position": null,
            "object_fit": null,
            "grid_auto_columns": null,
            "margin": null,
            "display": null,
            "left": null
          }
        },
        "f55fa0696b5b498ebdfaeb4542e406b3": {
          "model_module": "@jupyter-widgets/controls",
          "model_name": "DescriptionStyleModel",
          "model_module_version": "1.5.0",
          "state": {
            "_view_name": "StyleView",
            "_model_name": "DescriptionStyleModel",
            "description_width": "",
            "_view_module": "@jupyter-widgets/base",
            "_model_module_version": "1.5.0",
            "_view_count": null,
            "_view_module_version": "1.2.0",
            "_model_module": "@jupyter-widgets/controls"
          }
        },
        "485fbfb702224908b7b4cdcc0c147454": {
          "model_module": "@jupyter-widgets/base",
          "model_name": "LayoutModel",
          "model_module_version": "1.2.0",
          "state": {
            "_view_name": "LayoutView",
            "grid_template_rows": null,
            "right": null,
            "justify_content": null,
            "_view_module": "@jupyter-widgets/base",
            "overflow": null,
            "_model_module_version": "1.2.0",
            "_view_count": null,
            "flex_flow": null,
            "width": null,
            "min_width": null,
            "border": null,
            "align_items": null,
            "bottom": null,
            "_model_module": "@jupyter-widgets/base",
            "top": null,
            "grid_column": null,
            "overflow_y": null,
            "overflow_x": null,
            "grid_auto_flow": null,
            "grid_area": null,
            "grid_template_columns": null,
            "flex": null,
            "_model_name": "LayoutModel",
            "justify_items": null,
            "grid_row": null,
            "max_height": null,
            "align_content": null,
            "visibility": null,
            "align_self": null,
            "height": null,
            "min_height": null,
            "padding": null,
            "grid_auto_rows": null,
            "grid_gap": null,
            "max_width": null,
            "order": null,
            "_view_module_version": "1.2.0",
            "grid_template_areas": null,
            "object_position": null,
            "object_fit": null,
            "grid_auto_columns": null,
            "margin": null,
            "display": null,
            "left": null
          }
        },
        "65541713a4a34424a2a08ddd8b090822": {
          "model_module": "@jupyter-widgets/controls",
          "model_name": "HBoxModel",
          "model_module_version": "1.5.0",
          "state": {
            "_view_name": "HBoxView",
            "_dom_classes": [],
            "_model_name": "HBoxModel",
            "_view_module": "@jupyter-widgets/controls",
            "_model_module_version": "1.5.0",
            "_view_count": null,
            "_view_module_version": "1.5.0",
            "box_style": "",
            "layout": "IPY_MODEL_face8a4a08824a0ca1bd5a3ab76ae31b",
            "_model_module": "@jupyter-widgets/controls",
            "children": [
              "IPY_MODEL_4fd367d97a4442df865b6536f4caa584",
              "IPY_MODEL_d1c8b4ee7ee34477a31f2dcd34b79cbe",
              "IPY_MODEL_cdb0054326564ffcb1df555cbce9d72d"
            ]
          }
        },
        "face8a4a08824a0ca1bd5a3ab76ae31b": {
          "model_module": "@jupyter-widgets/base",
          "model_name": "LayoutModel",
          "model_module_version": "1.2.0",
          "state": {
            "_view_name": "LayoutView",
            "grid_template_rows": null,
            "right": null,
            "justify_content": null,
            "_view_module": "@jupyter-widgets/base",
            "overflow": null,
            "_model_module_version": "1.2.0",
            "_view_count": null,
            "flex_flow": null,
            "width": null,
            "min_width": null,
            "border": null,
            "align_items": null,
            "bottom": null,
            "_model_module": "@jupyter-widgets/base",
            "top": null,
            "grid_column": null,
            "overflow_y": null,
            "overflow_x": null,
            "grid_auto_flow": null,
            "grid_area": null,
            "grid_template_columns": null,
            "flex": null,
            "_model_name": "LayoutModel",
            "justify_items": null,
            "grid_row": null,
            "max_height": null,
            "align_content": null,
            "visibility": null,
            "align_self": null,
            "height": null,
            "min_height": null,
            "padding": null,
            "grid_auto_rows": null,
            "grid_gap": null,
            "max_width": null,
            "order": null,
            "_view_module_version": "1.2.0",
            "grid_template_areas": null,
            "object_position": null,
            "object_fit": null,
            "grid_auto_columns": null,
            "margin": null,
            "display": null,
            "left": null
          }
        },
        "4fd367d97a4442df865b6536f4caa584": {
          "model_module": "@jupyter-widgets/controls",
          "model_name": "HTMLModel",
          "model_module_version": "1.5.0",
          "state": {
            "_view_name": "HTMLView",
            "style": "IPY_MODEL_48c4a630f50c4284b091b9aaacfa669a",
            "_dom_classes": [],
            "description": "",
            "_model_name": "HTMLModel",
            "placeholder": "​",
            "_view_module": "@jupyter-widgets/controls",
            "_model_module_version": "1.5.0",
            "value": "",
            "_view_count": null,
            "_view_module_version": "1.5.0",
            "description_tooltip": null,
            "_model_module": "@jupyter-widgets/controls",
            "layout": "IPY_MODEL_b64c24e2265840f7866d848f38348acd"
          }
        },
        "d1c8b4ee7ee34477a31f2dcd34b79cbe": {
          "model_module": "@jupyter-widgets/controls",
          "model_name": "FloatProgressModel",
          "model_module_version": "1.5.0",
          "state": {
            "_view_name": "ProgressView",
            "style": "IPY_MODEL_1de9005a45b7492493f0b323a4f60aca",
            "_dom_classes": [],
            "description": "",
            "_model_name": "FloatProgressModel",
            "bar_style": "success",
            "max": 1648877,
            "_view_module": "@jupyter-widgets/controls",
            "_model_module_version": "1.5.0",
            "value": 1648877,
            "_view_count": null,
            "_view_module_version": "1.5.0",
            "orientation": "horizontal",
            "min": 0,
            "description_tooltip": null,
            "_model_module": "@jupyter-widgets/controls",
            "layout": "IPY_MODEL_efa6accc0bd94f2cab54410127979a26"
          }
        },
        "cdb0054326564ffcb1df555cbce9d72d": {
          "model_module": "@jupyter-widgets/controls",
          "model_name": "HTMLModel",
          "model_module_version": "1.5.0",
          "state": {
            "_view_name": "HTMLView",
            "style": "IPY_MODEL_c57048a5f5e145a3aa06f453d3b0e733",
            "_dom_classes": [],
            "description": "",
            "_model_name": "HTMLModel",
            "placeholder": "​",
            "_view_module": "@jupyter-widgets/controls",
            "_model_module_version": "1.5.0",
            "value": " 1649664/? [00:00&lt;00:00, 4034313.77it/s]",
            "_view_count": null,
            "_view_module_version": "1.5.0",
            "description_tooltip": null,
            "_model_module": "@jupyter-widgets/controls",
            "layout": "IPY_MODEL_1a1491b98b9f483e91a0deccd9c88164"
          }
        },
        "48c4a630f50c4284b091b9aaacfa669a": {
          "model_module": "@jupyter-widgets/controls",
          "model_name": "DescriptionStyleModel",
          "model_module_version": "1.5.0",
          "state": {
            "_view_name": "StyleView",
            "_model_name": "DescriptionStyleModel",
            "description_width": "",
            "_view_module": "@jupyter-widgets/base",
            "_model_module_version": "1.5.0",
            "_view_count": null,
            "_view_module_version": "1.2.0",
            "_model_module": "@jupyter-widgets/controls"
          }
        },
        "b64c24e2265840f7866d848f38348acd": {
          "model_module": "@jupyter-widgets/base",
          "model_name": "LayoutModel",
          "model_module_version": "1.2.0",
          "state": {
            "_view_name": "LayoutView",
            "grid_template_rows": null,
            "right": null,
            "justify_content": null,
            "_view_module": "@jupyter-widgets/base",
            "overflow": null,
            "_model_module_version": "1.2.0",
            "_view_count": null,
            "flex_flow": null,
            "width": null,
            "min_width": null,
            "border": null,
            "align_items": null,
            "bottom": null,
            "_model_module": "@jupyter-widgets/base",
            "top": null,
            "grid_column": null,
            "overflow_y": null,
            "overflow_x": null,
            "grid_auto_flow": null,
            "grid_area": null,
            "grid_template_columns": null,
            "flex": null,
            "_model_name": "LayoutModel",
            "justify_items": null,
            "grid_row": null,
            "max_height": null,
            "align_content": null,
            "visibility": null,
            "align_self": null,
            "height": null,
            "min_height": null,
            "padding": null,
            "grid_auto_rows": null,
            "grid_gap": null,
            "max_width": null,
            "order": null,
            "_view_module_version": "1.2.0",
            "grid_template_areas": null,
            "object_position": null,
            "object_fit": null,
            "grid_auto_columns": null,
            "margin": null,
            "display": null,
            "left": null
          }
        },
        "1de9005a45b7492493f0b323a4f60aca": {
          "model_module": "@jupyter-widgets/controls",
          "model_name": "ProgressStyleModel",
          "model_module_version": "1.5.0",
          "state": {
            "_view_name": "StyleView",
            "_model_name": "ProgressStyleModel",
            "description_width": "",
            "_view_module": "@jupyter-widgets/base",
            "_model_module_version": "1.5.0",
            "_view_count": null,
            "_view_module_version": "1.2.0",
            "bar_color": null,
            "_model_module": "@jupyter-widgets/controls"
          }
        },
        "efa6accc0bd94f2cab54410127979a26": {
          "model_module": "@jupyter-widgets/base",
          "model_name": "LayoutModel",
          "model_module_version": "1.2.0",
          "state": {
            "_view_name": "LayoutView",
            "grid_template_rows": null,
            "right": null,
            "justify_content": null,
            "_view_module": "@jupyter-widgets/base",
            "overflow": null,
            "_model_module_version": "1.2.0",
            "_view_count": null,
            "flex_flow": null,
            "width": null,
            "min_width": null,
            "border": null,
            "align_items": null,
            "bottom": null,
            "_model_module": "@jupyter-widgets/base",
            "top": null,
            "grid_column": null,
            "overflow_y": null,
            "overflow_x": null,
            "grid_auto_flow": null,
            "grid_area": null,
            "grid_template_columns": null,
            "flex": null,
            "_model_name": "LayoutModel",
            "justify_items": null,
            "grid_row": null,
            "max_height": null,
            "align_content": null,
            "visibility": null,
            "align_self": null,
            "height": null,
            "min_height": null,
            "padding": null,
            "grid_auto_rows": null,
            "grid_gap": null,
            "max_width": null,
            "order": null,
            "_view_module_version": "1.2.0",
            "grid_template_areas": null,
            "object_position": null,
            "object_fit": null,
            "grid_auto_columns": null,
            "margin": null,
            "display": null,
            "left": null
          }
        },
        "c57048a5f5e145a3aa06f453d3b0e733": {
          "model_module": "@jupyter-widgets/controls",
          "model_name": "DescriptionStyleModel",
          "model_module_version": "1.5.0",
          "state": {
            "_view_name": "StyleView",
            "_model_name": "DescriptionStyleModel",
            "description_width": "",
            "_view_module": "@jupyter-widgets/base",
            "_model_module_version": "1.5.0",
            "_view_count": null,
            "_view_module_version": "1.2.0",
            "_model_module": "@jupyter-widgets/controls"
          }
        },
        "1a1491b98b9f483e91a0deccd9c88164": {
          "model_module": "@jupyter-widgets/base",
          "model_name": "LayoutModel",
          "model_module_version": "1.2.0",
          "state": {
            "_view_name": "LayoutView",
            "grid_template_rows": null,
            "right": null,
            "justify_content": null,
            "_view_module": "@jupyter-widgets/base",
            "overflow": null,
            "_model_module_version": "1.2.0",
            "_view_count": null,
            "flex_flow": null,
            "width": null,
            "min_width": null,
            "border": null,
            "align_items": null,
            "bottom": null,
            "_model_module": "@jupyter-widgets/base",
            "top": null,
            "grid_column": null,
            "overflow_y": null,
            "overflow_x": null,
            "grid_auto_flow": null,
            "grid_area": null,
            "grid_template_columns": null,
            "flex": null,
            "_model_name": "LayoutModel",
            "justify_items": null,
            "grid_row": null,
            "max_height": null,
            "align_content": null,
            "visibility": null,
            "align_self": null,
            "height": null,
            "min_height": null,
            "padding": null,
            "grid_auto_rows": null,
            "grid_gap": null,
            "max_width": null,
            "order": null,
            "_view_module_version": "1.2.0",
            "grid_template_areas": null,
            "object_position": null,
            "object_fit": null,
            "grid_auto_columns": null,
            "margin": null,
            "display": null,
            "left": null
          }
        },
        "c04cc889f1c24fe48daa9bd0b73a0c23": {
          "model_module": "@jupyter-widgets/controls",
          "model_name": "HBoxModel",
          "model_module_version": "1.5.0",
          "state": {
            "_view_name": "HBoxView",
            "_dom_classes": [],
            "_model_name": "HBoxModel",
            "_view_module": "@jupyter-widgets/controls",
            "_model_module_version": "1.5.0",
            "_view_count": null,
            "_view_module_version": "1.5.0",
            "box_style": "",
            "layout": "IPY_MODEL_3ed47369f0304e5280940eb768ba0afe",
            "_model_module": "@jupyter-widgets/controls",
            "children": [
              "IPY_MODEL_ec90d8a1de774e9fb60a167780b91710",
              "IPY_MODEL_0466cac09b654670a6f07891c48b3b82",
              "IPY_MODEL_ed50a4279530459d883b2bf64caff5e4"
            ]
          }
        },
        "3ed47369f0304e5280940eb768ba0afe": {
          "model_module": "@jupyter-widgets/base",
          "model_name": "LayoutModel",
          "model_module_version": "1.2.0",
          "state": {
            "_view_name": "LayoutView",
            "grid_template_rows": null,
            "right": null,
            "justify_content": null,
            "_view_module": "@jupyter-widgets/base",
            "overflow": null,
            "_model_module_version": "1.2.0",
            "_view_count": null,
            "flex_flow": null,
            "width": null,
            "min_width": null,
            "border": null,
            "align_items": null,
            "bottom": null,
            "_model_module": "@jupyter-widgets/base",
            "top": null,
            "grid_column": null,
            "overflow_y": null,
            "overflow_x": null,
            "grid_auto_flow": null,
            "grid_area": null,
            "grid_template_columns": null,
            "flex": null,
            "_model_name": "LayoutModel",
            "justify_items": null,
            "grid_row": null,
            "max_height": null,
            "align_content": null,
            "visibility": null,
            "align_self": null,
            "height": null,
            "min_height": null,
            "padding": null,
            "grid_auto_rows": null,
            "grid_gap": null,
            "max_width": null,
            "order": null,
            "_view_module_version": "1.2.0",
            "grid_template_areas": null,
            "object_position": null,
            "object_fit": null,
            "grid_auto_columns": null,
            "margin": null,
            "display": null,
            "left": null
          }
        },
        "ec90d8a1de774e9fb60a167780b91710": {
          "model_module": "@jupyter-widgets/controls",
          "model_name": "HTMLModel",
          "model_module_version": "1.5.0",
          "state": {
            "_view_name": "HTMLView",
            "style": "IPY_MODEL_fea41a7a08014f28ba09ef5293d8abda",
            "_dom_classes": [],
            "description": "",
            "_model_name": "HTMLModel",
            "placeholder": "​",
            "_view_module": "@jupyter-widgets/controls",
            "_model_module_version": "1.5.0",
            "value": "",
            "_view_count": null,
            "_view_module_version": "1.5.0",
            "description_tooltip": null,
            "_model_module": "@jupyter-widgets/controls",
            "layout": "IPY_MODEL_3d8bcb4feab748249fac9f6187219978"
          }
        },
        "0466cac09b654670a6f07891c48b3b82": {
          "model_module": "@jupyter-widgets/controls",
          "model_name": "FloatProgressModel",
          "model_module_version": "1.5.0",
          "state": {
            "_view_name": "ProgressView",
            "style": "IPY_MODEL_adf4c9aac64b4ea0a610fa92b15ae3cf",
            "_dom_classes": [],
            "description": "",
            "_model_name": "FloatProgressModel",
            "bar_style": "success",
            "max": 4542,
            "_view_module": "@jupyter-widgets/controls",
            "_model_module_version": "1.5.0",
            "value": 4542,
            "_view_count": null,
            "_view_module_version": "1.5.0",
            "orientation": "horizontal",
            "min": 0,
            "description_tooltip": null,
            "_model_module": "@jupyter-widgets/controls",
            "layout": "IPY_MODEL_b5da1dac76e8441eb7e366a0a75e96b8"
          }
        },
        "ed50a4279530459d883b2bf64caff5e4": {
          "model_module": "@jupyter-widgets/controls",
          "model_name": "HTMLModel",
          "model_module_version": "1.5.0",
          "state": {
            "_view_name": "HTMLView",
            "style": "IPY_MODEL_d1756bee41ff4c5181e56fd8f7bdcbcf",
            "_dom_classes": [],
            "description": "",
            "_model_name": "HTMLModel",
            "placeholder": "​",
            "_view_module": "@jupyter-widgets/controls",
            "_model_module_version": "1.5.0",
            "value": " 5120/? [00:00&lt;00:00, 97828.56it/s]",
            "_view_count": null,
            "_view_module_version": "1.5.0",
            "description_tooltip": null,
            "_model_module": "@jupyter-widgets/controls",
            "layout": "IPY_MODEL_c44207651abb49d09272948eb893bc3c"
          }
        },
        "fea41a7a08014f28ba09ef5293d8abda": {
          "model_module": "@jupyter-widgets/controls",
          "model_name": "DescriptionStyleModel",
          "model_module_version": "1.5.0",
          "state": {
            "_view_name": "StyleView",
            "_model_name": "DescriptionStyleModel",
            "description_width": "",
            "_view_module": "@jupyter-widgets/base",
            "_model_module_version": "1.5.0",
            "_view_count": null,
            "_view_module_version": "1.2.0",
            "_model_module": "@jupyter-widgets/controls"
          }
        },
        "3d8bcb4feab748249fac9f6187219978": {
          "model_module": "@jupyter-widgets/base",
          "model_name": "LayoutModel",
          "model_module_version": "1.2.0",
          "state": {
            "_view_name": "LayoutView",
            "grid_template_rows": null,
            "right": null,
            "justify_content": null,
            "_view_module": "@jupyter-widgets/base",
            "overflow": null,
            "_model_module_version": "1.2.0",
            "_view_count": null,
            "flex_flow": null,
            "width": null,
            "min_width": null,
            "border": null,
            "align_items": null,
            "bottom": null,
            "_model_module": "@jupyter-widgets/base",
            "top": null,
            "grid_column": null,
            "overflow_y": null,
            "overflow_x": null,
            "grid_auto_flow": null,
            "grid_area": null,
            "grid_template_columns": null,
            "flex": null,
            "_model_name": "LayoutModel",
            "justify_items": null,
            "grid_row": null,
            "max_height": null,
            "align_content": null,
            "visibility": null,
            "align_self": null,
            "height": null,
            "min_height": null,
            "padding": null,
            "grid_auto_rows": null,
            "grid_gap": null,
            "max_width": null,
            "order": null,
            "_view_module_version": "1.2.0",
            "grid_template_areas": null,
            "object_position": null,
            "object_fit": null,
            "grid_auto_columns": null,
            "margin": null,
            "display": null,
            "left": null
          }
        },
        "adf4c9aac64b4ea0a610fa92b15ae3cf": {
          "model_module": "@jupyter-widgets/controls",
          "model_name": "ProgressStyleModel",
          "model_module_version": "1.5.0",
          "state": {
            "_view_name": "StyleView",
            "_model_name": "ProgressStyleModel",
            "description_width": "",
            "_view_module": "@jupyter-widgets/base",
            "_model_module_version": "1.5.0",
            "_view_count": null,
            "_view_module_version": "1.2.0",
            "bar_color": null,
            "_model_module": "@jupyter-widgets/controls"
          }
        },
        "b5da1dac76e8441eb7e366a0a75e96b8": {
          "model_module": "@jupyter-widgets/base",
          "model_name": "LayoutModel",
          "model_module_version": "1.2.0",
          "state": {
            "_view_name": "LayoutView",
            "grid_template_rows": null,
            "right": null,
            "justify_content": null,
            "_view_module": "@jupyter-widgets/base",
            "overflow": null,
            "_model_module_version": "1.2.0",
            "_view_count": null,
            "flex_flow": null,
            "width": null,
            "min_width": null,
            "border": null,
            "align_items": null,
            "bottom": null,
            "_model_module": "@jupyter-widgets/base",
            "top": null,
            "grid_column": null,
            "overflow_y": null,
            "overflow_x": null,
            "grid_auto_flow": null,
            "grid_area": null,
            "grid_template_columns": null,
            "flex": null,
            "_model_name": "LayoutModel",
            "justify_items": null,
            "grid_row": null,
            "max_height": null,
            "align_content": null,
            "visibility": null,
            "align_self": null,
            "height": null,
            "min_height": null,
            "padding": null,
            "grid_auto_rows": null,
            "grid_gap": null,
            "max_width": null,
            "order": null,
            "_view_module_version": "1.2.0",
            "grid_template_areas": null,
            "object_position": null,
            "object_fit": null,
            "grid_auto_columns": null,
            "margin": null,
            "display": null,
            "left": null
          }
        },
        "d1756bee41ff4c5181e56fd8f7bdcbcf": {
          "model_module": "@jupyter-widgets/controls",
          "model_name": "DescriptionStyleModel",
          "model_module_version": "1.5.0",
          "state": {
            "_view_name": "StyleView",
            "_model_name": "DescriptionStyleModel",
            "description_width": "",
            "_view_module": "@jupyter-widgets/base",
            "_model_module_version": "1.5.0",
            "_view_count": null,
            "_view_module_version": "1.2.0",
            "_model_module": "@jupyter-widgets/controls"
          }
        },
        "c44207651abb49d09272948eb893bc3c": {
          "model_module": "@jupyter-widgets/base",
          "model_name": "LayoutModel",
          "model_module_version": "1.2.0",
          "state": {
            "_view_name": "LayoutView",
            "grid_template_rows": null,
            "right": null,
            "justify_content": null,
            "_view_module": "@jupyter-widgets/base",
            "overflow": null,
            "_model_module_version": "1.2.0",
            "_view_count": null,
            "flex_flow": null,
            "width": null,
            "min_width": null,
            "border": null,
            "align_items": null,
            "bottom": null,
            "_model_module": "@jupyter-widgets/base",
            "top": null,
            "grid_column": null,
            "overflow_y": null,
            "overflow_x": null,
            "grid_auto_flow": null,
            "grid_area": null,
            "grid_template_columns": null,
            "flex": null,
            "_model_name": "LayoutModel",
            "justify_items": null,
            "grid_row": null,
            "max_height": null,
            "align_content": null,
            "visibility": null,
            "align_self": null,
            "height": null,
            "min_height": null,
            "padding": null,
            "grid_auto_rows": null,
            "grid_gap": null,
            "max_width": null,
            "order": null,
            "_view_module_version": "1.2.0",
            "grid_template_areas": null,
            "object_position": null,
            "object_fit": null,
            "grid_auto_columns": null,
            "margin": null,
            "display": null,
            "left": null
          }
        }
      }
    }
  },
  "cells": [
    {
      "cell_type": "code",
      "metadata": {
        "colab": {
          "base_uri": "https://localhost:8080/"
        },
        "id": "4OuxAYwiHNQ2",
        "outputId": "2d1b8297-c4bc-4301-bf35-61c7f043dfc4"
      },
      "source": [
        "!pip install tensorboardX\n",
        "!pip install d2l==0.17.0"
      ],
      "execution_count": 3,
      "outputs": [
        {
          "output_type": "stream",
          "name": "stdout",
          "text": [
            "Collecting tensorboardX\n",
            "  Downloading tensorboardX-2.4.1-py2.py3-none-any.whl (124 kB)\n",
            "\u001b[?25l\r\u001b[K     |██▋                             | 10 kB 23.6 MB/s eta 0:00:01\r\u001b[K     |█████▎                          | 20 kB 26.1 MB/s eta 0:00:01\r\u001b[K     |███████▉                        | 30 kB 11.4 MB/s eta 0:00:01\r\u001b[K     |██████████▌                     | 40 kB 8.8 MB/s eta 0:00:01\r\u001b[K     |█████████████▏                  | 51 kB 5.0 MB/s eta 0:00:01\r\u001b[K     |███████████████▊                | 61 kB 5.2 MB/s eta 0:00:01\r\u001b[K     |██████████████████▍             | 71 kB 5.3 MB/s eta 0:00:01\r\u001b[K     |█████████████████████           | 81 kB 6.0 MB/s eta 0:00:01\r\u001b[K     |███████████████████████▋        | 92 kB 6.0 MB/s eta 0:00:01\r\u001b[K     |██████████████████████████▎     | 102 kB 4.9 MB/s eta 0:00:01\r\u001b[K     |█████████████████████████████   | 112 kB 4.9 MB/s eta 0:00:01\r\u001b[K     |███████████████████████████████▌| 122 kB 4.9 MB/s eta 0:00:01\r\u001b[K     |████████████████████████████████| 124 kB 4.9 MB/s \n",
            "\u001b[?25hRequirement already satisfied: protobuf>=3.8.0 in /usr/local/lib/python3.7/dist-packages (from tensorboardX) (3.17.3)\n",
            "Requirement already satisfied: numpy in /usr/local/lib/python3.7/dist-packages (from tensorboardX) (1.19.5)\n",
            "Requirement already satisfied: six>=1.9 in /usr/local/lib/python3.7/dist-packages (from protobuf>=3.8.0->tensorboardX) (1.15.0)\n",
            "Installing collected packages: tensorboardX\n",
            "Successfully installed tensorboardX-2.4.1\n",
            "Collecting d2l==0.17.0\n",
            "  Downloading d2l-0.17.0-py3-none-any.whl (83 kB)\n",
            "\u001b[K     |████████████████████████████████| 83 kB 1.2 MB/s \n",
            "\u001b[?25hRequirement already satisfied: numpy in /usr/local/lib/python3.7/dist-packages (from d2l==0.17.0) (1.19.5)\n",
            "Requirement already satisfied: jupyter in /usr/local/lib/python3.7/dist-packages (from d2l==0.17.0) (1.0.0)\n",
            "Requirement already satisfied: pandas in /usr/local/lib/python3.7/dist-packages (from d2l==0.17.0) (1.1.5)\n",
            "Requirement already satisfied: matplotlib in /usr/local/lib/python3.7/dist-packages (from d2l==0.17.0) (3.2.2)\n",
            "Requirement already satisfied: requests in /usr/local/lib/python3.7/dist-packages (from d2l==0.17.0) (2.23.0)\n",
            "Requirement already satisfied: notebook in /usr/local/lib/python3.7/dist-packages (from jupyter->d2l==0.17.0) (5.3.1)\n",
            "Requirement already satisfied: qtconsole in /usr/local/lib/python3.7/dist-packages (from jupyter->d2l==0.17.0) (5.2.0)\n",
            "Requirement already satisfied: jupyter-console in /usr/local/lib/python3.7/dist-packages (from jupyter->d2l==0.17.0) (5.2.0)\n",
            "Requirement already satisfied: ipywidgets in /usr/local/lib/python3.7/dist-packages (from jupyter->d2l==0.17.0) (7.6.5)\n",
            "Requirement already satisfied: nbconvert in /usr/local/lib/python3.7/dist-packages (from jupyter->d2l==0.17.0) (5.6.1)\n",
            "Requirement already satisfied: ipykernel in /usr/local/lib/python3.7/dist-packages (from jupyter->d2l==0.17.0) (4.10.1)\n",
            "Requirement already satisfied: tornado>=4.0 in /usr/local/lib/python3.7/dist-packages (from ipykernel->jupyter->d2l==0.17.0) (5.1.1)\n",
            "Requirement already satisfied: traitlets>=4.1.0 in /usr/local/lib/python3.7/dist-packages (from ipykernel->jupyter->d2l==0.17.0) (5.1.1)\n",
            "Requirement already satisfied: jupyter-client in /usr/local/lib/python3.7/dist-packages (from ipykernel->jupyter->d2l==0.17.0) (5.3.5)\n",
            "Requirement already satisfied: ipython>=4.0.0 in /usr/local/lib/python3.7/dist-packages (from ipykernel->jupyter->d2l==0.17.0) (5.5.0)\n",
            "Requirement already satisfied: pickleshare in /usr/local/lib/python3.7/dist-packages (from ipython>=4.0.0->ipykernel->jupyter->d2l==0.17.0) (0.7.5)\n",
            "Requirement already satisfied: decorator in /usr/local/lib/python3.7/dist-packages (from ipython>=4.0.0->ipykernel->jupyter->d2l==0.17.0) (4.4.2)\n",
            "Requirement already satisfied: pexpect in /usr/local/lib/python3.7/dist-packages (from ipython>=4.0.0->ipykernel->jupyter->d2l==0.17.0) (4.8.0)\n",
            "Requirement already satisfied: pygments in /usr/local/lib/python3.7/dist-packages (from ipython>=4.0.0->ipykernel->jupyter->d2l==0.17.0) (2.6.1)\n",
            "Requirement already satisfied: setuptools>=18.5 in /usr/local/lib/python3.7/dist-packages (from ipython>=4.0.0->ipykernel->jupyter->d2l==0.17.0) (57.4.0)\n",
            "Requirement already satisfied: simplegeneric>0.8 in /usr/local/lib/python3.7/dist-packages (from ipython>=4.0.0->ipykernel->jupyter->d2l==0.17.0) (0.8.1)\n",
            "Requirement already satisfied: prompt-toolkit<2.0.0,>=1.0.4 in /usr/local/lib/python3.7/dist-packages (from ipython>=4.0.0->ipykernel->jupyter->d2l==0.17.0) (1.0.18)\n",
            "Requirement already satisfied: wcwidth in /usr/local/lib/python3.7/dist-packages (from prompt-toolkit<2.0.0,>=1.0.4->ipython>=4.0.0->ipykernel->jupyter->d2l==0.17.0) (0.2.5)\n",
            "Requirement already satisfied: six>=1.9.0 in /usr/local/lib/python3.7/dist-packages (from prompt-toolkit<2.0.0,>=1.0.4->ipython>=4.0.0->ipykernel->jupyter->d2l==0.17.0) (1.15.0)\n",
            "Requirement already satisfied: jupyterlab-widgets>=1.0.0 in /usr/local/lib/python3.7/dist-packages (from ipywidgets->jupyter->d2l==0.17.0) (1.0.2)\n",
            "Requirement already satisfied: nbformat>=4.2.0 in /usr/local/lib/python3.7/dist-packages (from ipywidgets->jupyter->d2l==0.17.0) (5.1.3)\n",
            "Requirement already satisfied: widgetsnbextension~=3.5.0 in /usr/local/lib/python3.7/dist-packages (from ipywidgets->jupyter->d2l==0.17.0) (3.5.2)\n",
            "Requirement already satisfied: ipython-genutils~=0.2.0 in /usr/local/lib/python3.7/dist-packages (from ipywidgets->jupyter->d2l==0.17.0) (0.2.0)\n",
            "Requirement already satisfied: jupyter-core in /usr/local/lib/python3.7/dist-packages (from nbformat>=4.2.0->ipywidgets->jupyter->d2l==0.17.0) (4.9.1)\n",
            "Requirement already satisfied: jsonschema!=2.5.0,>=2.4 in /usr/local/lib/python3.7/dist-packages (from nbformat>=4.2.0->ipywidgets->jupyter->d2l==0.17.0) (2.6.0)\n",
            "Requirement already satisfied: jinja2 in /usr/local/lib/python3.7/dist-packages (from notebook->jupyter->d2l==0.17.0) (2.11.3)\n",
            "Requirement already satisfied: Send2Trash in /usr/local/lib/python3.7/dist-packages (from notebook->jupyter->d2l==0.17.0) (1.8.0)\n",
            "Requirement already satisfied: terminado>=0.8.1 in /usr/local/lib/python3.7/dist-packages (from notebook->jupyter->d2l==0.17.0) (0.12.1)\n",
            "Requirement already satisfied: pyzmq>=13 in /usr/local/lib/python3.7/dist-packages (from jupyter-client->ipykernel->jupyter->d2l==0.17.0) (22.3.0)\n",
            "Requirement already satisfied: python-dateutil>=2.1 in /usr/local/lib/python3.7/dist-packages (from jupyter-client->ipykernel->jupyter->d2l==0.17.0) (2.8.2)\n",
            "Requirement already satisfied: ptyprocess in /usr/local/lib/python3.7/dist-packages (from terminado>=0.8.1->notebook->jupyter->d2l==0.17.0) (0.7.0)\n",
            "Requirement already satisfied: MarkupSafe>=0.23 in /usr/local/lib/python3.7/dist-packages (from jinja2->notebook->jupyter->d2l==0.17.0) (2.0.1)\n",
            "Requirement already satisfied: kiwisolver>=1.0.1 in /usr/local/lib/python3.7/dist-packages (from matplotlib->d2l==0.17.0) (1.3.2)\n",
            "Requirement already satisfied: pyparsing!=2.0.4,!=2.1.2,!=2.1.6,>=2.0.1 in /usr/local/lib/python3.7/dist-packages (from matplotlib->d2l==0.17.0) (3.0.6)\n",
            "Requirement already satisfied: cycler>=0.10 in /usr/local/lib/python3.7/dist-packages (from matplotlib->d2l==0.17.0) (0.11.0)\n",
            "Requirement already satisfied: pandocfilters>=1.4.1 in /usr/local/lib/python3.7/dist-packages (from nbconvert->jupyter->d2l==0.17.0) (1.5.0)\n",
            "Requirement already satisfied: defusedxml in /usr/local/lib/python3.7/dist-packages (from nbconvert->jupyter->d2l==0.17.0) (0.7.1)\n",
            "Requirement already satisfied: testpath in /usr/local/lib/python3.7/dist-packages (from nbconvert->jupyter->d2l==0.17.0) (0.5.0)\n",
            "Requirement already satisfied: bleach in /usr/local/lib/python3.7/dist-packages (from nbconvert->jupyter->d2l==0.17.0) (4.1.0)\n",
            "Requirement already satisfied: entrypoints>=0.2.2 in /usr/local/lib/python3.7/dist-packages (from nbconvert->jupyter->d2l==0.17.0) (0.3)\n",
            "Requirement already satisfied: mistune<2,>=0.8.1 in /usr/local/lib/python3.7/dist-packages (from nbconvert->jupyter->d2l==0.17.0) (0.8.4)\n",
            "Requirement already satisfied: packaging in /usr/local/lib/python3.7/dist-packages (from bleach->nbconvert->jupyter->d2l==0.17.0) (21.3)\n",
            "Requirement already satisfied: webencodings in /usr/local/lib/python3.7/dist-packages (from bleach->nbconvert->jupyter->d2l==0.17.0) (0.5.1)\n",
            "Requirement already satisfied: pytz>=2017.2 in /usr/local/lib/python3.7/dist-packages (from pandas->d2l==0.17.0) (2018.9)\n",
            "Requirement already satisfied: qtpy in /usr/local/lib/python3.7/dist-packages (from qtconsole->jupyter->d2l==0.17.0) (1.11.2)\n",
            "Requirement already satisfied: urllib3!=1.25.0,!=1.25.1,<1.26,>=1.21.1 in /usr/local/lib/python3.7/dist-packages (from requests->d2l==0.17.0) (1.24.3)\n",
            "Requirement already satisfied: idna<3,>=2.5 in /usr/local/lib/python3.7/dist-packages (from requests->d2l==0.17.0) (2.10)\n",
            "Requirement already satisfied: chardet<4,>=3.0.2 in /usr/local/lib/python3.7/dist-packages (from requests->d2l==0.17.0) (3.0.4)\n",
            "Requirement already satisfied: certifi>=2017.4.17 in /usr/local/lib/python3.7/dist-packages (from requests->d2l==0.17.0) (2021.10.8)\n",
            "Installing collected packages: d2l\n",
            "Successfully installed d2l-0.17.0\n"
          ]
        }
      ]
    },
    {
      "cell_type": "code",
      "metadata": {
        "id": "HGDO6cPeHTPw"
      },
      "source": [
        "%matplotlib inline\n",
        "import matplotlib.pyplot as plt\n",
        "import numpy as np\n",
        "\n",
        "import torch\n",
        "import torch.nn as nn\n",
        "from torchvision.datasets import ImageFolder, MNIST\n",
        "from torchvision import transforms\n",
        "from torch import autograd\n",
        "from torch.autograd import Variable\n",
        "from torchvision.utils import make_grid\n",
        "from tensorboardX import SummaryWriter\n",
        "from d2l import torch as d2l"
      ],
      "execution_count": 4,
      "outputs": []
    },
    {
      "cell_type": "markdown",
      "metadata": {
        "id": "Fivj2o6qLAVb"
      },
      "source": [
        "#Prepare dataset"
      ]
    },
    {
      "cell_type": "code",
      "metadata": {
        "colab": {
          "base_uri": "https://localhost:8080/",
          "height": 435,
          "referenced_widgets": [
            "24abb765d71f4d9db60eb649bb0ea23a",
            "21527723bcc74f1b8c6291e1209e662f",
            "2ea85c1df05042fc980a992f2501967e",
            "f11d24ca7a464f979ad6e8ed2ad0e63d",
            "b56e37eb25574876bf6fea39ae7ce19f",
            "046a9c18ed6f4347b554fffc4891b8ef",
            "f514009c6a3c44a9951d5a22f7cd0c6a",
            "4300533e249549dc95b9b6cfff052c7d",
            "598c06fe02e84bb2939dff8eeccb0752",
            "4750e5a195314537a14cdc9cdf8f5014",
            "30b50d6162d1440f9c0d3c77f43040c9",
            "30f3252361ca459882b5d65be4a453ca",
            "b9391e23302f480e9219fcf32e49cb72",
            "9fbc5bab142f46b0893fe25cf2cbd6d8",
            "8c0610c9a26040d98e0979a787b8c8a2",
            "fa8916c6b1604d2cbaaf069aad9fd80d",
            "7d9758fe035640e3aa6d0ae7016f4fc6",
            "8b8e374559a24d0989f2f8bd438a3363",
            "ddbb1e380b5849e1970df8bbd7fcbd38",
            "eafa94d374f94ffaa301167ed8f079c0",
            "f55fa0696b5b498ebdfaeb4542e406b3",
            "485fbfb702224908b7b4cdcc0c147454",
            "65541713a4a34424a2a08ddd8b090822",
            "face8a4a08824a0ca1bd5a3ab76ae31b",
            "4fd367d97a4442df865b6536f4caa584",
            "d1c8b4ee7ee34477a31f2dcd34b79cbe",
            "cdb0054326564ffcb1df555cbce9d72d",
            "48c4a630f50c4284b091b9aaacfa669a",
            "b64c24e2265840f7866d848f38348acd",
            "1de9005a45b7492493f0b323a4f60aca",
            "efa6accc0bd94f2cab54410127979a26",
            "c57048a5f5e145a3aa06f453d3b0e733",
            "1a1491b98b9f483e91a0deccd9c88164",
            "c04cc889f1c24fe48daa9bd0b73a0c23",
            "3ed47369f0304e5280940eb768ba0afe",
            "ec90d8a1de774e9fb60a167780b91710",
            "0466cac09b654670a6f07891c48b3b82",
            "ed50a4279530459d883b2bf64caff5e4",
            "fea41a7a08014f28ba09ef5293d8abda",
            "3d8bcb4feab748249fac9f6187219978",
            "adf4c9aac64b4ea0a610fa92b15ae3cf",
            "b5da1dac76e8441eb7e366a0a75e96b8",
            "d1756bee41ff4c5181e56fd8f7bdcbcf",
            "c44207651abb49d09272948eb893bc3c"
          ]
        },
        "id": "8VI7V0vSHdrG",
        "outputId": "93c7f3f9-3086-41ee-8832-e5b415336c04"
      },
      "source": [
        "# number of subprocesses to use for data loading\n",
        "num_workers = 2\n",
        "# how many samples per batch to load\n",
        "batch_size = 32\n",
        "\n",
        "# convert data to torch.FloatTensor\n",
        "transform = transforms.Compose([\n",
        "        transforms.ToTensor(),\n",
        "        transforms.Normalize(mean=(0.5,), std=(0.5,))\n",
        "])\n",
        "\n",
        "# prepare data loader\n",
        "data_loader = torch.utils.data.DataLoader(MNIST('data', train=True, download=True, transform=transform),\n",
        "                                          batch_size=batch_size, shuffle=True,  num_workers=num_workers)"
      ],
      "execution_count": 5,
      "outputs": [
        {
          "output_type": "stream",
          "name": "stdout",
          "text": [
            "Downloading http://yann.lecun.com/exdb/mnist/train-images-idx3-ubyte.gz\n",
            "Downloading http://yann.lecun.com/exdb/mnist/train-images-idx3-ubyte.gz to data/MNIST/raw/train-images-idx3-ubyte.gz\n"
          ]
        },
        {
          "output_type": "display_data",
          "data": {
            "application/vnd.jupyter.widget-view+json": {
              "model_id": "24abb765d71f4d9db60eb649bb0ea23a",
              "version_minor": 0,
              "version_major": 2
            },
            "text/plain": [
              "  0%|          | 0/9912422 [00:00<?, ?it/s]"
            ]
          },
          "metadata": {}
        },
        {
          "output_type": "stream",
          "name": "stdout",
          "text": [
            "Extracting data/MNIST/raw/train-images-idx3-ubyte.gz to data/MNIST/raw\n",
            "\n",
            "Downloading http://yann.lecun.com/exdb/mnist/train-labels-idx1-ubyte.gz\n",
            "Downloading http://yann.lecun.com/exdb/mnist/train-labels-idx1-ubyte.gz to data/MNIST/raw/train-labels-idx1-ubyte.gz\n"
          ]
        },
        {
          "output_type": "display_data",
          "data": {
            "application/vnd.jupyter.widget-view+json": {
              "model_id": "30f3252361ca459882b5d65be4a453ca",
              "version_minor": 0,
              "version_major": 2
            },
            "text/plain": [
              "  0%|          | 0/28881 [00:00<?, ?it/s]"
            ]
          },
          "metadata": {}
        },
        {
          "output_type": "stream",
          "name": "stdout",
          "text": [
            "Extracting data/MNIST/raw/train-labels-idx1-ubyte.gz to data/MNIST/raw\n",
            "\n",
            "Downloading http://yann.lecun.com/exdb/mnist/t10k-images-idx3-ubyte.gz\n",
            "Downloading http://yann.lecun.com/exdb/mnist/t10k-images-idx3-ubyte.gz to data/MNIST/raw/t10k-images-idx3-ubyte.gz\n"
          ]
        },
        {
          "output_type": "display_data",
          "data": {
            "application/vnd.jupyter.widget-view+json": {
              "model_id": "65541713a4a34424a2a08ddd8b090822",
              "version_minor": 0,
              "version_major": 2
            },
            "text/plain": [
              "  0%|          | 0/1648877 [00:00<?, ?it/s]"
            ]
          },
          "metadata": {}
        },
        {
          "output_type": "stream",
          "name": "stdout",
          "text": [
            "Extracting data/MNIST/raw/t10k-images-idx3-ubyte.gz to data/MNIST/raw\n",
            "\n",
            "Downloading http://yann.lecun.com/exdb/mnist/t10k-labels-idx1-ubyte.gz\n",
            "Downloading http://yann.lecun.com/exdb/mnist/t10k-labels-idx1-ubyte.gz to data/MNIST/raw/t10k-labels-idx1-ubyte.gz\n"
          ]
        },
        {
          "output_type": "display_data",
          "data": {
            "application/vnd.jupyter.widget-view+json": {
              "model_id": "c04cc889f1c24fe48daa9bd0b73a0c23",
              "version_minor": 0,
              "version_major": 2
            },
            "text/plain": [
              "  0%|          | 0/4542 [00:00<?, ?it/s]"
            ]
          },
          "metadata": {}
        },
        {
          "output_type": "stream",
          "name": "stdout",
          "text": [
            "Extracting data/MNIST/raw/t10k-labels-idx1-ubyte.gz to data/MNIST/raw\n",
            "\n"
          ]
        }
      ]
    },
    {
      "cell_type": "markdown",
      "metadata": {
        "id": "KEhpyPvoLJaE"
      },
      "source": [
        "#Visualize the data"
      ]
    },
    {
      "cell_type": "code",
      "metadata": {
        "colab": {
          "base_uri": "https://localhost:8080/",
          "height": 230
        },
        "id": "YHwbWywPILQP",
        "outputId": "ae11b574-295e-4aac-a35c-edfc7b54eb5c"
      },
      "source": [
        "# obtain one batch of training images\n",
        "dataiter = iter(data_loader)\n",
        "images, labels = dataiter.next()\n",
        "images = images.numpy()\n",
        "\n",
        "# get one image from the batch\n",
        "img = np.squeeze(images[0])\n",
        "\n",
        "fig = plt.figure(figsize = (3,3)) \n",
        "ax = fig.add_subplot(111)\n",
        "ax.imshow(img, cmap='gray')"
      ],
      "execution_count": 6,
      "outputs": [
        {
          "output_type": "execute_result",
          "data": {
            "text/plain": [
              "<matplotlib.image.AxesImage at 0x7fe5d2f7efd0>"
            ]
          },
          "metadata": {},
          "execution_count": 6
        },
        {
          "output_type": "display_data",
          "data": {
            "image/png": "[encoded data removed]",
            "text/plain": [
              "<Figure size 216x216 with 1 Axes>"
            ]
          },
          "metadata": {
            "needs_background": "light"
          }
        }
      ]
    },
    {
      "cell_type": "markdown",
      "metadata": {
        "id": "kE_f9rJDLNiY"
      },
      "source": [
        "#Define the model\n"
      ]
    },
    {
      "cell_type": "markdown",
      "metadata": {
        "id": "QZiz4W4jLUPk"
      },
      "source": [
        "##Discriminator"
      ]
    },
    {
      "cell_type": "code",
      "metadata": {
        "id": "7tHiTjxAIWEF"
      },
      "source": [
        "class Discriminator(nn.Module):\n",
        "    def __init__(self):\n",
        "        super().__init__()\n",
        "        self.label_emb = nn.Embedding(10, 10)\n",
        "\n",
        "        self.model = nn.Sequential(\n",
        "            nn.Linear(794, 1024),\n",
        "            nn.LeakyReLU(0.2, inplace=True),\n",
        "            nn.Dropout(0.3),\n",
        "            nn.Linear(1024, 512),\n",
        "            nn.LeakyReLU(0.2, inplace=True),\n",
        "            nn.Dropout(0.3),\n",
        "            nn.Linear(512, 256),\n",
        "            nn.LeakyReLU(0.2, inplace=True),\n",
        "            nn.Dropout(0.3),\n",
        "            nn.Linear(256, 1),\n",
        "            nn.Sigmoid()\n",
        "        )\n",
        "    \n",
        "    def forward(self, x, labels):\n",
        "        x = x.view(x.size(0), 784)\n",
        "        c = self.label_emb(labels)\n",
        "        x = torch.cat([x, c], 1)\n",
        "        out = self.model(x)\n",
        "        return out.squeeze()"
      ],
      "execution_count": 7,
      "outputs": []
    },
    {
      "cell_type": "markdown",
      "metadata": {
        "id": "diQrFereLbKK"
      },
      "source": [
        "##Generator"
      ]
    },
    {
      "cell_type": "code",
      "metadata": {
        "id": "bu9i3IRJIY5c"
      },
      "source": [
        "class Generator(nn.Module):\n",
        "    def __init__(self):\n",
        "        super().__init__()\n",
        "\n",
        "        self.label_emb = nn.Embedding(10, 10)\n",
        "\n",
        "        self.model = nn.Sequential(\n",
        "            nn.Linear(110, 256),\n",
        "            nn.LeakyReLU(0.2, inplace=True),\n",
        "            nn.Linear(256, 512),\n",
        "            nn.LeakyReLU(0.2, inplace=True),\n",
        "            nn.Linear(512, 1024),\n",
        "            nn.LeakyReLU(0.2, inplace=True),\n",
        "            nn.Linear(1024, 784),\n",
        "            nn.Tanh()\n",
        "        )\n",
        "\n",
        "    def forward(self, z, labels):\n",
        "        z = z.view(z.size(0), 100)\n",
        "        c = self.label_emb(labels)\n",
        "        x = torch.cat([z, c], 1)\n",
        "        out = self.model(x)\n",
        "        return out.view(x.size(0), 28, 28)"
      ],
      "execution_count": 8,
      "outputs": []
    },
    {
      "cell_type": "code",
      "metadata": {
        "id": "CGzptihSIddK"
      },
      "source": [
        "generator = Generator()\n",
        "discriminator = Discriminator()\n",
        "\n",
        "criterion = nn.BCELoss()\n",
        "d_optimizer = torch.optim.Adam(discriminator.parameters(), lr=1e-4)\n",
        "g_optimizer = torch.optim.Adam(generator.parameters(), lr=1e-4)"
      ],
      "execution_count": 9,
      "outputs": []
    },
    {
      "cell_type": "markdown",
      "metadata": {
        "id": "IHCYeuMaLeFY"
      },
      "source": [
        "##Train the Generator"
      ]
    },
    {
      "cell_type": "code",
      "metadata": {
        "id": "o12dDEVuIiLK"
      },
      "source": [
        "def generator_train_step(batch_size, discriminator, generator, g_optimizer, criterion):\n",
        "    g_optimizer.zero_grad()\n",
        "\n",
        "    Z = Variable(torch.randn(batch_size, 100)).cuda()\n",
        "    fake_labels = Variable(torch.LongTensor(np.random.randint(0, 10, batch_size))).cuda()\n",
        "    fake_images = generator(Z, fake_labels)\n",
        "\n",
        "    validity = discriminator(fake_images, fake_labels)\n",
        "    g_loss = criterion(validity, Variable(torch.ones(batch_size)).cuda())\n",
        "    g_loss.backward()\n",
        "    g_optimizer.step()\n",
        "    return g_loss.item()"
      ],
      "execution_count": 13,
      "outputs": []
    },
    {
      "cell_type": "markdown",
      "metadata": {
        "id": "kit2GHccLjXB"
      },
      "source": [
        "##Train the Discriminator"
      ]
    },
    {
      "cell_type": "code",
      "metadata": {
        "id": "ZxhRUUKcIoic"
      },
      "source": [
        "def discriminator_train_step(batch_size, discriminator, generator, d_optimizer, criterion, real_images, labels):\n",
        "    d_optimizer.zero_grad()\n",
        "    \n",
        "    #real loss\n",
        "    real_validity = discriminator(real_images, labels)\n",
        "    real_loss = criterion(real_validity, Variable(torch.ones(batch_size)).cuda())\n",
        "\n",
        "    #fake loss\n",
        "    Z = Variable(torch.randn(batch_size, 100)).cuda()\n",
        "    fake_labels = Variable(torch.LongTensor(np.random.randint(0, 10, batch_size))).cuda()\n",
        "    fake_images = generator(Z, fake_labels)\n",
        "    fake_validity = discriminator(fake_images, fake_labels)\n",
        "    fake_loss = criterion(fake_validity, Variable(torch.zeros(batch_size)).cuda())\n",
        "    \n",
        "    d_loss = real_loss + fake_loss\n",
        "    d_loss.backward()\n",
        "    d_optimizer.step()\n",
        "    return d_loss.item()"
      ],
      "execution_count": 10,
      "outputs": []
    },
    {
      "cell_type": "markdown",
      "metadata": {
        "id": "cIoP-0MILnln"
      },
      "source": [
        "##Training Process"
      ]
    },
    {
      "cell_type": "code",
      "metadata": {
        "id": "B3vJiCEsIrJz"
      },
      "source": [
        "def train(discriminator, generator, data_loader, num_epochs, lr, device = d2l.try_gpu()):\n",
        "    #set parameter\n",
        "    for w in discriminator.parameters():\n",
        "        nn.init.normal_(w, 0, 0.01)\n",
        "    for w in generator.parameters():\n",
        "        nn.init.normal_(w, 0, 0.01)\n",
        "    discriminator, generator = discriminator.to(device), generator.to(device)\n",
        "    trainer_hp = {'lr': lr, 'betas': [0.9, 0.999]}\n",
        "    # trainer_hp = {'lr': lr}\n",
        "    d_optimizer = torch.optim.Adam(discriminator.parameters(), **trainer_hp)\n",
        "    g_optimizer = torch.optim.Adam(generator.parameters(), **trainer_hp)\n",
        "    animator = d2l.Animator(xlabel='epoch', ylabel='loss', xlim=[1, num_epochs], legend=['discriminator', 'generator'])\n",
        "\n",
        "    for epoch in range(1, num_epochs + 1):\n",
        "        timer = d2l.Timer()\n",
        "        metric = d2l.Accumulator(3)     #d_loss, g_loss, num_examples\n",
        "        for i, (images, labels) in enumerate(data_loader):\n",
        "            real_images = Variable(images).cuda()\n",
        "            labels = Variable(labels).cuda()\n",
        "            generator.train()\n",
        "            d_loss = discriminator_train_step(len(real_images), discriminator, generator,\n",
        "                                              d_optimizer, criterion, real_images, labels)\n",
        "            g_loss = generator_train_step(batch_size, discriminator, generator, g_optimizer, criterion)\n",
        "            metric.add(d_loss, g_loss, batch_size)\n",
        "        \n",
        "\n",
        "        loss_D, loss_G = metric[0] / metric[2], metric[1] / metric[2]\n",
        "        animator.add(epoch, (loss_D, loss_G))\n",
        "    print(f'loss_D {loss_D:.3f}, loss_G {loss_G:.3f}, '\n",
        "          f'{metric[2] / timer.stop():.1f} examples/sec on {str(device)}')"
      ],
      "execution_count": 11,
      "outputs": []
    },
    {
      "cell_type": "code",
      "metadata": {
        "colab": {
          "base_uri": "https://localhost:8080/",
          "height": 280
        },
        "id": "e0LyewL-IyX1",
        "outputId": "7eb53559-e2a6-4d94-ef0c-e4162cd3d882"
      },
      "source": [
        "lr, num_epochs = 1e-4, 50\n",
        "train(discriminator, generator, data_loader, num_epochs, lr)"
      ],
      "execution_count": 14,
      "outputs": [
        {
          "output_type": "stream",
          "name": "stdout",
          "text": [
            "loss_D 0.040, loss_G 0.027, 1393.4 examples/sec on cuda:0\n"
          ]
        },
        {
          "output_type": "display_data",
          "data": {
            "text/plain": [
              "<Figure size 252x180 with 1 Axes>"
            ],
            "image/svg+xml": "<?xml version=\"1.0\" encoding=\"utf-8\" standalone=\"no\"?>\n<!DOCTYPE svg PUBLIC \"-//W3C//DTD SVG 1.1//EN\"\n  \"http://www.w3.org/Graphics/SVG/1.1/DTD/svg11.dtd\">\n<!-- Created with matplotlib (https://matplotlib.org/) -->\n<svg height=\"180.65625pt\" version=\"1.1\" viewBox=\"0 0 259.00625 180.65625\" width=\"259.00625pt\" xmlns=\"http://www.w3.org/2000/svg\" xmlns:xlink=\"http://www.w3.org/1999/xlink\">\n <defs>\n  <style type=\"text/css\">\n*{stroke-linecap:butt;stroke-linejoin:round;}\n  </style>\n </defs>\n <g id=\"figure_1\">\n  <g id=\"patch_1\">\n   <path d=\"M 0 180.65625 \nL 259.00625 180.65625 \nL 259.00625 0 \nL 0 0 \nz\n\" style=\"fill:none;\"/>\n  </g>\n  <g id=\"axes_1\">\n   <g id=\"patch_2\">\n    <path d=\"M 50.14375 143.1 \nL 245.44375 143.1 \nL 245.44375 7.2 \nL 50.14375 7.2 \nz\n\" style=\"fill:#ffffff;\"/>\n   </g>\n   <g id=\"matplotlib.axis_1\">\n    <g id=\"xtick_1\">\n     <g id=\"line2d_1\">\n      <path clip-path=\"url(#p58b8bbb507)\" d=\"M 86.015179 143.1 \nL 86.015179 7.2 \n\" style=\"fill:none;stroke:#b0b0b0;stroke-linecap:square;stroke-width:0.8;\"/>\n     </g>\n     <g id=\"line2d_2\">\n      <defs>\n       <path d=\"M 0 0 \nL 0 3.5 \n\" id=\"m754aa5193f\" style=\"stroke:#000000;stroke-width:0.8;\"/>\n      </defs>\n      <g>\n       <use style=\"stroke:#000000;stroke-width:0.8;\" x=\"86.015179\" xlink:href=\"#m754aa5193f\" y=\"143.1\"/>\n      </g>\n     </g>\n     <g id=\"text_1\">\n      <!-- 10 -->\n      <defs>\n       <path d=\"M 12.40625 8.296875 \nL 28.515625 8.296875 \nL 28.515625 63.921875 \nL 10.984375 60.40625 \nL 10.984375 69.390625 \nL 28.421875 72.90625 \nL 38.28125 72.90625 \nL 38.28125 8.296875 \nL 54.390625 8.296875 \nL 54.390625 0 \nL 12.40625 0 \nz\n\" id=\"DejaVuSans-49\"/>\n       <path d=\"M 31.78125 66.40625 \nQ 24.171875 66.40625 20.328125 58.90625 \nQ 16.5 51.421875 16.5 36.375 \nQ 16.5 21.390625 20.328125 13.890625 \nQ 24.171875 6.390625 31.78125 6.390625 \nQ 39.453125 6.390625 43.28125 13.890625 \nQ 47.125 21.390625 47.125 36.375 \nQ 47.125 51.421875 43.28125 58.90625 \nQ 39.453125 66.40625 31.78125 66.40625 \nz\nM 31.78125 74.21875 \nQ 44.046875 74.21875 50.515625 64.515625 \nQ 56.984375 54.828125 56.984375 36.375 \nQ 56.984375 17.96875 50.515625 8.265625 \nQ 44.046875 -1.421875 31.78125 -1.421875 \nQ 19.53125 -1.421875 13.0625 8.265625 \nQ 6.59375 17.96875 6.59375 36.375 \nQ 6.59375 54.828125 13.0625 64.515625 \nQ 19.53125 74.21875 31.78125 74.21875 \nz\n\" id=\"DejaVuSans-48\"/>\n      </defs>\n      <g transform=\"translate(79.652679 157.698438)scale(0.1 -0.1)\">\n       <use xlink:href=\"#DejaVuSans-49\"/>\n       <use x=\"63.623047\" xlink:href=\"#DejaVuSans-48\"/>\n      </g>\n     </g>\n    </g>\n    <g id=\"xtick_2\">\n     <g id=\"line2d_3\">\n      <path clip-path=\"url(#p58b8bbb507)\" d=\"M 125.872321 143.1 \nL 125.872321 7.2 \n\" style=\"fill:none;stroke:#b0b0b0;stroke-linecap:square;stroke-width:0.8;\"/>\n     </g>\n     <g id=\"line2d_4\">\n      <g>\n       <use style=\"stroke:#000000;stroke-width:0.8;\" x=\"125.872321\" xlink:href=\"#m754aa5193f\" y=\"143.1\"/>\n      </g>\n     </g>\n     <g id=\"text_2\">\n      <!-- 20 -->\n      <defs>\n       <path d=\"M 19.1875 8.296875 \nL 53.609375 8.296875 \nL 53.609375 0 \nL 7.328125 0 \nL 7.328125 8.296875 \nQ 12.9375 14.109375 22.625 23.890625 \nQ 32.328125 33.6875 34.8125 36.53125 \nQ 39.546875 41.84375 41.421875 45.53125 \nQ 43.3125 49.21875 43.3125 52.78125 \nQ 43.3125 58.59375 39.234375 62.25 \nQ 35.15625 65.921875 28.609375 65.921875 \nQ 23.96875 65.921875 18.8125 64.3125 \nQ 13.671875 62.703125 7.8125 59.421875 \nL 7.8125 69.390625 \nQ 13.765625 71.78125 18.9375 73 \nQ 24.125 74.21875 28.421875 74.21875 \nQ 39.75 74.21875 46.484375 68.546875 \nQ 53.21875 62.890625 53.21875 53.421875 \nQ 53.21875 48.921875 51.53125 44.890625 \nQ 49.859375 40.875 45.40625 35.40625 \nQ 44.1875 33.984375 37.640625 27.21875 \nQ 31.109375 20.453125 19.1875 8.296875 \nz\n\" id=\"DejaVuSans-50\"/>\n      </defs>\n      <g transform=\"translate(119.509821 157.698438)scale(0.1 -0.1)\">\n       <use xlink:href=\"#DejaVuSans-50\"/>\n       <use x=\"63.623047\" xlink:href=\"#DejaVuSans-48\"/>\n      </g>\n     </g>\n    </g>\n    <g id=\"xtick_3\">\n     <g id=\"line2d_5\">\n      <path clip-path=\"url(#p58b8bbb507)\" d=\"M 165.729464 143.1 \nL 165.729464 7.2 \n\" style=\"fill:none;stroke:#b0b0b0;stroke-linecap:square;stroke-width:0.8;\"/>\n     </g>\n     <g id=\"line2d_6\">\n      <g>\n       <use style=\"stroke:#000000;stroke-width:0.8;\" x=\"165.729464\" xlink:href=\"#m754aa5193f\" y=\"143.1\"/>\n      </g>\n     </g>\n     <g id=\"text_3\">\n      <!-- 30 -->\n      <defs>\n       <path d=\"M 40.578125 39.3125 \nQ 47.65625 37.796875 51.625 33 \nQ 55.609375 28.21875 55.609375 21.1875 \nQ 55.609375 10.40625 48.1875 4.484375 \nQ 40.765625 -1.421875 27.09375 -1.421875 \nQ 22.515625 -1.421875 17.65625 -0.515625 \nQ 12.796875 0.390625 7.625 2.203125 \nL 7.625 11.71875 \nQ 11.71875 9.328125 16.59375 8.109375 \nQ 21.484375 6.890625 26.8125 6.890625 \nQ 36.078125 6.890625 40.9375 10.546875 \nQ 45.796875 14.203125 45.796875 21.1875 \nQ 45.796875 27.640625 41.28125 31.265625 \nQ 36.765625 34.90625 28.71875 34.90625 \nL 20.21875 34.90625 \nL 20.21875 43.015625 \nL 29.109375 43.015625 \nQ 36.375 43.015625 40.234375 45.921875 \nQ 44.09375 48.828125 44.09375 54.296875 \nQ 44.09375 59.90625 40.109375 62.90625 \nQ 36.140625 65.921875 28.71875 65.921875 \nQ 24.65625 65.921875 20.015625 65.03125 \nQ 15.375 64.15625 9.8125 62.3125 \nL 9.8125 71.09375 \nQ 15.4375 72.65625 20.34375 73.4375 \nQ 25.25 74.21875 29.59375 74.21875 \nQ 40.828125 74.21875 47.359375 69.109375 \nQ 53.90625 64.015625 53.90625 55.328125 \nQ 53.90625 49.265625 50.4375 45.09375 \nQ 46.96875 40.921875 40.578125 39.3125 \nz\n\" id=\"DejaVuSans-51\"/>\n      </defs>\n      <g transform=\"translate(159.366964 157.698438)scale(0.1 -0.1)\">\n       <use xlink:href=\"#DejaVuSans-51\"/>\n       <use x=\"63.623047\" xlink:href=\"#DejaVuSans-48\"/>\n      </g>\n     </g>\n    </g>\n    <g id=\"xtick_4\">\n     <g id=\"line2d_7\">\n      <path clip-path=\"url(#p58b8bbb507)\" d=\"M 205.586607 143.1 \nL 205.586607 7.2 \n\" style=\"fill:none;stroke:#b0b0b0;stroke-linecap:square;stroke-width:0.8;\"/>\n     </g>\n     <g id=\"line2d_8\">\n      <g>\n       <use style=\"stroke:#000000;stroke-width:0.8;\" x=\"205.586607\" xlink:href=\"#m754aa5193f\" y=\"143.1\"/>\n      </g>\n     </g>\n     <g id=\"text_4\">\n      <!-- 40 -->\n      <defs>\n       <path d=\"M 37.796875 64.3125 \nL 12.890625 25.390625 \nL 37.796875 25.390625 \nz\nM 35.203125 72.90625 \nL 47.609375 72.90625 \nL 47.609375 25.390625 \nL 58.015625 25.390625 \nL 58.015625 17.1875 \nL 47.609375 17.1875 \nL 47.609375 0 \nL 37.796875 0 \nL 37.796875 17.1875 \nL 4.890625 17.1875 \nL 4.890625 26.703125 \nz\n\" id=\"DejaVuSans-52\"/>\n      </defs>\n      <g transform=\"translate(199.224107 157.698438)scale(0.1 -0.1)\">\n       <use xlink:href=\"#DejaVuSans-52\"/>\n       <use x=\"63.623047\" xlink:href=\"#DejaVuSans-48\"/>\n      </g>\n     </g>\n    </g>\n    <g id=\"xtick_5\">\n     <g id=\"line2d_9\">\n      <path clip-path=\"url(#p58b8bbb507)\" d=\"M 245.44375 143.1 \nL 245.44375 7.2 \n\" style=\"fill:none;stroke:#b0b0b0;stroke-linecap:square;stroke-width:0.8;\"/>\n     </g>\n     <g id=\"line2d_10\">\n      <g>\n       <use style=\"stroke:#000000;stroke-width:0.8;\" x=\"245.44375\" xlink:href=\"#m754aa5193f\" y=\"143.1\"/>\n      </g>\n     </g>\n     <g id=\"text_5\">\n      <!-- 50 -->\n      <defs>\n       <path d=\"M 10.796875 72.90625 \nL 49.515625 72.90625 \nL 49.515625 64.59375 \nL 19.828125 64.59375 \nL 19.828125 46.734375 \nQ 21.96875 47.46875 24.109375 47.828125 \nQ 26.265625 48.1875 28.421875 48.1875 \nQ 40.625 48.1875 47.75 41.5 \nQ 54.890625 34.8125 54.890625 23.390625 \nQ 54.890625 11.625 47.5625 5.09375 \nQ 40.234375 -1.421875 26.90625 -1.421875 \nQ 22.3125 -1.421875 17.546875 -0.640625 \nQ 12.796875 0.140625 7.71875 1.703125 \nL 7.71875 11.625 \nQ 12.109375 9.234375 16.796875 8.0625 \nQ 21.484375 6.890625 26.703125 6.890625 \nQ 35.15625 6.890625 40.078125 11.328125 \nQ 45.015625 15.765625 45.015625 23.390625 \nQ 45.015625 31 40.078125 35.4375 \nQ 35.15625 39.890625 26.703125 39.890625 \nQ 22.75 39.890625 18.8125 39.015625 \nQ 14.890625 38.140625 10.796875 36.28125 \nz\n\" id=\"DejaVuSans-53\"/>\n      </defs>\n      <g transform=\"translate(239.08125 157.698438)scale(0.1 -0.1)\">\n       <use xlink:href=\"#DejaVuSans-53\"/>\n       <use x=\"63.623047\" xlink:href=\"#DejaVuSans-48\"/>\n      </g>\n     </g>\n    </g>\n    <g id=\"text_6\">\n     <!-- epoch -->\n     <defs>\n      <path d=\"M 56.203125 29.59375 \nL 56.203125 25.203125 \nL 14.890625 25.203125 \nQ 15.484375 15.921875 20.484375 11.0625 \nQ 25.484375 6.203125 34.421875 6.203125 \nQ 39.59375 6.203125 44.453125 7.46875 \nQ 49.3125 8.734375 54.109375 11.28125 \nL 54.109375 2.78125 \nQ 49.265625 0.734375 44.1875 -0.34375 \nQ 39.109375 -1.421875 33.890625 -1.421875 \nQ 20.796875 -1.421875 13.15625 6.1875 \nQ 5.515625 13.8125 5.515625 26.8125 \nQ 5.515625 40.234375 12.765625 48.109375 \nQ 20.015625 56 32.328125 56 \nQ 43.359375 56 49.78125 48.890625 \nQ 56.203125 41.796875 56.203125 29.59375 \nz\nM 47.21875 32.234375 \nQ 47.125 39.59375 43.09375 43.984375 \nQ 39.0625 48.390625 32.421875 48.390625 \nQ 24.90625 48.390625 20.390625 44.140625 \nQ 15.875 39.890625 15.1875 32.171875 \nz\n\" id=\"DejaVuSans-101\"/>\n      <path d=\"M 18.109375 8.203125 \nL 18.109375 -20.796875 \nL 9.078125 -20.796875 \nL 9.078125 54.6875 \nL 18.109375 54.6875 \nL 18.109375 46.390625 \nQ 20.953125 51.265625 25.265625 53.625 \nQ 29.59375 56 35.59375 56 \nQ 45.5625 56 51.78125 48.09375 \nQ 58.015625 40.1875 58.015625 27.296875 \nQ 58.015625 14.40625 51.78125 6.484375 \nQ 45.5625 -1.421875 35.59375 -1.421875 \nQ 29.59375 -1.421875 25.265625 0.953125 \nQ 20.953125 3.328125 18.109375 8.203125 \nz\nM 48.6875 27.296875 \nQ 48.6875 37.203125 44.609375 42.84375 \nQ 40.53125 48.484375 33.40625 48.484375 \nQ 26.265625 48.484375 22.1875 42.84375 \nQ 18.109375 37.203125 18.109375 27.296875 \nQ 18.109375 17.390625 22.1875 11.75 \nQ 26.265625 6.109375 33.40625 6.109375 \nQ 40.53125 6.109375 44.609375 11.75 \nQ 48.6875 17.390625 48.6875 27.296875 \nz\n\" id=\"DejaVuSans-112\"/>\n      <path d=\"M 30.609375 48.390625 \nQ 23.390625 48.390625 19.1875 42.75 \nQ 14.984375 37.109375 14.984375 27.296875 \nQ 14.984375 17.484375 19.15625 11.84375 \nQ 23.34375 6.203125 30.609375 6.203125 \nQ 37.796875 6.203125 41.984375 11.859375 \nQ 46.1875 17.53125 46.1875 27.296875 \nQ 46.1875 37.015625 41.984375 42.703125 \nQ 37.796875 48.390625 30.609375 48.390625 \nz\nM 30.609375 56 \nQ 42.328125 56 49.015625 48.375 \nQ 55.71875 40.765625 55.71875 27.296875 \nQ 55.71875 13.875 49.015625 6.21875 \nQ 42.328125 -1.421875 30.609375 -1.421875 \nQ 18.84375 -1.421875 12.171875 6.21875 \nQ 5.515625 13.875 5.515625 27.296875 \nQ 5.515625 40.765625 12.171875 48.375 \nQ 18.84375 56 30.609375 56 \nz\n\" id=\"DejaVuSans-111\"/>\n      <path d=\"M 48.78125 52.59375 \nL 48.78125 44.1875 \nQ 44.96875 46.296875 41.140625 47.34375 \nQ 37.3125 48.390625 33.40625 48.390625 \nQ 24.65625 48.390625 19.8125 42.84375 \nQ 14.984375 37.3125 14.984375 27.296875 \nQ 14.984375 17.28125 19.8125 11.734375 \nQ 24.65625 6.203125 33.40625 6.203125 \nQ 37.3125 6.203125 41.140625 7.25 \nQ 44.96875 8.296875 48.78125 10.40625 \nL 48.78125 2.09375 \nQ 45.015625 0.34375 40.984375 -0.53125 \nQ 36.96875 -1.421875 32.421875 -1.421875 \nQ 20.0625 -1.421875 12.78125 6.34375 \nQ 5.515625 14.109375 5.515625 27.296875 \nQ 5.515625 40.671875 12.859375 48.328125 \nQ 20.21875 56 33.015625 56 \nQ 37.15625 56 41.109375 55.140625 \nQ 45.0625 54.296875 48.78125 52.59375 \nz\n\" id=\"DejaVuSans-99\"/>\n      <path d=\"M 54.890625 33.015625 \nL 54.890625 0 \nL 45.90625 0 \nL 45.90625 32.71875 \nQ 45.90625 40.484375 42.875 44.328125 \nQ 39.84375 48.1875 33.796875 48.1875 \nQ 26.515625 48.1875 22.3125 43.546875 \nQ 18.109375 38.921875 18.109375 30.90625 \nL 18.109375 0 \nL 9.078125 0 \nL 9.078125 75.984375 \nL 18.109375 75.984375 \nL 18.109375 46.1875 \nQ 21.34375 51.125 25.703125 53.5625 \nQ 30.078125 56 35.796875 56 \nQ 45.21875 56 50.046875 50.171875 \nQ 54.890625 44.34375 54.890625 33.015625 \nz\n\" id=\"DejaVuSans-104\"/>\n     </defs>\n     <g transform=\"translate(132.565625 171.376563)scale(0.1 -0.1)\">\n      <use xlink:href=\"#DejaVuSans-101\"/>\n      <use x=\"61.523438\" xlink:href=\"#DejaVuSans-112\"/>\n      <use x=\"125\" xlink:href=\"#DejaVuSans-111\"/>\n      <use x=\"186.181641\" xlink:href=\"#DejaVuSans-99\"/>\n      <use x=\"241.162109\" xlink:href=\"#DejaVuSans-104\"/>\n     </g>\n    </g>\n   </g>\n   <g id=\"matplotlib.axis_2\">\n    <g id=\"ytick_1\">\n     <g id=\"line2d_11\">\n      <path clip-path=\"url(#p58b8bbb507)\" d=\"M 50.14375 129.776257 \nL 245.44375 129.776257 \n\" style=\"fill:none;stroke:#b0b0b0;stroke-linecap:square;stroke-width:0.8;\"/>\n     </g>\n     <g id=\"line2d_12\">\n      <defs>\n       <path d=\"M 0 0 \nL -3.5 0 \n\" id=\"m062a40e56b\" style=\"stroke:#000000;stroke-width:0.8;\"/>\n      </defs>\n      <g>\n       <use style=\"stroke:#000000;stroke-width:0.8;\" x=\"50.14375\" xlink:href=\"#m062a40e56b\" y=\"129.776257\"/>\n      </g>\n     </g>\n     <g id=\"text_7\">\n      <!-- 0.02 -->\n      <defs>\n       <path d=\"M 10.6875 12.40625 \nL 21 12.40625 \nL 21 0 \nL 10.6875 0 \nz\n\" id=\"DejaVuSans-46\"/>\n      </defs>\n      <g transform=\"translate(20.878125 133.575476)scale(0.1 -0.1)\">\n       <use xlink:href=\"#DejaVuSans-48\"/>\n       <use x=\"63.623047\" xlink:href=\"#DejaVuSans-46\"/>\n       <use x=\"95.410156\" xlink:href=\"#DejaVuSans-48\"/>\n       <use x=\"159.033203\" xlink:href=\"#DejaVuSans-50\"/>\n      </g>\n     </g>\n    </g>\n    <g id=\"ytick_2\">\n     <g id=\"line2d_13\">\n      <path clip-path=\"url(#p58b8bbb507)\" d=\"M 50.14375 95.778288 \nL 245.44375 95.778288 \n\" style=\"fill:none;stroke:#b0b0b0;stroke-linecap:square;stroke-width:0.8;\"/>\n     </g>\n     <g id=\"line2d_14\">\n      <g>\n       <use style=\"stroke:#000000;stroke-width:0.8;\" x=\"50.14375\" xlink:href=\"#m062a40e56b\" y=\"95.778288\"/>\n      </g>\n     </g>\n     <g id=\"text_8\">\n      <!-- 0.04 -->\n      <g transform=\"translate(20.878125 99.577506)scale(0.1 -0.1)\">\n       <use xlink:href=\"#DejaVuSans-48\"/>\n       <use x=\"63.623047\" xlink:href=\"#DejaVuSans-46\"/>\n       <use x=\"95.410156\" xlink:href=\"#DejaVuSans-48\"/>\n       <use x=\"159.033203\" xlink:href=\"#DejaVuSans-52\"/>\n      </g>\n     </g>\n    </g>\n    <g id=\"ytick_3\">\n     <g id=\"line2d_15\">\n      <path clip-path=\"url(#p58b8bbb507)\" d=\"M 50.14375 61.780319 \nL 245.44375 61.780319 \n\" style=\"fill:none;stroke:#b0b0b0;stroke-linecap:square;stroke-width:0.8;\"/>\n     </g>\n     <g id=\"line2d_16\">\n      <g>\n       <use style=\"stroke:#000000;stroke-width:0.8;\" x=\"50.14375\" xlink:href=\"#m062a40e56b\" y=\"61.780319\"/>\n      </g>\n     </g>\n     <g id=\"text_9\">\n      <!-- 0.06 -->\n      <defs>\n       <path d=\"M 33.015625 40.375 \nQ 26.375 40.375 22.484375 35.828125 \nQ 18.609375 31.296875 18.609375 23.390625 \nQ 18.609375 15.53125 22.484375 10.953125 \nQ 26.375 6.390625 33.015625 6.390625 \nQ 39.65625 6.390625 43.53125 10.953125 \nQ 47.40625 15.53125 47.40625 23.390625 \nQ 47.40625 31.296875 43.53125 35.828125 \nQ 39.65625 40.375 33.015625 40.375 \nz\nM 52.59375 71.296875 \nL 52.59375 62.3125 \nQ 48.875 64.0625 45.09375 64.984375 \nQ 41.3125 65.921875 37.59375 65.921875 \nQ 27.828125 65.921875 22.671875 59.328125 \nQ 17.53125 52.734375 16.796875 39.40625 \nQ 19.671875 43.65625 24.015625 45.921875 \nQ 28.375 48.1875 33.59375 48.1875 \nQ 44.578125 48.1875 50.953125 41.515625 \nQ 57.328125 34.859375 57.328125 23.390625 \nQ 57.328125 12.15625 50.6875 5.359375 \nQ 44.046875 -1.421875 33.015625 -1.421875 \nQ 20.359375 -1.421875 13.671875 8.265625 \nQ 6.984375 17.96875 6.984375 36.375 \nQ 6.984375 53.65625 15.1875 63.9375 \nQ 23.390625 74.21875 37.203125 74.21875 \nQ 40.921875 74.21875 44.703125 73.484375 \nQ 48.484375 72.75 52.59375 71.296875 \nz\n\" id=\"DejaVuSans-54\"/>\n      </defs>\n      <g transform=\"translate(20.878125 65.579537)scale(0.1 -0.1)\">\n       <use xlink:href=\"#DejaVuSans-48\"/>\n       <use x=\"63.623047\" xlink:href=\"#DejaVuSans-46\"/>\n       <use x=\"95.410156\" xlink:href=\"#DejaVuSans-48\"/>\n       <use x=\"159.033203\" xlink:href=\"#DejaVuSans-54\"/>\n      </g>\n     </g>\n    </g>\n    <g id=\"ytick_4\">\n     <g id=\"line2d_17\">\n      <path clip-path=\"url(#p58b8bbb507)\" d=\"M 50.14375 27.782349 \nL 245.44375 27.782349 \n\" style=\"fill:none;stroke:#b0b0b0;stroke-linecap:square;stroke-width:0.8;\"/>\n     </g>\n     <g id=\"line2d_18\">\n      <g>\n       <use style=\"stroke:#000000;stroke-width:0.8;\" x=\"50.14375\" xlink:href=\"#m062a40e56b\" y=\"27.782349\"/>\n      </g>\n     </g>\n     <g id=\"text_10\">\n      <!-- 0.08 -->\n      <defs>\n       <path d=\"M 31.78125 34.625 \nQ 24.75 34.625 20.71875 30.859375 \nQ 16.703125 27.09375 16.703125 20.515625 \nQ 16.703125 13.921875 20.71875 10.15625 \nQ 24.75 6.390625 31.78125 6.390625 \nQ 38.8125 6.390625 42.859375 10.171875 \nQ 46.921875 13.96875 46.921875 20.515625 \nQ 46.921875 27.09375 42.890625 30.859375 \nQ 38.875 34.625 31.78125 34.625 \nz\nM 21.921875 38.8125 \nQ 15.578125 40.375 12.03125 44.71875 \nQ 8.5 49.078125 8.5 55.328125 \nQ 8.5 64.0625 14.71875 69.140625 \nQ 20.953125 74.21875 31.78125 74.21875 \nQ 42.671875 74.21875 48.875 69.140625 \nQ 55.078125 64.0625 55.078125 55.328125 \nQ 55.078125 49.078125 51.53125 44.71875 \nQ 48 40.375 41.703125 38.8125 \nQ 48.828125 37.15625 52.796875 32.3125 \nQ 56.78125 27.484375 56.78125 20.515625 \nQ 56.78125 9.90625 50.3125 4.234375 \nQ 43.84375 -1.421875 31.78125 -1.421875 \nQ 19.734375 -1.421875 13.25 4.234375 \nQ 6.78125 9.90625 6.78125 20.515625 \nQ 6.78125 27.484375 10.78125 32.3125 \nQ 14.796875 37.15625 21.921875 38.8125 \nz\nM 18.3125 54.390625 \nQ 18.3125 48.734375 21.84375 45.5625 \nQ 25.390625 42.390625 31.78125 42.390625 \nQ 38.140625 42.390625 41.71875 45.5625 \nQ 45.3125 48.734375 45.3125 54.390625 \nQ 45.3125 60.0625 41.71875 63.234375 \nQ 38.140625 66.40625 31.78125 66.40625 \nQ 25.390625 66.40625 21.84375 63.234375 \nQ 18.3125 60.0625 18.3125 54.390625 \nz\n\" id=\"DejaVuSans-56\"/>\n      </defs>\n      <g transform=\"translate(20.878125 31.581568)scale(0.1 -0.1)\">\n       <use xlink:href=\"#DejaVuSans-48\"/>\n       <use x=\"63.623047\" xlink:href=\"#DejaVuSans-46\"/>\n       <use x=\"95.410156\" xlink:href=\"#DejaVuSans-48\"/>\n       <use x=\"159.033203\" xlink:href=\"#DejaVuSans-56\"/>\n      </g>\n     </g>\n    </g>\n    <g id=\"text_11\">\n     <!-- loss -->\n     <defs>\n      <path d=\"M 9.421875 75.984375 \nL 18.40625 75.984375 \nL 18.40625 0 \nL 9.421875 0 \nz\n\" id=\"DejaVuSans-108\"/>\n      <path d=\"M 44.28125 53.078125 \nL 44.28125 44.578125 \nQ 40.484375 46.53125 36.375 47.5 \nQ 32.28125 48.484375 27.875 48.484375 \nQ 21.1875 48.484375 17.84375 46.4375 \nQ 14.5 44.390625 14.5 40.28125 \nQ 14.5 37.15625 16.890625 35.375 \nQ 19.28125 33.59375 26.515625 31.984375 \nL 29.59375 31.296875 \nQ 39.15625 29.25 43.1875 25.515625 \nQ 47.21875 21.78125 47.21875 15.09375 \nQ 47.21875 7.46875 41.1875 3.015625 \nQ 35.15625 -1.421875 24.609375 -1.421875 \nQ 20.21875 -1.421875 15.453125 -0.5625 \nQ 10.6875 0.296875 5.421875 2 \nL 5.421875 11.28125 \nQ 10.40625 8.6875 15.234375 7.390625 \nQ 20.0625 6.109375 24.8125 6.109375 \nQ 31.15625 6.109375 34.5625 8.28125 \nQ 37.984375 10.453125 37.984375 14.40625 \nQ 37.984375 18.0625 35.515625 20.015625 \nQ 33.0625 21.96875 24.703125 23.78125 \nL 21.578125 24.515625 \nQ 13.234375 26.265625 9.515625 29.90625 \nQ 5.8125 33.546875 5.8125 39.890625 \nQ 5.8125 47.609375 11.28125 51.796875 \nQ 16.75 56 26.8125 56 \nQ 31.78125 56 36.171875 55.265625 \nQ 40.578125 54.546875 44.28125 53.078125 \nz\n\" id=\"DejaVuSans-115\"/>\n     </defs>\n     <g transform=\"translate(14.798437 84.807812)rotate(-90)scale(0.1 -0.1)\">\n      <use xlink:href=\"#DejaVuSans-108\"/>\n      <use x=\"27.783203\" xlink:href=\"#DejaVuSans-111\"/>\n      <use x=\"88.964844\" xlink:href=\"#DejaVuSans-115\"/>\n      <use x=\"141.064453\" xlink:href=\"#DejaVuSans-115\"/>\n     </g>\n    </g>\n   </g>\n   <g id=\"line2d_19\">\n    <path clip-path=\"url(#p58b8bbb507)\" d=\"M 50.14375 99.991692 \nL 54.129464 129.388497 \nL 58.115179 135.386662 \nL 62.100893 136.922727 \nL 66.086607 134.315864 \nL 70.072321 132.042009 \nL 74.058036 130.794347 \nL 78.04375 131.121923 \nL 82.029464 129.395781 \nL 86.015179 127.625663 \nL 90.000893 125.035436 \nL 93.986607 122.619925 \nL 97.972321 121.214104 \nL 101.958036 118.494311 \nL 105.94375 117.287581 \nL 109.929464 116.484582 \nL 113.915179 115.27653 \nL 117.900893 114.532659 \nL 121.886607 113.269591 \nL 125.872321 110.774086 \nL 129.858036 110.127369 \nL 133.84375 108.088311 \nL 137.829464 106.50132 \nL 141.815179 105.413217 \nL 145.800893 104.835995 \nL 149.786607 103.990422 \nL 153.772321 103.399385 \nL 157.758036 102.270406 \nL 161.74375 101.685211 \nL 165.729464 101.236225 \nL 169.715179 100.549976 \nL 173.700893 100.059077 \nL 177.686607 99.434335 \nL 181.672321 99.161898 \nL 185.658036 99.048213 \nL 189.64375 98.552585 \nL 193.629464 98.155552 \nL 197.615179 98.093088 \nL 201.600893 98.049008 \nL 205.586607 97.926313 \nL 209.572321 97.265011 \nL 213.558036 97.059222 \nL 217.54375 96.764091 \nL 221.529464 96.877838 \nL 225.515179 96.715465 \nL 229.500893 96.570261 \nL 233.486607 96.431663 \nL 237.472321 96.475228 \nL 241.458036 96.277982 \nL 245.44375 95.986618 \n\" style=\"fill:none;stroke:#1f77b4;stroke-linecap:square;stroke-width:1.5;\"/>\n   </g>\n   <g id=\"line2d_20\">\n    <path clip-path=\"url(#p58b8bbb507)\" d=\"M 50.14375 120.075394 \nL 54.129464 28.628844 \nL 58.115179 23.676605 \nL 62.100893 13.377273 \nL 66.086607 24.303398 \nL 70.072321 30.878038 \nL 74.058036 35.079569 \nL 78.04375 34.657428 \nL 82.029464 40.586709 \nL 86.015179 45.129895 \nL 90.000893 52.943722 \nL 93.986607 60.26704 \nL 97.972321 63.02171 \nL 101.958036 71.740258 \nL 105.94375 75.04919 \nL 109.929464 76.542481 \nL 113.915179 79.627358 \nL 117.900893 81.533195 \nL 121.886607 84.135637 \nL 125.872321 88.583047 \nL 129.858036 90.153524 \nL 133.84375 94.53757 \nL 137.829464 97.897616 \nL 141.815179 99.902629 \nL 145.800893 101.377617 \nL 149.786607 102.643419 \nL 153.772321 104.373134 \nL 157.758036 106.385784 \nL 161.74375 107.412609 \nL 165.729464 108.358012 \nL 169.715179 109.431715 \nL 173.700893 110.853674 \nL 177.686607 111.352946 \nL 181.672321 111.784799 \nL 185.658036 111.855078 \nL 189.64375 113.009642 \nL 193.629464 113.155385 \nL 197.615179 113.678769 \nL 201.600893 113.833423 \nL 205.586607 114.028409 \nL 209.572321 114.821906 \nL 213.558036 115.37208 \nL 217.54375 115.916364 \nL 221.529464 115.683103 \nL 225.515179 116.057022 \nL 229.500893 116.333372 \nL 233.486607 116.671531 \nL 237.472321 116.354767 \nL 241.458036 117.014679 \nL 245.44375 117.450383 \n\" style=\"fill:none;stroke:#bf00bf;stroke-dasharray:5.55,2.4;stroke-dashoffset:0;stroke-width:1.5;\"/>\n   </g>\n   <g id=\"patch_3\">\n    <path d=\"M 50.14375 143.1 \nL 50.14375 7.2 \n\" style=\"fill:none;stroke:#000000;stroke-linecap:square;stroke-linejoin:miter;stroke-width:0.8;\"/>\n   </g>\n   <g id=\"patch_4\">\n    <path d=\"M 245.44375 143.1 \nL 245.44375 7.2 \n\" style=\"fill:none;stroke:#000000;stroke-linecap:square;stroke-linejoin:miter;stroke-width:0.8;\"/>\n   </g>\n   <g id=\"patch_5\">\n    <path d=\"M 50.14375 143.1 \nL 245.44375 143.1 \n\" style=\"fill:none;stroke:#000000;stroke-linecap:square;stroke-linejoin:miter;stroke-width:0.8;\"/>\n   </g>\n   <g id=\"patch_6\">\n    <path d=\"M 50.14375 7.2 \nL 245.44375 7.2 \n\" style=\"fill:none;stroke:#000000;stroke-linecap:square;stroke-linejoin:miter;stroke-width:0.8;\"/>\n   </g>\n   <g id=\"legend_1\">\n    <g id=\"patch_7\">\n     <path d=\"M 140.585938 44.55625 \nL 238.44375 44.55625 \nQ 240.44375 44.55625 240.44375 42.55625 \nL 240.44375 14.2 \nQ 240.44375 12.2 238.44375 12.2 \nL 140.585938 12.2 \nQ 138.585938 12.2 138.585938 14.2 \nL 138.585938 42.55625 \nQ 138.585938 44.55625 140.585938 44.55625 \nz\n\" style=\"fill:#ffffff;opacity:0.8;stroke:#cccccc;stroke-linejoin:miter;\"/>\n    </g>\n    <g id=\"line2d_21\">\n     <path d=\"M 142.585938 20.298437 \nL 162.585938 20.298437 \n\" style=\"fill:none;stroke:#1f77b4;stroke-linecap:square;stroke-width:1.5;\"/>\n    </g>\n    <g id=\"line2d_22\"/>\n    <g id=\"text_12\">\n     <!-- discriminator -->\n     <defs>\n      <path d=\"M 45.40625 46.390625 \nL 45.40625 75.984375 \nL 54.390625 75.984375 \nL 54.390625 0 \nL 45.40625 0 \nL 45.40625 8.203125 \nQ 42.578125 3.328125 38.25 0.953125 \nQ 33.9375 -1.421875 27.875 -1.421875 \nQ 17.96875 -1.421875 11.734375 6.484375 \nQ 5.515625 14.40625 5.515625 27.296875 \nQ 5.515625 40.1875 11.734375 48.09375 \nQ 17.96875 56 27.875 56 \nQ 33.9375 56 38.25 53.625 \nQ 42.578125 51.265625 45.40625 46.390625 \nz\nM 14.796875 27.296875 \nQ 14.796875 17.390625 18.875 11.75 \nQ 22.953125 6.109375 30.078125 6.109375 \nQ 37.203125 6.109375 41.296875 11.75 \nQ 45.40625 17.390625 45.40625 27.296875 \nQ 45.40625 37.203125 41.296875 42.84375 \nQ 37.203125 48.484375 30.078125 48.484375 \nQ 22.953125 48.484375 18.875 42.84375 \nQ 14.796875 37.203125 14.796875 27.296875 \nz\n\" id=\"DejaVuSans-100\"/>\n      <path d=\"M 9.421875 54.6875 \nL 18.40625 54.6875 \nL 18.40625 0 \nL 9.421875 0 \nz\nM 9.421875 75.984375 \nL 18.40625 75.984375 \nL 18.40625 64.59375 \nL 9.421875 64.59375 \nz\n\" id=\"DejaVuSans-105\"/>\n      <path d=\"M 41.109375 46.296875 \nQ 39.59375 47.171875 37.8125 47.578125 \nQ 36.03125 48 33.890625 48 \nQ 26.265625 48 22.1875 43.046875 \nQ 18.109375 38.09375 18.109375 28.8125 \nL 18.109375 0 \nL 9.078125 0 \nL 9.078125 54.6875 \nL 18.109375 54.6875 \nL 18.109375 46.1875 \nQ 20.953125 51.171875 25.484375 53.578125 \nQ 30.03125 56 36.53125 56 \nQ 37.453125 56 38.578125 55.875 \nQ 39.703125 55.765625 41.0625 55.515625 \nz\n\" id=\"DejaVuSans-114\"/>\n      <path d=\"M 52 44.1875 \nQ 55.375 50.25 60.0625 53.125 \nQ 64.75 56 71.09375 56 \nQ 79.640625 56 84.28125 50.015625 \nQ 88.921875 44.046875 88.921875 33.015625 \nL 88.921875 0 \nL 79.890625 0 \nL 79.890625 32.71875 \nQ 79.890625 40.578125 77.09375 44.375 \nQ 74.3125 48.1875 68.609375 48.1875 \nQ 61.625 48.1875 57.5625 43.546875 \nQ 53.515625 38.921875 53.515625 30.90625 \nL 53.515625 0 \nL 44.484375 0 \nL 44.484375 32.71875 \nQ 44.484375 40.625 41.703125 44.40625 \nQ 38.921875 48.1875 33.109375 48.1875 \nQ 26.21875 48.1875 22.15625 43.53125 \nQ 18.109375 38.875 18.109375 30.90625 \nL 18.109375 0 \nL 9.078125 0 \nL 9.078125 54.6875 \nL 18.109375 54.6875 \nL 18.109375 46.1875 \nQ 21.1875 51.21875 25.484375 53.609375 \nQ 29.78125 56 35.6875 56 \nQ 41.65625 56 45.828125 52.96875 \nQ 50 49.953125 52 44.1875 \nz\n\" id=\"DejaVuSans-109\"/>\n      <path d=\"M 54.890625 33.015625 \nL 54.890625 0 \nL 45.90625 0 \nL 45.90625 32.71875 \nQ 45.90625 40.484375 42.875 44.328125 \nQ 39.84375 48.1875 33.796875 48.1875 \nQ 26.515625 48.1875 22.3125 43.546875 \nQ 18.109375 38.921875 18.109375 30.90625 \nL 18.109375 0 \nL 9.078125 0 \nL 9.078125 54.6875 \nL 18.109375 54.6875 \nL 18.109375 46.1875 \nQ 21.34375 51.125 25.703125 53.5625 \nQ 30.078125 56 35.796875 56 \nQ 45.21875 56 50.046875 50.171875 \nQ 54.890625 44.34375 54.890625 33.015625 \nz\n\" id=\"DejaVuSans-110\"/>\n      <path d=\"M 34.28125 27.484375 \nQ 23.390625 27.484375 19.1875 25 \nQ 14.984375 22.515625 14.984375 16.5 \nQ 14.984375 11.71875 18.140625 8.90625 \nQ 21.296875 6.109375 26.703125 6.109375 \nQ 34.1875 6.109375 38.703125 11.40625 \nQ 43.21875 16.703125 43.21875 25.484375 \nL 43.21875 27.484375 \nz\nM 52.203125 31.203125 \nL 52.203125 0 \nL 43.21875 0 \nL 43.21875 8.296875 \nQ 40.140625 3.328125 35.546875 0.953125 \nQ 30.953125 -1.421875 24.3125 -1.421875 \nQ 15.921875 -1.421875 10.953125 3.296875 \nQ 6 8.015625 6 15.921875 \nQ 6 25.140625 12.171875 29.828125 \nQ 18.359375 34.515625 30.609375 34.515625 \nL 43.21875 34.515625 \nL 43.21875 35.40625 \nQ 43.21875 41.609375 39.140625 45 \nQ 35.0625 48.390625 27.6875 48.390625 \nQ 23 48.390625 18.546875 47.265625 \nQ 14.109375 46.140625 10.015625 43.890625 \nL 10.015625 52.203125 \nQ 14.9375 54.109375 19.578125 55.046875 \nQ 24.21875 56 28.609375 56 \nQ 40.484375 56 46.34375 49.84375 \nQ 52.203125 43.703125 52.203125 31.203125 \nz\n\" id=\"DejaVuSans-97\"/>\n      <path d=\"M 18.3125 70.21875 \nL 18.3125 54.6875 \nL 36.8125 54.6875 \nL 36.8125 47.703125 \nL 18.3125 47.703125 \nL 18.3125 18.015625 \nQ 18.3125 11.328125 20.140625 9.421875 \nQ 21.96875 7.515625 27.59375 7.515625 \nL 36.8125 7.515625 \nL 36.8125 0 \nL 27.59375 0 \nQ 17.1875 0 13.234375 3.875 \nQ 9.28125 7.765625 9.28125 18.015625 \nL 9.28125 47.703125 \nL 2.6875 47.703125 \nL 2.6875 54.6875 \nL 9.28125 54.6875 \nL 9.28125 70.21875 \nz\n\" id=\"DejaVuSans-116\"/>\n     </defs>\n     <g transform=\"translate(170.585938 23.798437)scale(0.1 -0.1)\">\n      <use xlink:href=\"#DejaVuSans-100\"/>\n      <use x=\"63.476562\" xlink:href=\"#DejaVuSans-105\"/>\n      <use x=\"91.259766\" xlink:href=\"#DejaVuSans-115\"/>\n      <use x=\"143.359375\" xlink:href=\"#DejaVuSans-99\"/>\n      <use x=\"198.339844\" xlink:href=\"#DejaVuSans-114\"/>\n      <use x=\"239.453125\" xlink:href=\"#DejaVuSans-105\"/>\n      <use x=\"267.236328\" xlink:href=\"#DejaVuSans-109\"/>\n      <use x=\"364.648438\" xlink:href=\"#DejaVuSans-105\"/>\n      <use x=\"392.431641\" xlink:href=\"#DejaVuSans-110\"/>\n      <use x=\"455.810547\" xlink:href=\"#DejaVuSans-97\"/>\n      <use x=\"517.089844\" xlink:href=\"#DejaVuSans-116\"/>\n      <use x=\"556.298828\" xlink:href=\"#DejaVuSans-111\"/>\n      <use x=\"617.480469\" xlink:href=\"#DejaVuSans-114\"/>\n     </g>\n    </g>\n    <g id=\"line2d_23\">\n     <path d=\"M 142.585938 34.976562 \nL 162.585938 34.976562 \n\" style=\"fill:none;stroke:#bf00bf;stroke-dasharray:5.55,2.4;stroke-dashoffset:0;stroke-width:1.5;\"/>\n    </g>\n    <g id=\"line2d_24\"/>\n    <g id=\"text_13\">\n     <!-- generator -->\n     <defs>\n      <path d=\"M 45.40625 27.984375 \nQ 45.40625 37.75 41.375 43.109375 \nQ 37.359375 48.484375 30.078125 48.484375 \nQ 22.859375 48.484375 18.828125 43.109375 \nQ 14.796875 37.75 14.796875 27.984375 \nQ 14.796875 18.265625 18.828125 12.890625 \nQ 22.859375 7.515625 30.078125 7.515625 \nQ 37.359375 7.515625 41.375 12.890625 \nQ 45.40625 18.265625 45.40625 27.984375 \nz\nM 54.390625 6.78125 \nQ 54.390625 -7.171875 48.1875 -13.984375 \nQ 42 -20.796875 29.203125 -20.796875 \nQ 24.46875 -20.796875 20.265625 -20.09375 \nQ 16.0625 -19.390625 12.109375 -17.921875 \nL 12.109375 -9.1875 \nQ 16.0625 -11.328125 19.921875 -12.34375 \nQ 23.78125 -13.375 27.78125 -13.375 \nQ 36.625 -13.375 41.015625 -8.765625 \nQ 45.40625 -4.15625 45.40625 5.171875 \nL 45.40625 9.625 \nQ 42.625 4.78125 38.28125 2.390625 \nQ 33.9375 0 27.875 0 \nQ 17.828125 0 11.671875 7.65625 \nQ 5.515625 15.328125 5.515625 27.984375 \nQ 5.515625 40.671875 11.671875 48.328125 \nQ 17.828125 56 27.875 56 \nQ 33.9375 56 38.28125 53.609375 \nQ 42.625 51.21875 45.40625 46.390625 \nL 45.40625 54.6875 \nL 54.390625 54.6875 \nz\n\" id=\"DejaVuSans-103\"/>\n     </defs>\n     <g transform=\"translate(170.585938 38.476562)scale(0.1 -0.1)\">\n      <use xlink:href=\"#DejaVuSans-103\"/>\n      <use x=\"63.476562\" xlink:href=\"#DejaVuSans-101\"/>\n      <use x=\"125\" xlink:href=\"#DejaVuSans-110\"/>\n      <use x=\"188.378906\" xlink:href=\"#DejaVuSans-101\"/>\n      <use x=\"249.902344\" xlink:href=\"#DejaVuSans-114\"/>\n      <use x=\"291.015625\" xlink:href=\"#DejaVuSans-97\"/>\n      <use x=\"352.294922\" xlink:href=\"#DejaVuSans-116\"/>\n      <use x=\"391.503906\" xlink:href=\"#DejaVuSans-111\"/>\n      <use x=\"452.685547\" xlink:href=\"#DejaVuSans-114\"/>\n     </g>\n    </g>\n   </g>\n  </g>\n </g>\n <defs>\n  <clipPath id=\"p58b8bbb507\">\n   <rect height=\"135.9\" width=\"195.3\" x=\"50.14375\" y=\"7.2\"/>\n  </clipPath>\n </defs>\n</svg>\n"
          },
          "metadata": {
            "needs_background": "light"
          }
        }
      ]
    },
    {
      "cell_type": "code",
      "metadata": {
        "id": "ES0pyDZLRrlS"
      },
      "source": [
        "torch.save(generator.state_dict(), 'generator_state.pt')"
      ],
      "execution_count": 15,
      "outputs": []
    },
    {
      "cell_type": "code",
      "metadata": {
        "colab": {
          "base_uri": "https://localhost:8080/",
          "height": 783
        },
        "id": "auFc15VbRt6-",
        "outputId": "4b71c923-b024-479f-99c6-121be04c7bdd"
      },
      "source": [
        "z = Variable(torch.randn(100, 100)).cuda()\n",
        "labels = torch.LongTensor([i for i in range(10) for _ in range(10)]).cuda()\n",
        "images = generator(z, labels).unsqueeze(1)\n",
        "grid = make_grid(images, nrow=10, normalize=True)\n",
        "fig, ax = plt.subplots(figsize=(10,10))\n",
        "ax.imshow(grid.cpu().permute(1, 2, 0).data, cmap='binary')\n",
        "ax.axis('off')"
      ],
      "execution_count": 17,
      "outputs": [
        {
          "output_type": "execute_result",
          "data": {
            "text/plain": [
              "(-0.5, 301.5, 301.5, -0.5)"
            ]
          },
          "metadata": {},
          "execution_count": 17
        },
        {
          "output_type": "display_data",
          "data": {
            "text/plain": [
              "<Figure size 720x720 with 1 Axes>"
            ],
            "image/svg+xml": "<?xml version=\"1.0\" encoding=\"utf-8\" standalone=\"no\"?>\n<!DOCTYPE svg PUBLIC \"-//W3C//DTD SVG 1.1//EN\"\n  \"http://www.w3.org/Graphics/SVG/1.1/DTD/svg11.dtd\">\n<!-- Created with matplotlib (https://matplotlib.org/) -->\n<svg height=\"558pt\" version=\"1.1\" viewBox=\"0 0 558 558\" width=\"558pt\" xmlns=\"http://www.w3.org/2000/svg\" xmlns:xlink=\"http://www.w3.org/1999/xlink\">\n <defs>\n  <style type=\"text/css\">\n*{stroke-linecap:butt;stroke-linejoin:round;}\n  </style>\n </defs>\n <g id=\"figure_1\">\n  <g id=\"patch_1\">\n   <path d=\"M 0 558 \nL 558 558 \nL 558 0 \nL 0 0 \nz\n\" style=\"fill:none;\"/>\n  </g>\n  <g id=\"axes_1\">\n   <g clip-path=\"url(#p62758d0368)\">\n    <image height=\"544\" id=\"image9b3d94a664\" transform=\"scale(1 -1)translate(0 -544)\" width=\"544\" x=\"7.2\" xlink:href=\"data:image/png;base64,\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\" y=\"-6.8\"/>\n   </g>\n  </g>\n </g>\n <defs>\n  <clipPath id=\"p62758d0368\">\n   <rect height=\"543.6\" width=\"543.6\" x=\"7.2\" y=\"7.2\"/>\n  </clipPath>\n </defs>\n</svg>\n"
          },
          "metadata": {
            "needs_background": "light"
          }
        }
      ]
    },
    {
      "cell_type": "markdown",
      "metadata": {
        "id": "zlhHeFIlR-Jc"
      },
      "source": [
        "#Generate fake images with labels"
      ]
    },
    {
      "cell_type": "code",
      "metadata": {
        "colab": {
          "base_uri": "https://localhost:8080/",
          "height": 45
        },
        "id": "z6QEePwRRvhh",
        "outputId": "f683914f-5760-4c41-b179-dda0a94b7fb3"
      },
      "source": [
        "def generate_digit(generator, digit):\n",
        "    z = Variable(torch.randn(1, 100)).cuda()\n",
        "    label = torch.LongTensor([digit]).cuda()\n",
        "    img = generator(z, label).data.cpu()\n",
        "    img = 0.5 * img + 0.5\n",
        "    return transforms.ToPILImage()(img)\n",
        "    \n",
        "generate_digit(generator, 8)\n"
      ],
      "execution_count": 22,
      "outputs": [
        {
          "output_type": "execute_result",
          "data": {
            "image/png": "[encoded data removed]",
            "text/plain": [
              "<PIL.Image.Image image mode=L size=28x28 at 0x7FE5D0760C90>"
            ]
          },
          "metadata": {},
          "execution_count": 22
        }
      ]
    }
  ]
}